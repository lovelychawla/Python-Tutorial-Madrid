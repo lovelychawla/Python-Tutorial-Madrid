{
 "cells": [
  {
   "cell_type": "code",
   "execution_count": 2,
   "id": "7fa7c547-f0ba-4196-8e8f-e73648f5fd8e",
   "metadata": {},
   "outputs": [
    {
     "name": "stdout",
     "output_type": "stream",
     "text": [
      "T\n",
      "i\n",
      "r\n",
      "u\n",
      "v\n",
      "a\n",
      "n\n",
      "t\n",
      "a\n",
      "m\n",
      "p\n",
      "u\n",
      "r\n",
      "a\n",
      "m\n"
     ]
    }
   ],
   "source": [
    "#For Loop\n",
    "for i in \"Tiruvantampuram\":\n",
    "      print(i)"
   ]
  },
  {
   "cell_type": "code",
   "execution_count": 6,
   "id": "d0fe3894-ed93-44e8-a7e1-d61c04982b11",
   "metadata": {},
   "outputs": [
    {
     "name": "stdout",
     "output_type": "stream",
     "text": [
      "i\n",
      "u\n",
      "a\n",
      "a\n",
      "u\n",
      "a\n"
     ]
    }
   ],
   "source": [
    "for i in \"Tiruvantampuram\":\n",
    "     if i in ['a', 'e', 'i', 'o', 'u']:\n",
    "             print(i)"
   ]
  },
  {
   "cell_type": "code",
   "execution_count": 7,
   "id": "1735d9e3-2364-4085-9bf1-aef49c099cc1",
   "metadata": {},
   "outputs": [
    {
     "name": "stdout",
     "output_type": "stream",
     "text": [
      "T\n",
      "r\n",
      "v\n",
      "n\n",
      "t\n",
      "m\n",
      "p\n",
      "r\n",
      "m\n"
     ]
    }
   ],
   "source": [
    "for i in \"Tiruvantampuram\":\n",
    "     if i not in ['a', 'e', 'i', 'o', 'u']:\n",
    "             print(i)"
   ]
  },
  {
   "cell_type": "code",
   "execution_count": 9,
   "id": "b2c832f9-4e6a-45bd-ae4e-c5020862161e",
   "metadata": {},
   "outputs": [
    {
     "name": "stdout",
     "output_type": "stream",
     "text": [
      "23\n",
      "25\n",
      "27\n",
      "29\n",
      "20\n"
     ]
    }
   ],
   "source": [
    "for i in [23,25,27,29,20]:\n",
    "      print(i)"
   ]
  },
  {
   "cell_type": "code",
   "execution_count": 10,
   "id": "8b1b0b0e-2ea2-4a3f-90b1-cffc980a60a8",
   "metadata": {},
   "outputs": [
    {
     "name": "stdout",
     "output_type": "stream",
     "text": [
      "0\n",
      "1\n",
      "2\n",
      "3\n",
      "4\n",
      "5\n",
      "6\n",
      "7\n",
      "8\n",
      "9\n"
     ]
    }
   ],
   "source": [
    "#Range()\n",
    "for i in range(10):\n",
    "    print(i)"
   ]
  },
  {
   "cell_type": "code",
   "execution_count": 12,
   "id": "7d679f84-383e-4aa6-ac29-a32886583294",
   "metadata": {},
   "outputs": [
    {
     "name": "stdout",
     "output_type": "stream",
     "text": [
      "1\n",
      "2\n",
      "3\n",
      "4\n",
      "5\n",
      "6\n",
      "7\n",
      "8\n",
      "9\n",
      "10\n"
     ]
    }
   ],
   "source": [
    "for i in range(1,11):\n",
    "      print(i)"
   ]
  },
  {
   "cell_type": "code",
   "execution_count": 14,
   "id": "cb8c2c17-43fc-4de1-aff1-7c9faa33af87",
   "metadata": {},
   "outputs": [
    {
     "name": "stdout",
     "output_type": "stream",
     "text": [
      "1 5 9 13 17 21 25 29 33 37 41 45 49 53 57 61 65 69 73 77 81 85 89 93 97 "
     ]
    }
   ],
   "source": [
    "for i in range(1,100,4):\n",
    "    print(i,end=\" \")"
   ]
  },
  {
   "cell_type": "code",
   "execution_count": 17,
   "id": "b202976c-d660-4628-b1da-99e4b966a792",
   "metadata": {},
   "outputs": [
    {
     "name": "stdout",
     "output_type": "stream",
     "text": [
      "2 4 6 8 10 12 14 16 18 20 22 24 26 28 30 32 34 36 38 40 42 44 46 48 50 52 54 56 58 60 62 64 66 68 70 72 74 76 78 80 82 84 86 88 90 92 94 96 98 100 "
     ]
    }
   ],
   "source": [
    "for i in range(1,101):\n",
    "    if i%2==0:\n",
    "      print(i,end=\" \")"
   ]
  },
  {
   "cell_type": "code",
   "execution_count": 19,
   "id": "ba251d5f-9e0c-4d06-a8ef-78f0d621f928",
   "metadata": {},
   "outputs": [
    {
     "name": "stdout",
     "output_type": "stream",
     "text": [
      "the sum of even numbers 2450\n",
      "the sum of Odd numbers 2500\n"
     ]
    }
   ],
   "source": [
    "#sum of even numbers & odd Numbers Seprately\n",
    "se=0\n",
    "so=0\n",
    "for i in range(1,100):\n",
    "    if i%2==0:\n",
    "        se=se+i\n",
    "    else:\n",
    "        so=so+i\n",
    "print(\"the sum of even numbers\",se)\n",
    "print(\"the sum of Odd numbers\",so)\n",
    "\n"
   ]
  },
  {
   "cell_type": "code",
   "execution_count": 26,
   "id": "9a606c5c-be24-416d-9dbd-3abd8aeeb9b1",
   "metadata": {},
   "outputs": [
    {
     "name": "stdout",
     "output_type": "stream",
     "text": [
      "100 99 98 97 96 95 94 93 92 91 90 89 88 87 86 85 84 83 82 81 80 79 78 77 76 75 74 73 72 71 70 69 68 67 66 65 64 63 62 61 60 59 58 57 56 55 54 53 52 51 50 49 48 47 46 45 44 43 42 41 40 39 38 37 36 35 34 33 32 31 30 29 28 27 26 25 24 23 22 21 20 19 18 17 16 15 14 13 12 11 10 9 8 7 6 5 4 3 2 1 "
     ]
    }
   ],
   "source": [
    "for i in range(100,0,-1):\n",
    "        print(i,end=\" \")"
   ]
  },
  {
   "cell_type": "code",
   "execution_count": 28,
   "id": "edf10b72-4cfe-4814-9341-6a8af4880211",
   "metadata": {},
   "outputs": [
    {
     "name": "stdin",
     "output_type": "stream",
     "text": [
      "enter the number 12\n"
     ]
    },
    {
     "name": "stdout",
     "output_type": "stream",
     "text": [
      "12 * 1 = 12\n",
      "12 * 2 = 24\n",
      "12 * 3 = 36\n",
      "12 * 4 = 48\n",
      "12 * 5 = 60\n",
      "12 * 6 = 72\n",
      "12 * 7 = 84\n",
      "12 * 8 = 96\n",
      "12 * 9 = 108\n",
      "12 * 10 = 120\n"
     ]
    }
   ],
   "source": [
    "#Table\n",
    "n=int(input(\"enter the number\"))\n",
    "for i in range(1,11):\n",
    "     print(n,\"*\",i, \"=\", n*i)"
   ]
  },
  {
   "cell_type": "code",
   "execution_count": 29,
   "id": "ffd62475-78fa-46c0-8a9e-986b9de71338",
   "metadata": {},
   "outputs": [
    {
     "name": "stdin",
     "output_type": "stream",
     "text": [
      "enter the number 9\n"
     ]
    },
    {
     "name": "stdout",
     "output_type": "stream",
     "text": [
      "the fractorial is 362880\n"
     ]
    }
   ],
   "source": [
    "#Factorial\n",
    "n=int(input(\"enter the number\"))\n",
    "f=1\n",
    "for i in range (n,0,-1):\n",
    "    f=f*i\n",
    "print(\"the fractorial is\", f)"
   ]
  },
  {
   "cell_type": "code",
   "execution_count": 33,
   "id": "bc22fbc0-a330-43a5-ba16-2b67bf9329dc",
   "metadata": {},
   "outputs": [
    {
     "name": "stdin",
     "output_type": "stream",
     "text": [
      "enter the number 32\n"
     ]
    },
    {
     "name": "stdout",
     "output_type": "stream",
     "text": [
      "1\n",
      "2\n",
      "4\n",
      "8\n",
      "16\n",
      "32\n"
     ]
    }
   ],
   "source": [
    "#Factors\n",
    "n=int(input(\"enter the number\"))\n",
    "for i in range(1,n+1):\n",
    "    if n%i==0:\n",
    "        print(i)"
   ]
  },
  {
   "cell_type": "code",
   "execution_count": 45,
   "id": "d8c1a5af-a425-42a6-9fcd-2ee504d51393",
   "metadata": {},
   "outputs": [
    {
     "name": "stdout",
     "output_type": "stream",
     "text": [
      "2 3 5 7 11 13 17 19 23 29 31 37 41 43 47 53 59 61 67 71 73 79 83 89 97 "
     ]
    }
   ],
   "source": [
    "for i in range(1,100):\n",
    "     n=i\n",
    "     j=1\n",
    "     co=0\n",
    "     while j<=n:\n",
    "         if n%j==0:\n",
    "            co=co+1\n",
    "         j=j+1\n",
    "     if co==2:\n",
    "            print(i, end=\" \")"
   ]
  },
  {
   "cell_type": "code",
   "execution_count": 5,
   "id": "4fded2ca-3886-40d0-96f2-c3f3578e0531",
   "metadata": {},
   "outputs": [
    {
     "name": "stdout",
     "output_type": "stream",
     "text": [
      "11 22 33 44 55 66 77 88 99 101 111 121 131 141 151 161 171 181 191 202 212 222 232 242 252 262 272 282 292 303 313 323 333 343 353 363 373 383 393 404 414 424 434 444 454 464 474 484 494 505 515 525 535 545 555 565 575 585 595 606 616 626 636 646 656 666 676 686 696 707 717 727 737 747 757 767 777 787 797 808 818 828 838 848 858 868 878 888 898 909 919 929 939 949 959 969 979 989 "
     ]
    }
   ],
   "source": [
    "#Palendrum number in given\n",
    "for i in range (11,999):\n",
    "    n=i\n",
    "    rev=0\n",
    "    while n>0:\n",
    "        rev=rev*10+n%10\n",
    "        n=n//10\n",
    "    if rev==i:\n",
    "          print(i,end=\" \")\n",
    "\n"
   ]
  },
  {
   "cell_type": "code",
   "execution_count": 5,
   "id": "e1c4f64b-4ca2-4de2-b81e-487d56a97128",
   "metadata": {},
   "outputs": [
    {
     "name": "stdout",
     "output_type": "stream",
     "text": [
      "* * * * * \n",
      "* * * * * \n",
      "* * * * * \n",
      "* * * * * \n",
      "* * * * * \n"
     ]
    }
   ],
   "source": [
    "#Nested For Loop\n",
    "for i in range(5):\n",
    "    for j in range(5):\n",
    "        print(\"*\", end=\" \")\n",
    "    print()"
   ]
  },
  {
   "cell_type": "code",
   "execution_count": 9,
   "id": "93084796-2029-4a6d-a53a-f4831440c801",
   "metadata": {},
   "outputs": [
    {
     "name": "stdout",
     "output_type": "stream",
     "text": [
      "* \n",
      "* * \n",
      "* * * \n",
      "* * * * \n",
      "* * * * * \n"
     ]
    }
   ],
   "source": [
    "for i in range(5):\n",
    "    for j in range(i+1):\n",
    "        print(\"*\", end=\" \")\n",
    "    print()"
   ]
  },
  {
   "cell_type": "code",
   "execution_count": 11,
   "id": "b8444cf8-39e3-4e5d-935c-4daaeb5f55dd",
   "metadata": {},
   "outputs": [
    {
     "name": "stdout",
     "output_type": "stream",
     "text": [
      "1 \n",
      "2 2 \n",
      "3 3 3 \n",
      "4 4 4 4 \n",
      "5 5 5 5 5 \n"
     ]
    }
   ],
   "source": [
    "for i in range(1,6):\n",
    "    for j in range(i):\n",
    "        print(i, end=\" \")\n",
    "    print()"
   ]
  },
  {
   "cell_type": "code",
   "execution_count": 12,
   "id": "c3613525-28a0-4c55-b887-0344ccd6ca45",
   "metadata": {},
   "outputs": [
    {
     "name": "stdout",
     "output_type": "stream",
     "text": [
      "0 \n",
      "0 1 \n",
      "0 1 2 \n",
      "0 1 2 3 \n",
      "0 1 2 3 4 \n"
     ]
    }
   ],
   "source": [
    "for i in range(1,6):\n",
    "    for j in range(i):\n",
    "        print(j, end=\" \")\n",
    "    print()"
   ]
  },
  {
   "cell_type": "code",
   "execution_count": 14,
   "id": "b1d24362-1e45-40fc-b9cc-9bf632b0a055",
   "metadata": {},
   "outputs": [
    {
     "name": "stdout",
     "output_type": "stream",
     "text": [
      "1\n",
      "23\n",
      "456\n",
      "78910\n",
      "1112131415\n"
     ]
    }
   ],
   "source": [
    "a=1\n",
    "for i in range(5):\n",
    "    for i in range(i+1):\n",
    "     print(a, end=\"\")\n",
    "     a=a+1\n",
    "    print()"
   ]
  },
  {
   "cell_type": "code",
   "execution_count": 19,
   "id": "f8b697f0-bfeb-4f49-91f3-9255eead1482",
   "metadata": {},
   "outputs": [
    {
     "name": "stdin",
     "output_type": "stream",
     "text": [
      "enter the number 55\n",
      "enter the number 76\n",
      "enter the number 88\n"
     ]
    },
    {
     "name": "stdout",
     "output_type": "stream",
     "text": [
      "C is Greatest\n"
     ]
    }
   ],
   "source": [
    "#Nested If\n",
    "a=int(input(\"enter the number\"))\n",
    "b=int(input(\"enter the number\"))\n",
    "c=int(input(\"enter the number\"))\n",
    "if a>b:\n",
    "    if a>c:\n",
    "     print(\"A is Greatest\")\n",
    "    else:\n",
    "     print(\"C is Greatest\")\n",
    "else:\n",
    "    if b>c:\n",
    "     print(\"B is Greatest\")\n",
    "    else:\n",
    "     print(\"C is Greatest\")"
   ]
  },
  {
   "cell_type": "code",
   "execution_count": 21,
   "id": "382ac296-9083-4037-ac96-c24f47297b53",
   "metadata": {},
   "outputs": [
    {
     "name": "stdin",
     "output_type": "stream",
     "text": [
      "enter the number 1234567899999999\n"
     ]
    },
    {
     "name": "stdout",
     "output_type": "stream",
     "text": [
      "Count of digits 16\n"
     ]
    }
   ],
   "source": [
    "#Count Of digits\n",
    "n=int(input(\"enter the number\"))\n",
    "co=0\n",
    "while n>0:\n",
    "    rem=n%10\n",
    "    co=co+1\n",
    "    n=n//10\n",
    "print(\"Count of digits\", co)\n",
    "    \n",
    "    "
   ]
  },
  {
   "cell_type": "code",
   "execution_count": 26,
   "id": "7ecc957a-9e3d-411f-84a8-c0e255a789e5",
   "metadata": {},
   "outputs": [
    {
     "name": "stdin",
     "output_type": "stream",
     "text": [
      "enter the number 1634\n"
     ]
    },
    {
     "name": "stdout",
     "output_type": "stream",
     "text": [
      "Armstone Number\n"
     ]
    }
   ],
   "source": [
    "#Global Armstrone Number\n",
    "n=int(input(\"enter the number\"))\n",
    "n1=n\n",
    "n2=n\n",
    "co=0\n",
    "sum=0\n",
    "while n>0:\n",
    "    rem=n%10\n",
    "    co=co+1\n",
    "    n=n//10\n",
    "while n1>0:\n",
    "    rem=n1%10\n",
    "    sum=sum+rem**co\n",
    "    n1=n1//10\n",
    "if sum==n2:\n",
    "    print(\"Armstone Number\")\n",
    "else:\n",
    "    print(\"Not armstrone Number\")\n"
   ]
  },
  {
   "cell_type": "code",
   "execution_count": 1,
   "id": "2d892da2-940e-4c2d-8503-7ee041317f2e",
   "metadata": {},
   "outputs": [
    {
     "name": "stdout",
     "output_type": "stream",
     "text": [
      "1 2 3 4 "
     ]
    }
   ],
   "source": [
    "#Break\n",
    "for i in range(1,11):\n",
    "    if i==5:\n",
    "        break\n",
    "    print(i,end=\" \")"
   ]
  },
  {
   "cell_type": "code",
   "execution_count": 2,
   "id": "2121cd8b-f286-48da-a10c-cce049ec9d84",
   "metadata": {},
   "outputs": [
    {
     "name": "stdout",
     "output_type": "stream",
     "text": [
      "1 2 3 4 5 6 7 8 9 10 "
     ]
    }
   ],
   "source": [
    "#Pass\n",
    "for i in range(1,11):\n",
    "    if i==5:\n",
    "        pass\n",
    "    print(i,end=\" \")"
   ]
  },
  {
   "cell_type": "code",
   "execution_count": 3,
   "id": "0c6e2b36-b729-42ef-8979-9889a7f4b41c",
   "metadata": {},
   "outputs": [
    {
     "name": "stdout",
     "output_type": "stream",
     "text": [
      "6 7 8 9 10 "
     ]
    }
   ],
   "source": [
    "#Coutinue\n",
    "for i in range(1,11):\n",
    "    if i<=5:\n",
    "        continue\n",
    "    print(i,end=\" \")"
   ]
  },
  {
   "cell_type": "code",
   "execution_count": 6,
   "id": "094c11e8-fc9c-4aa5-b89e-f8fca37cf43c",
   "metadata": {},
   "outputs": [
    {
     "name": "stdout",
     "output_type": "stream",
     "text": [
      "l\n",
      "o\n",
      "e\n",
      "l\n",
      "y\n"
     ]
    }
   ],
   "source": [
    "L=\"lovely\"\n",
    "for i in L:\n",
    "    if i==\"v\":\n",
    "        continue\n",
    "        print(\"hello\")\n",
    "    else:\n",
    "        print(i)"
   ]
  },
  {
   "cell_type": "code",
   "execution_count": 7,
   "id": "eaa20b3c-e5d4-49e1-8822-013ddb36c592",
   "metadata": {},
   "outputs": [
    {
     "name": "stdout",
     "output_type": "stream",
     "text": [
      "l\n",
      "o\n"
     ]
    }
   ],
   "source": [
    "L=\"lovely\"\n",
    "for i in L:\n",
    "    if i==\"v\":\n",
    "        break\n",
    "    print(i)"
   ]
  },
  {
   "cell_type": "code",
   "execution_count": 8,
   "id": "85667381-fcc8-46b7-b075-417a814f210b",
   "metadata": {},
   "outputs": [
    {
     "name": "stdout",
     "output_type": "stream",
     "text": [
      "l\n",
      "o\n",
      "v\n",
      "e\n",
      "l\n",
      "y\n"
     ]
    }
   ],
   "source": [
    "L=\"lovely\"\n",
    "for i in L:\n",
    "    if i==\"v\":\n",
    "        pass\n",
    "    print(i)"
   ]
  },
  {
   "cell_type": "code",
   "execution_count": null,
   "id": "c91310ca-8796-44f4-8dab-c3a82ed60b55",
   "metadata": {},
   "outputs": [],
   "source": []
  }
 ],
 "metadata": {
  "kernelspec": {
   "display_name": "Python 3 (ipykernel)",
   "language": "python",
   "name": "python3"
  },
  "language_info": {
   "codemirror_mode": {
    "name": "ipython",
    "version": 3
   },
   "file_extension": ".py",
   "mimetype": "text/x-python",
   "name": "python",
   "nbconvert_exporter": "python",
   "pygments_lexer": "ipython3",
   "version": "3.11.7"
  }
 },
 "nbformat": 4,
 "nbformat_minor": 5
}
