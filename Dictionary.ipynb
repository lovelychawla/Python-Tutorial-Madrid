{
 "cells": [
  {
   "cell_type": "code",
   "execution_count": 1,
   "id": "5568b674-7c88-4a24-ab6b-f6dc85660dd1",
   "metadata": {},
   "outputs": [
    {
     "name": "stdout",
     "output_type": "stream",
     "text": [
      "{'I': 'one', 'II': 'Two', 'III': 'Three'}\n"
     ]
    }
   ],
   "source": [
    "#Dictionary\n",
    "numdict=dict(I=\"one\", II=\"Two\", III=\"Three\")\n",
    "print(numdict)"
   ]
  },
  {
   "cell_type": "code",
   "execution_count": 5,
   "id": "9054b59a-4ce5-4870-a2d9-6ddaae658c68",
   "metadata": {},
   "outputs": [
    {
     "name": "stdout",
     "output_type": "stream",
     "text": [
      "{'I': 'one', 'II': 'Two', 'III': 'Three'}\n"
     ]
    }
   ],
   "source": [
    "#Access Dictionary\n",
    "numdict=dict(((\"I\", \"one\"), (\"II\", \"Two\"), (\"III\", \"Three\")))\n",
    "print(numdict)"
   ]
  },
  {
   "cell_type": "code",
   "execution_count": 17,
   "id": "a17c7030-75d2-461a-8a8c-8aa47dc178dc",
   "metadata": {},
   "outputs": [
    {
     "name": "stdout",
     "output_type": "stream",
     "text": [
      "Washington DC Paris\n"
     ]
    }
   ],
   "source": [
    "capital={\"usa\":\"Washington DC\", \"France\":\"Paris\", \"India\":\"New Delhi\"}\n",
    "print(capital[\"usa\"], capital[\"France\"])"
   ]
  },
  {
   "cell_type": "code",
   "execution_count": 18,
   "id": "f241cf5a-8112-4c29-9f19-28b04f4413ba",
   "metadata": {},
   "outputs": [
    {
     "name": "stdout",
     "output_type": "stream",
     "text": [
      "None None\n"
     ]
    }
   ],
   "source": [
    "#Get Method\n",
    "capital={\"usa\":\"Washington DC\", \"France\":\"Paris\", \"India\":\"New Delhi\"}\n",
    "print(capital.get(\"Usa\"), capital.get(\"france\"))\n"
   ]
  },
  {
   "cell_type": "code",
   "execution_count": 23,
   "id": "d546087f-90ea-42ff-9615-ac1f8c85ee46",
   "metadata": {},
   "outputs": [
    {
     "name": "stdout",
     "output_type": "stream",
     "text": [
      "dict_keys(['usa', 'France', 'India'])\n"
     ]
    }
   ],
   "source": [
    "capital={\"usa\":\"Washington DC\", \"France\":\"Paris\", \"India\":\"New Delhi\"}\n",
    "print(capital.keys())"
   ]
  },
  {
   "cell_type": "code",
   "execution_count": 24,
   "id": "5c233141-92b9-4dca-a969-fdcf5405fce5",
   "metadata": {},
   "outputs": [
    {
     "name": "stdout",
     "output_type": "stream",
     "text": [
      "dict_values(['Washington DC', 'Paris', 'New Delhi'])\n"
     ]
    }
   ],
   "source": [
    "capital={\"usa\":\"Washington DC\", \"France\":\"Paris\", \"India\":\"New Delhi\"}\n",
    "print(capital.values())"
   ]
  },
  {
   "cell_type": "code",
   "execution_count": 25,
   "id": "ac09fe4f-e461-429a-89e2-3e6a229dd427",
   "metadata": {},
   "outputs": [
    {
     "name": "stdout",
     "output_type": "stream",
     "text": [
      "dict_items([('usa', 'Washington DC'), ('France', 'Paris'), ('India', 'New Delhi')])\n"
     ]
    }
   ],
   "source": [
    "capital={\"usa\":\"Washington DC\", \"France\":\"Paris\", \"India\":\"New Delhi\"}\n",
    "print(capital.items())\n"
   ]
  },
  {
   "cell_type": "code",
   "execution_count": 27,
   "id": "81110229-3a88-4eb3-8f06-8175b1b7ceb2",
   "metadata": {},
   "outputs": [
    {
     "name": "stdout",
     "output_type": "stream",
     "text": [
      "name\n",
      "age\n",
      "city\n"
     ]
    }
   ],
   "source": [
    "#Assesing in loop\n",
    "d1={\"name\":\"ashish\",\"age\":45,\"city\":\"lapataganj\"}\n",
    "for i in d1:\n",
    "    print(i)"
   ]
  },
  {
   "cell_type": "code",
   "execution_count": 30,
   "id": "46eb61ce-c4a9-414e-977e-5be9c51a359e",
   "metadata": {},
   "outputs": [
    {
     "name": "stdout",
     "output_type": "stream",
     "text": [
      "name ashish\n",
      "age 45\n",
      "city lapataganj\n"
     ]
    }
   ],
   "source": [
    "d1={\"name\":\"ashish\",\"age\":45,\"city\":\"lapataganj\"}\n",
    "for i,j in d1.items():\n",
    "    print(i,j)"
   ]
  },
  {
   "cell_type": "code",
   "execution_count": 31,
   "id": "cf73cf02-ac7d-46cd-9dca-e2c89165e1ce",
   "metadata": {},
   "outputs": [
    {
     "name": "stdout",
     "output_type": "stream",
     "text": [
      "ashish\n",
      "45\n",
      "lapataganj\n"
     ]
    }
   ],
   "source": [
    "d1={\"name\":\"ashish\",\"age\":45,\"city\":\"lapataganj\"}\n",
    "for i in d1.values():\n",
    "    print(i)"
   ]
  },
  {
   "cell_type": "code",
   "execution_count": 35,
   "id": "ea0cf9db-353f-426c-ab69-82ddd85071c3",
   "metadata": {},
   "outputs": [
    {
     "name": "stdout",
     "output_type": "stream",
     "text": [
      "{'England': 'Root', 'Australia': 'Paine', 'India': 'Dhoni'}\n",
      "{'England': 'Root', 'Australia': 'Paine', 'India': 'virat'}\n"
     ]
    }
   ],
   "source": [
    "#update Dictionary\n",
    "captains={\"England\":\"Root\",\"Australia\":\"Paine\", \"India\":\"Dhoni\"}\n",
    "print(captains)\n",
    "captains[\"India\"]=\"virat\"\n",
    "captains[\"Australia\"]=\"Paine\"\n",
    "print(captains)\n"
   ]
  },
  {
   "cell_type": "code",
   "execution_count": 36,
   "id": "2fd29560-6f8d-4f6f-9c68-3b49a6f4cc6c",
   "metadata": {},
   "outputs": [
    {
     "name": "stdout",
     "output_type": "stream",
     "text": [
      "{'England': 'Root', 'Australia': 'Paine', 'India': 'Dhoni', 'south africa': 'phessis'}\n"
     ]
    }
   ],
   "source": [
    "captains={\"England\":\"Root\",\"Australia\":\"Paine\", \"India\":\"Dhoni\"}\n",
    "captains[\"south africa\"]=\"phessis\"\n",
    "print(captains)"
   ]
  },
  {
   "cell_type": "code",
   "execution_count": 38,
   "id": "a711f5f1-2068-45b6-a4b4-66250a78fbcd",
   "metadata": {},
   "outputs": [
    {
     "name": "stdout",
     "output_type": "stream",
     "text": [
      "{'England': 'Root', 'Australia': 'Paine', 'India': 'Dhoni'}\n",
      "{'England': 'Root', 'India': 'Dhoni'}\n"
     ]
    }
   ],
   "source": [
    "#Delete Values From Dictionary\n",
    "captains={\"England\":\"Root\",\"Australia\":\"Paine\", \"India\":\"Dhoni\"}\n",
    "print(captains)\n",
    "del captains[\"Australia\"]\n",
    "print(captains)"
   ]
  },
  {
   "cell_type": "code",
   "execution_count": 39,
   "id": "9a3c922a-27fb-4871-bba6-e736948dd635",
   "metadata": {},
   "outputs": [
    {
     "name": "stdout",
     "output_type": "stream",
     "text": [
      "{'England': 'Root', 'Australia': 'Paine', 'India': 'Dhoni'}\n",
      "{'England': 'Root', 'Australia': 'Paine'}\n"
     ]
    }
   ],
   "source": [
    "#pop Item Method\n",
    "captains={\"England\":\"Root\",\"Australia\":\"Paine\", \"India\":\"Dhoni\"}\n",
    "print(captains)\n",
    "captains.popitem()\n",
    "print(captains)"
   ]
  },
  {
   "cell_type": "code",
   "execution_count": 3,
   "id": "bdafe4f0-a595-49df-bfc8-dd2e43c81e00",
   "metadata": {},
   "outputs": [
    {
     "name": "stdout",
     "output_type": "stream",
     "text": [
      "{1: {'Name': 'steve', 'Age': 25, 'Marks': 60}, 2: {'Name': 'Lovely', 'Age': 20, 'Marks': 90}, 3: {'Name': 'Asha', 'Age': 25, 'Marks': 80}}\n",
      "{'Name': 'steve', 'Age': 25, 'Marks': 60}\n",
      "{'Name': 'Lovely', 'Age': 20, 'Marks': 90}\n",
      "{'Name': 'Asha', 'Age': 25, 'Marks': 80}\n"
     ]
    }
   ],
   "source": [
    "#Multi Demensional Dictionary\n",
    "d1={\"Name\":\"steve\", \"Age\":25,\"Marks\":60}\n",
    "d2={\"Name\":\"Lovely\", \"Age\":20,\"Marks\":90} \n",
    "d3={\"Name\":\"Asha\", \"Age\":25,\"Marks\":80} \n",
    "students={1:d1,2:d2,3:d3}\n",
    "print(students)\n",
    "print(students[1])\n",
    "print(students[2])\n",
    "print(students[3])"
   ]
  },
  {
   "cell_type": "code",
   "execution_count": 4,
   "id": "a3225c3b-27d6-42da-8748-e4cae8e1864e",
   "metadata": {},
   "outputs": [
    {
     "name": "stdout",
     "output_type": "stream",
     "text": [
      "Dictionary: {'I': 1, 'II': 2, 'III': 3, 'IV': 4, 'V': 5}\n",
      "Dictionary after calling Clear() Method: {}\n"
     ]
    }
   ],
   "source": [
    "#Clear Dictionary\n",
    "romannums={\"I\":1,\"II\":2,\"III\":3,\"IV\":4, \"V\":5}\n",
    "print(\"Dictionary:\",romannums)\n",
    "romannums.clear()\n",
    "print(\"Dictionary after calling Clear() Method:\",romannums)"
   ]
  },
  {
   "cell_type": "code",
   "execution_count": 6,
   "id": "24179a89-a587-4dd0-ad87-d2b03e797caf",
   "metadata": {},
   "outputs": [
    {
     "name": "stdout",
     "output_type": "stream",
     "text": [
      "original dictionary: {'I': 1, 'II': 2, 'III': 3, 'IV': 4, 'V': 5}\n",
      "Copied dictionary: {'I': 1, 'II': 2, 'III': 3, 'IV': 4, 'V': 5}\n"
     ]
    }
   ],
   "source": [
    "#Copy Method()\n",
    "romannums={\"I\":1,\"II\":2,\"III\":3,\"IV\":4, \"V\":5}\n",
    "newromannums=romannums.copy()\n",
    "print(\"original dictionary:\", romannums)\n",
    "print(\"Copied dictionary:\", newromannums)\n"
   ]
  },
  {
   "cell_type": "code",
   "execution_count": 8,
   "id": "857bd15f-7be0-4f24-81b4-3bdb7591d0d6",
   "metadata": {},
   "outputs": [
    {
     "name": "stdout",
     "output_type": "stream",
     "text": [
      "{'New York': 'City', 'Bangalore': 'City', 'Mumbai': 'City', 'Chicago': 'City'}\n"
     ]
    }
   ],
   "source": [
    "#Fromkeys() Method\n",
    "keys={\"Mumbai\",\"Bangalore\",\"Chicago\",\"New York\"}\n",
    "value=\"City\"\n",
    "dictionary=dict.fromkeys(keys,value)\n",
    "print(dictionary)\n",
    "\n"
   ]
  },
  {
   "cell_type": "code",
   "execution_count": 9,
   "id": "388eb374-934d-4608-8a1f-99947a045d84",
   "metadata": {},
   "outputs": [
    {
     "name": "stdout",
     "output_type": "stream",
     "text": [
      "{'New York': None, 'Bangalore': None, 'Mumbai': None, 'Chicago': None}\n"
     ]
    }
   ],
   "source": [
    "keys={\"Mumbai\",\"Bangalore\",\"Chicago\",\"New York\"}\n",
    "dictionary=dict.fromkeys(keys)\n",
    "print(dictionary)"
   ]
  },
  {
   "cell_type": "code",
   "execution_count": 12,
   "id": "5bc35f77-0a38-4d69-855c-a33e83c91723",
   "metadata": {},
   "outputs": [
    {
     "name": "stdout",
     "output_type": "stream",
     "text": [
      "{'H': 'Char', 'e': 'Char', 'l': 'Char', 'o': 'Char'}\n"
     ]
    }
   ],
   "source": [
    "chDict=dict.fromkeys(\"Hello\", \"Char\")\n",
    "print(chDict)"
   ]
  },
  {
   "cell_type": "code",
   "execution_count": 13,
   "id": "22e46290-fcd7-4374-a79c-d1a3ee1f0d56",
   "metadata": {},
   "outputs": [
    {
     "name": "stdout",
     "output_type": "stream",
     "text": [
      "dict_items([('I', 1), ('II', 2), ('III', 3), ('IV', 4), ('V', 5)])\n"
     ]
    }
   ],
   "source": [
    "#Python Dictionary Items()\n",
    "romannums={\"I\":1,\"II\":2,\"III\":3,\"IV\":4, \"V\":5}\n",
    "dictview=romannums.items()\n",
    "print(dictview)"
   ]
  },
  {
   "cell_type": "code",
   "execution_count": 14,
   "id": "30c112d0-f904-49b7-b4ff-ee6aef63f24c",
   "metadata": {},
   "outputs": [
    {
     "name": "stdout",
     "output_type": "stream",
     "text": [
      "dict_keys(['I', 'II', 'III', 'IV', 'V'])\n"
     ]
    }
   ],
   "source": [
    "#Python Dictionary Keys()\n",
    "romannums={\"I\":1,\"II\":2,\"III\":3,\"IV\":4, \"V\":5}\n",
    "dictview=romannums.keys()\n",
    "print(dictview)\n"
   ]
  },
  {
   "cell_type": "code",
   "execution_count": 15,
   "id": "4ff452ee-2a9c-4f7c-a29c-a612ed7d520c",
   "metadata": {},
   "outputs": [
    {
     "name": "stdout",
     "output_type": "stream",
     "text": [
      "the deleted value is: 5\n",
      "the Updated value is: {'I': 1, 'II': 2, 'III': 3, 'IV': 4}\n"
     ]
    }
   ],
   "source": [
    "#Python Dictionary Pop()\n",
    "romannums={\"I\":1,\"II\":2,\"III\":3,\"IV\":4, \"V\":5}\n",
    "deletedvalue=romannums.pop(\"V\")\n",
    "print(\"the deleted value is:\",deletedvalue)\n",
    "print(\"the Updated value is:\",romannums)\n"
   ]
  },
  {
   "cell_type": "code",
   "execution_count": 16,
   "id": "dce7bd9b-4bb4-47d1-b8b2-918e002b92f0",
   "metadata": {},
   "outputs": [
    {
     "name": "stdout",
     "output_type": "stream",
     "text": [
      "the deleted value is: 4\n",
      "the Updated value is: {'I': 1, 'II': 2, 'III': 3, 'V': 5}\n"
     ]
    }
   ],
   "source": [
    "romannums={\"I\":1,\"II\":2,\"III\":3,\"IV\":4, \"V\":5}\n",
    "deletedvalue=romannums.pop(\"IV\")\n",
    "print(\"the deleted value is:\",deletedvalue)\n",
    "print(\"the Updated value is:\",romannums)"
   ]
  },
  {
   "cell_type": "code",
   "execution_count": 17,
   "id": "3e92cc15-cd06-4c62-ba15-af084601bf14",
   "metadata": {},
   "outputs": [
    {
     "ename": "KeyError",
     "evalue": "'VII'",
     "output_type": "error",
     "traceback": [
      "\u001b[1;31m---------------------------------------------------------------------------\u001b[0m",
      "\u001b[1;31mKeyError\u001b[0m                                  Traceback (most recent call last)",
      "Cell \u001b[1;32mIn[17], line 2\u001b[0m\n\u001b[0;32m      1\u001b[0m romannums\u001b[38;5;241m=\u001b[39m{\u001b[38;5;124m\"\u001b[39m\u001b[38;5;124mI\u001b[39m\u001b[38;5;124m\"\u001b[39m:\u001b[38;5;241m1\u001b[39m,\u001b[38;5;124m\"\u001b[39m\u001b[38;5;124mII\u001b[39m\u001b[38;5;124m\"\u001b[39m:\u001b[38;5;241m2\u001b[39m,\u001b[38;5;124m\"\u001b[39m\u001b[38;5;124mIII\u001b[39m\u001b[38;5;124m\"\u001b[39m:\u001b[38;5;241m3\u001b[39m,\u001b[38;5;124m\"\u001b[39m\u001b[38;5;124mIV\u001b[39m\u001b[38;5;124m\"\u001b[39m:\u001b[38;5;241m4\u001b[39m, \u001b[38;5;124m\"\u001b[39m\u001b[38;5;124mV\u001b[39m\u001b[38;5;124m\"\u001b[39m:\u001b[38;5;241m5\u001b[39m}\n\u001b[1;32m----> 2\u001b[0m deletedvalue\u001b[38;5;241m=\u001b[39mromannums\u001b[38;5;241m.\u001b[39mpop(\u001b[38;5;124m\"\u001b[39m\u001b[38;5;124mVII\u001b[39m\u001b[38;5;124m\"\u001b[39m)\n\u001b[0;32m      3\u001b[0m \u001b[38;5;28mprint\u001b[39m(\u001b[38;5;124m\"\u001b[39m\u001b[38;5;124mthe deleted value is:\u001b[39m\u001b[38;5;124m\"\u001b[39m,deletedvalue)\n\u001b[0;32m      4\u001b[0m \u001b[38;5;28mprint\u001b[39m(\u001b[38;5;124m\"\u001b[39m\u001b[38;5;124mthe Updated value is:\u001b[39m\u001b[38;5;124m\"\u001b[39m,romannums)\n",
      "\u001b[1;31mKeyError\u001b[0m: 'VII'"
     ]
    }
   ],
   "source": [
    "romannums={\"I\":1,\"II\":2,\"III\":3,\"IV\":4, \"V\":5}\n",
    "deletedvalue=romannums.pop(\"VII\")\n",
    "print(\"the deleted value is:\",deletedvalue)\n",
    "print(\"the Updated value is:\",romannums)"
   ]
  },
  {
   "cell_type": "code",
   "execution_count": 18,
   "id": "54c06415-4bb1-4745-b679-6e9a2ae6b9d0",
   "metadata": {},
   "outputs": [
    {
     "name": "stdout",
     "output_type": "stream",
     "text": [
      "the deleted value is: not found\n",
      "the Updated value is: {'I': 1, 'II': 2, 'III': 3, 'IV': 4, 'V': 5}\n"
     ]
    }
   ],
   "source": [
    "romannums={\"I\":1,\"II\":2,\"III\":3,\"IV\":4, \"V\":5}\n",
    "deletedvalue=romannums.pop(\"VII\", \"not found\")\n",
    "print(\"the deleted value is:\",deletedvalue)\n",
    "print(\"the Updated value is:\",romannums)"
   ]
  },
  {
   "cell_type": "code",
   "execution_count": 19,
   "id": "116aa25d-17a7-4aba-9a44-2876c70590c3",
   "metadata": {},
   "outputs": [
    {
     "name": "stdout",
     "output_type": "stream",
     "text": [
      "Dictionary: {'I': 1, 'II': 2, 'III': 3}\n",
      "updated dictionary: {'I': 1, 'II': 2, 'III': 3, 'IV': 4, 'V': 5}\n"
     ]
    }
   ],
   "source": [
    "#Uptade () Method\n",
    "romannums={\"I\":1,\"II\":2,\"III\":3}\n",
    "print(\"Dictionary:\",romannums)\n",
    "anotherromannums={\"IV\":4, \"V\":5}\n",
    "romannums.update(anotherromannums)\n",
    "print(\"updated dictionary:\",romannums)"
   ]
  },
  {
   "cell_type": "code",
   "execution_count": 20,
   "id": "393675e4-74fb-4252-8b71-bc711b1c8cbd",
   "metadata": {},
   "outputs": [
    {
     "name": "stdout",
     "output_type": "stream",
     "text": [
      "dict_values([1, 2, 3])\n"
     ]
    }
   ],
   "source": [
    "#Value () Method\n",
    "romannums={\"I\":1,\"II\":2,\"III\":3}\n",
    "values=romannums.values()\n",
    "print(values)"
   ]
  },
  {
   "cell_type": "code",
   "execution_count": null,
   "id": "ac0ec8e4-5081-4090-980e-5e3193088e32",
   "metadata": {},
   "outputs": [],
   "source": []
  }
 ],
 "metadata": {
  "kernelspec": {
   "display_name": "Python 3 (ipykernel)",
   "language": "python",
   "name": "python3"
  },
  "language_info": {
   "codemirror_mode": {
    "name": "ipython",
    "version": 3
   },
   "file_extension": ".py",
   "mimetype": "text/x-python",
   "name": "python",
   "nbconvert_exporter": "python",
   "pygments_lexer": "ipython3",
   "version": "3.11.7"
  }
 },
 "nbformat": 4,
 "nbformat_minor": 5
}
