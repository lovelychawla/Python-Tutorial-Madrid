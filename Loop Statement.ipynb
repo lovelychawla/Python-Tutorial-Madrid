{
 "cells": [
  {
   "cell_type": "code",
   "execution_count": 1,
   "id": "dd614178-f30f-4d9a-886f-8fb5a3e8feec",
   "metadata": {},
   "outputs": [
    {
     "name": "stdout",
     "output_type": "stream",
     "text": [
      "Lovely\n",
      "Lovely\n",
      "Lovely\n",
      "Lovely\n",
      "Lovely\n",
      "Lovely\n",
      "Lovely\n",
      "Lovely\n",
      "Lovely\n",
      "Lovely\n"
     ]
    }
   ],
   "source": [
    "#Print Your Name 10 times\n",
    "i=1\n",
    "while i<=10:\n",
    "    print(\"Lovely\")\n",
    "    i=i+1"
   ]
  },
  {
   "cell_type": "code",
   "execution_count": 2,
   "id": "371d6980-ecc6-4bb9-b4da-e43d8f2c23c0",
   "metadata": {},
   "outputs": [
    {
     "name": "stdout",
     "output_type": "stream",
     "text": [
      "1\n",
      "2\n",
      "3\n",
      "4\n",
      "5\n",
      "6\n",
      "7\n",
      "8\n",
      "9\n",
      "10\n"
     ]
    }
   ],
   "source": [
    "#Print 10 Natural Numbers\n",
    "i=1\n",
    "while i<=10:\n",
    "    print(i)\n",
    "    i=i+1"
   ]
  },
  {
   "cell_type": "code",
   "execution_count": 7,
   "id": "905b5167-52d3-488b-aae9-d12eeadb4c8a",
   "metadata": {},
   "outputs": [
    {
     "name": "stdout",
     "output_type": "stream",
     "text": [
      "the sum is 55\n"
     ]
    }
   ],
   "source": [
    "#Sum of 10 Natural numbers\n",
    "i=1\n",
    "s=0\n",
    "while i<=10:\n",
    "    s=s+i\n",
    "    i=i+1\n",
    "print(\"the sum is\",s)"
   ]
  },
  {
   "cell_type": "code",
   "execution_count": 2,
   "id": "b359d2d9-3a78-48ee-a044-704c2535c299",
   "metadata": {},
   "outputs": [
    {
     "name": "stdout",
     "output_type": "stream",
     "text": [
      "2 4 6 8 10 12 14 16 18 20 22 24 26 28 30 32 34 36 38 40 42 44 46 48 50 52 54 56 58 60 62 64 66 68 70 72 74 76 78 80 82 84 86 88 90 92 94 96 98 100 "
     ]
    }
   ],
   "source": [
    "#Print all even numbers from 1 to 100\n",
    "i=1\n",
    "while i<=100:\n",
    "   if i%2==0:\n",
    "       print(i, end=\" \")\n",
    "   i=i+1"
   ]
  },
  {
   "cell_type": "code",
   "execution_count": 1,
   "id": "566d29f5-c3aa-4cf7-92b5-8a802964bf99",
   "metadata": {},
   "outputs": [
    {
     "name": "stdin",
     "output_type": "stream",
     "text": [
      "enter the number 2\n"
     ]
    },
    {
     "name": "stdout",
     "output_type": "stream",
     "text": [
      "Prime Number\n"
     ]
    }
   ],
   "source": [
    "#Prime Number\n",
    "n=int(input(\"enter the number\"))\n",
    "i=1\n",
    "co=0\n",
    "while i<=n:\n",
    "    if n%i==0:\n",
    "        co=co+1\n",
    "    i=i+1\n",
    "if co==2:\n",
    "    print(\"Prime Number\")\n",
    "else:\n",
    "    print(\"Not Prime\")"
   ]
  },
  {
   "cell_type": "code",
   "execution_count": 8,
   "id": "8664c838-5411-431f-97a7-bb06ea1bee29",
   "metadata": {},
   "outputs": [
    {
     "name": "stdin",
     "output_type": "stream",
     "text": [
      "enter the number 23\n"
     ]
    },
    {
     "name": "stdout",
     "output_type": "stream",
     "text": [
      "1 23 "
     ]
    }
   ],
   "source": [
    "#Factors of the numeber\n",
    "n=int(input(\"enter the number\"))\n",
    "i=1\n",
    "while i<=n:\n",
    "    if n%i==0:\n",
    "       print(i, end=\" \")\n",
    "    i=i+1"
   ]
  },
  {
   "cell_type": "code",
   "execution_count": 4,
   "id": "b0110837-61de-42fc-9e6e-e08f672ab53e",
   "metadata": {},
   "outputs": [
    {
     "name": "stdin",
     "output_type": "stream",
     "text": [
      "enter the number 12\n"
     ]
    },
    {
     "name": "stdout",
     "output_type": "stream",
     "text": [
      "12 * 1 = 12\n",
      "12 * 2 = 24\n",
      "12 * 3 = 36\n",
      "12 * 4 = 48\n",
      "12 * 5 = 60\n",
      "12 * 6 = 72\n",
      "12 * 7 = 84\n",
      "12 * 8 = 96\n",
      "12 * 9 = 108\n",
      "12 * 10 = 120\n"
     ]
    }
   ],
   "source": [
    "#Table of a given number\n",
    "n=int(input(\"enter the number\"))\n",
    "i=1\n",
    "while i<=10:\n",
    "    print(n, \"*\", i, \"=\",n*i)\n",
    "    i=i+1"
   ]
  },
  {
   "cell_type": "code",
   "execution_count": 5,
   "id": "6753e667-16ea-4663-a05d-f9010c2f3a4a",
   "metadata": {},
   "outputs": [
    {
     "name": "stdin",
     "output_type": "stream",
     "text": [
      "enter the number 23\n"
     ]
    },
    {
     "name": "stdout",
     "output_type": "stream",
     "text": [
      "23\n",
      "46\n",
      "69\n",
      "92\n",
      "115\n",
      "138\n",
      "161\n",
      "184\n",
      "207\n",
      "230\n"
     ]
    }
   ],
   "source": [
    "#Table of a given number\n",
    "n=int(input(\"enter the number\"))\n",
    "i=1\n",
    "while i<=10:\n",
    "    print(n*i)\n",
    "    i=i+1"
   ]
  },
  {
   "cell_type": "code",
   "execution_count": 6,
   "id": "969a921d-d7f7-4ed7-b27f-fb96b33e5861",
   "metadata": {},
   "outputs": [
    {
     "name": "stdin",
     "output_type": "stream",
     "text": [
      "enter the numnber 50\n"
     ]
    },
    {
     "name": "stdout",
     "output_type": "stream",
     "text": [
      "sum of even numbers 650\n",
      "sum of odd numbers 625\n"
     ]
    }
   ],
   "source": [
    "#Sum all the even number and odd numbers seprately\n",
    "n=int(input(\"enter the numnber\"))\n",
    "i=1\n",
    "se=0\n",
    "so=0\n",
    "while i<=n:\n",
    "    if i%2==0:\n",
    "        se=se+i\n",
    "    else:\n",
    "        so=so+i\n",
    "    i=i+1\n",
    "print(\"sum of even numbers\", se)\n",
    "print(\"sum of odd numbers\", so)"
   ]
  },
  {
   "cell_type": "code",
   "execution_count": 7,
   "id": "f49be2ba-a7d1-4570-9231-05da62a258ae",
   "metadata": {},
   "outputs": [
    {
     "name": "stdin",
     "output_type": "stream",
     "text": [
      "enter the number 10\n"
     ]
    },
    {
     "name": "stdout",
     "output_type": "stream",
     "text": [
      "1 2 3 4 5 6 7 8 9 10 "
     ]
    }
   ],
   "source": [
    "#Print first N natural number\n",
    "i=1\n",
    "n=int(input(\"enter the number\"))\n",
    "while i<=n:\n",
    "    print(i, end=\" \")\n",
    "    i=i+1"
   ]
  },
  {
   "cell_type": "code",
   "execution_count": 12,
   "id": "30da7525-edf2-4bde-93d5-f6c4a348f6f9",
   "metadata": {},
   "outputs": [
    {
     "name": "stdin",
     "output_type": "stream",
     "text": [
      "enter the number 34\n"
     ]
    },
    {
     "name": "stdout",
     "output_type": "stream",
     "text": [
      "the factorial number is 295232799039604140847618609643520000000\n"
     ]
    }
   ],
   "source": [
    "#Factorial Number\n",
    "n=int(input (\"enter the number\"))\n",
    "f=1\n",
    "while n>0:\n",
    "    f=f*n\n",
    "    n=n-1\n",
    "print(\"the factorial number is\", f)"
   ]
  },
  {
   "cell_type": "code",
   "execution_count": 13,
   "id": "f104f702-a481-442a-8e18-50cb36477813",
   "metadata": {},
   "outputs": [
    {
     "name": "stdin",
     "output_type": "stream",
     "text": [
      "enter the number 2345\n"
     ]
    },
    {
     "name": "stdout",
     "output_type": "stream",
     "text": [
      "the sum of the digits is 14\n"
     ]
    }
   ],
   "source": [
    "#Sum of the digits\n",
    "n=int(input(\"enter the number\"))\n",
    "s=0\n",
    "while n>0:\n",
    "     rem=n%10\n",
    "     s=s+rem\n",
    "     n=n//10\n",
    "print(\"the sum of the digits is\", s)\n"
   ]
  },
  {
   "cell_type": "code",
   "execution_count": 14,
   "id": "2680f43c-a36e-41b4-946d-8de41d8b2f73",
   "metadata": {},
   "outputs": [
    {
     "name": "stdin",
     "output_type": "stream",
     "text": [
      "enter the numner 23456\n"
     ]
    },
    {
     "name": "stdout",
     "output_type": "stream",
     "text": [
      "The Reverse of the number is 65432\n"
     ]
    }
   ],
   "source": [
    "#Reverse of a number\n",
    "n=int(input(\"enter the numner\"))\n",
    "rev=0\n",
    "while n>0:\n",
    "    rem=n%10\n",
    "    rev=rev*10+rem\n",
    "    n=n//10\n",
    "print (\"The Reverse of the number is\", rev)"
   ]
  },
  {
   "cell_type": "code",
   "execution_count": 23,
   "id": "909fac23-b5df-4b32-84c6-9c7804e166a9",
   "metadata": {},
   "outputs": [
    {
     "name": "stdin",
     "output_type": "stream",
     "text": [
      "enter the number 121\n"
     ]
    },
    {
     "name": "stdout",
     "output_type": "stream",
     "text": [
      "Pallendrom Number\n"
     ]
    }
   ],
   "source": [
    "#Pallendrome Number\n",
    "n=int(input(\"enter the number\"))\n",
    "n1=n\n",
    "rev=0\n",
    "while n>0:\n",
    "    rem=n%10\n",
    "    rev=rev*10+rem\n",
    "    n=n//10\n",
    "if rev==n1:\n",
    "    print(\"Pallendrom Number\")\n",
    "else:\n",
    "    print(\"Not Pallendrom number\")"
   ]
  },
  {
   "cell_type": "code",
   "execution_count": 22,
   "id": "b667023a-0977-4122-9b8f-cf61ee31f8a6",
   "metadata": {},
   "outputs": [
    {
     "name": "stdin",
     "output_type": "stream",
     "text": [
      "enter the number 153\n"
     ]
    },
    {
     "name": "stdout",
     "output_type": "stream",
     "text": [
      "Armstone Number\n"
     ]
    }
   ],
   "source": [
    "#Armstone Number\n",
    "n=int(input(\"enter the number\"))\n",
    "s=0\n",
    "n1=n\n",
    "while n>0:\n",
    "    rem=n%10\n",
    "    s=s+rem**3\n",
    "    n=n//10\n",
    "if  s==n1:\n",
    "    print(\"Armstone Number\")\n",
    "else:\n",
    "    print(\"not armstone number\")"
   ]
  },
  {
   "cell_type": "code",
   "execution_count": 26,
   "id": "554355af-bd00-4eaf-8b8e-5416c5a96288",
   "metadata": {},
   "outputs": [
    {
     "name": "stdout",
     "output_type": "stream",
     "text": [
      "T\n",
      "i\n",
      "r\n",
      "u\n",
      "w\n",
      "a\n",
      "n\n",
      "p\n",
      "u\n",
      "r\n",
      "a\n",
      "m\n"
     ]
    }
   ],
   "source": [
    "#For Loop\n",
    "for i in \"Tiruwanpuram\":\n",
    "         print(i)"
   ]
  },
  {
   "cell_type": "code",
   "execution_count": 27,
   "id": "340e5b9f-383e-4acf-9dda-64a229d86ccf",
   "metadata": {},
   "outputs": [
    {
     "name": "stdout",
     "output_type": "stream",
     "text": [
      "i\n",
      "u\n",
      "a\n",
      "u\n",
      "a\n"
     ]
    }
   ],
   "source": [
    "for i in \"Tivuwantpuram\":\n",
    "    if i in ['a', 'e','i','o','u']:\n",
    "        print(i)"
   ]
  },
  {
   "cell_type": "code",
   "execution_count": 29,
   "id": "8c334ba8-788a-479a-8a79-f83c7fe24f4c",
   "metadata": {},
   "outputs": [
    {
     "name": "stdout",
     "output_type": "stream",
     "text": [
      "23\n",
      "24\n",
      "25\n",
      "27\n",
      "28\n",
      "30\n"
     ]
    }
   ],
   "source": [
    "for i in [23, 24, 25, 27, 28, 30]:\n",
    "      print(i)"
   ]
  },
  {
   "cell_type": "code",
   "execution_count": 30,
   "id": "859fa9bd-a3e3-4e49-b33b-411d3544312a",
   "metadata": {},
   "outputs": [
    {
     "name": "stdout",
     "output_type": "stream",
     "text": [
      "0\n",
      "1\n",
      "2\n",
      "3\n",
      "4\n",
      "5\n",
      "6\n",
      "7\n",
      "8\n",
      "9\n"
     ]
    }
   ],
   "source": [
    "#Range()\n",
    "for i in range(10):\n",
    "    print(i)"
   ]
  },
  {
   "cell_type": "code",
   "execution_count": 32,
   "id": "e46513bc-bfa9-4b0e-8476-d32a5386c977",
   "metadata": {},
   "outputs": [
    {
     "name": "stdout",
     "output_type": "stream",
     "text": [
      "1\n",
      "2\n",
      "3\n",
      "4\n",
      "5\n",
      "6\n",
      "7\n",
      "8\n",
      "9\n",
      "10\n"
     ]
    }
   ],
   "source": [
    "for i in range(1,11):\n",
    "      print(i)"
   ]
  },
  {
   "cell_type": "code",
   "execution_count": 33,
   "id": "fc9529f2-25bd-47a5-aacd-9b1eeec3a909",
   "metadata": {},
   "outputs": [
    {
     "name": "stdout",
     "output_type": "stream",
     "text": [
      "15913172125293337414549535761656973778185899397"
     ]
    }
   ],
   "source": [
    "for i in range(1,100,4):\n",
    "    print(i,end=\"\")"
   ]
  },
  {
   "cell_type": "code",
   "execution_count": 43,
   "id": "209d3cd9-4295-4ea6-a278-e2af97c56606",
   "metadata": {},
   "outputs": [
    {
     "name": "stdout",
     "output_type": "stream",
     "text": [
      "2 4 6 8 10 12 14 16 18 20 22 24 26 28 30 32 34 36 38 40 42 44 46 48 50 52 54 56 58 60 62 64 66 68 70 72 74 76 78 80 82 84 86 88 90 92 94 96 98 "
     ]
    }
   ],
   "source": [
    "for i in range(1,100):\n",
    "    if i%2==0:\n",
    "        print(i, end=\" \")"
   ]
  },
  {
   "cell_type": "code",
   "execution_count": 37,
   "id": "aa7cbcef-2507-47a7-bdb0-671a3000be74",
   "metadata": {},
   "outputs": [
    {
     "name": "stdout",
     "output_type": "stream",
     "text": [
      "The Sum of even numbers is 2550\n",
      "The Sum of even numbers is 2500\n"
     ]
    }
   ],
   "source": [
    "#sum of the even numbers & odd numbers\n",
    "se=0\n",
    "so=0\n",
    "for i in range(1,101):\n",
    "    if i%2==0:\n",
    "        se=se+i\n",
    "    else:\n",
    "        so=so+i\n",
    "print (\"The Sum of even numbers is\", se)\n",
    "print (\"The Sum of even numbers is\", so)\n"
   ]
  },
  {
   "cell_type": "code",
   "execution_count": 42,
   "id": "32219eec-e06b-4586-93a7-41a0b26a04be",
   "metadata": {},
   "outputs": [
    {
     "name": "stdout",
     "output_type": "stream",
     "text": [
      "100 99 98 97 96 95 94 93 92 91 90 89 88 87 86 85 84 83 82 81 80 79 78 77 76 75 74 73 72 71 70 69 68 67 66 65 64 63 62 61 60 59 58 57 56 55 54 53 52 51 50 49 48 47 46 45 44 43 42 41 40 39 38 37 36 35 34 33 32 31 30 29 28 27 26 25 24 23 22 21 20 19 18 17 16 15 14 13 12 11 10 9 8 7 6 5 4 3 2 1 "
     ]
    }
   ],
   "source": [
    "for i in range (100, 0, -1):\n",
    "    print(i, end=\" \")\n",
    "\n"
   ]
  },
  {
   "cell_type": "code",
   "execution_count": 45,
   "id": "49692232-c367-47fb-a8e6-3ef217c7c23d",
   "metadata": {},
   "outputs": [
    {
     "name": "stdin",
     "output_type": "stream",
     "text": [
      "enter the number 12\n"
     ]
    },
    {
     "name": "stdout",
     "output_type": "stream",
     "text": [
      "12 * 1 = 12\n",
      "12 * 2 = 24\n",
      "12 * 3 = 36\n",
      "12 * 4 = 48\n",
      "12 * 5 = 60\n",
      "12 * 6 = 72\n",
      "12 * 7 = 84\n",
      "12 * 8 = 96\n",
      "12 * 9 = 108\n",
      "12 * 10 = 120\n"
     ]
    }
   ],
   "source": [
    "n=int(input(\"enter the number\"))\n",
    "for i in range(1,11):\n",
    "    print(n, \"*\", i, \"=\", n*i)"
   ]
  },
  {
   "cell_type": "code",
   "execution_count": 49,
   "id": "9ac1eb1d-33e0-4bb7-86ad-4c0bd3e6316f",
   "metadata": {},
   "outputs": [
    {
     "name": "stdin",
     "output_type": "stream",
     "text": [
      "enter the number 12\n"
     ]
    },
    {
     "name": "stdout",
     "output_type": "stream",
     "text": [
      "1\n",
      "2\n",
      "3\n",
      "4\n",
      "6\n",
      "12\n"
     ]
    }
   ],
   "source": [
    "#Factors\n",
    "n=int(input(\"enter the number\"))\n",
    "for i in range(1,n+1):\n",
    "    if n%i==0:\n",
    "        print(i)"
   ]
  },
  {
   "cell_type": "code",
   "execution_count": 50,
   "id": "2844c0fb-0c06-4d10-9c90-efac696ef101",
   "metadata": {},
   "outputs": [
    {
     "name": "stdin",
     "output_type": "stream",
     "text": [
      "enter the number 32\n"
     ]
    },
    {
     "name": "stdout",
     "output_type": "stream",
     "text": [
      "The factorial number is 1\n"
     ]
    }
   ],
   "source": [
    "#Factorial Numnber\n",
    "n=int(input(\"enter the number\"))\n",
    "f=1\n",
    "for i in range(n,0,-1):\n",
    "    f=f*1\n",
    "print(\"The factorial number is\", f)\n"
   ]
  },
  {
   "cell_type": "code",
   "execution_count": null,
   "id": "9f9b42c0-10ad-4d8c-8bb1-e00d1c841eb4",
   "metadata": {},
   "outputs": [],
   "source": []
  }
 ],
 "metadata": {
  "kernelspec": {
   "display_name": "Python 3 (ipykernel)",
   "language": "python",
   "name": "python3"
  },
  "language_info": {
   "codemirror_mode": {
    "name": "ipython",
    "version": 3
   },
   "file_extension": ".py",
   "mimetype": "text/x-python",
   "name": "python",
   "nbconvert_exporter": "python",
   "pygments_lexer": "ipython3",
   "version": "3.11.7"
  }
 },
 "nbformat": 4,
 "nbformat_minor": 5
}
