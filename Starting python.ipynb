{
 "cells": [
  {
   "cell_type": "code",
   "execution_count": 1,
   "id": "f9b23f65-9e50-4542-acbf-150268551f63",
   "metadata": {},
   "outputs": [
    {
     "name": "stdout",
     "output_type": "stream",
     "text": [
      "hello\n"
     ]
    }
   ],
   "source": [
    "print(\"hello\")\n"
   ]
  },
  {
   "cell_type": "code",
   "execution_count": 2,
   "id": "69d46512-37d5-4180-b9bb-c513a931ddbb",
   "metadata": {},
   "outputs": [
    {
     "name": "stdout",
     "output_type": "stream",
     "text": [
      "the value of A is 10\n"
     ]
    }
   ],
   "source": [
    "A=10\n",
    "print(\"the value of A is\",A)"
   ]
  },
  {
   "cell_type": "code",
   "execution_count": 3,
   "id": "b219fa89-314c-40d6-a9c4-e41efd4705e1",
   "metadata": {},
   "outputs": [
    {
     "name": "stdout",
     "output_type": "stream",
     "text": [
      "30\n"
     ]
    }
   ],
   "source": [
    "A=10\n",
    "B=20\n",
    "C=A+B\n",
    "print(C)\n"
   ]
  },
  {
   "cell_type": "code",
   "execution_count": 4,
   "id": "1433e9cb-9a08-4a33-bc7f-e61315fa01f6",
   "metadata": {},
   "outputs": [
    {
     "name": "stdout",
     "output_type": "stream",
     "text": [
      "1050.0\n"
     ]
    }
   ],
   "source": [
    "P=2000\n",
    "R=10.5\n",
    "T=5\n",
    "Si=P*R*T/100\n",
    "print(Si)"
   ]
  },
  {
   "cell_type": "code",
   "execution_count": 13,
   "id": "ab31af1b-17be-4644-9361-85f3323be4e3",
   "metadata": {},
   "outputs": [
    {
     "name": "stdout",
     "output_type": "stream",
     "text": [
      "20.666666666666668\n"
     ]
    }
   ],
   "source": [
    "a=12\n",
    "b=20\n",
    "c=30\n",
    "Avg=(a+b+c)/3\n",
    "print(Avg)"
   ]
  },
  {
   "cell_type": "code",
   "execution_count": 19,
   "id": "61fa15ad-974f-4c63-96e9-b5e16793807f",
   "metadata": {},
   "outputs": [
    {
     "name": "stdout",
     "output_type": "stream",
     "text": [
      "the addition is 27\n",
      "the substraction is 23\n",
      "the multiplication is 50\n",
      "the division is 12.5\n",
      "the floor division is 12\n",
      "the modulus is 1\n",
      "the power is 625\n"
     ]
    }
   ],
   "source": [
    "#Arithmetic Operators\n",
    "a=25\n",
    "b=2\n",
    "print(\"the addition is\",a+b)\n",
    "print(\"the substraction is\",a-b)\n",
    "print(\"the multiplication is\",a*b)\n",
    "print(\"the division is\",a/b)\n",
    "print(\"the floor division is\", a//b) #Return only interor part\n",
    "print(\"the modulus is\", a%b) # Return the reminder\n",
    "print(\"the power is\",a**b) # a to the power b\n"
   ]
  },
  {
   "cell_type": "code",
   "execution_count": 22,
   "id": "838674f9-7486-4c9b-bae6-1451fd0dc034",
   "metadata": {},
   "outputs": [
    {
     "name": "stdout",
     "output_type": "stream",
     "text": [
      "== False\n",
      "!= True\n",
      "> True\n",
      "< False\n",
      ">= True\n",
      "<= False\n"
     ]
    }
   ],
   "source": [
    "# Comparision operator\n",
    "a=10\n",
    "b=5\n",
    "print(\"==\",a==b)\n",
    "print(\"!=\",a!=b)\n",
    "print(\">\",a>b)\n",
    "print(\"<\",a<b)\n",
    "print(\">=\",a>=b)\n",
    "print(\"<=\",a<=b)"
   ]
  },
  {
   "cell_type": "code",
   "execution_count": 25,
   "id": "ddc57cad-efe3-4179-8391-3d09fbbf1ba2",
   "metadata": {},
   "outputs": [
    {
     "name": "stdout",
     "output_type": "stream",
     "text": [
      "before swaping\n",
      "x 56\n",
      "Y 98\n",
      "after swaping\n",
      "x 98\n",
      "y 56\n"
     ]
    }
   ],
   "source": [
    "#Swaping of two values\n",
    "x=56\n",
    "y=98\n",
    "print(\"before swaping\")\n",
    "print(\"x\",x)\n",
    "print(\"Y\",y)\n",
    "x,y=y,x\n",
    "print(\"after swaping\")\n",
    "print(\"x\",x)\n",
    "print(\"y\",y)\n"
   ]
  },
  {
   "cell_type": "code",
   "execution_count": 27,
   "id": "ed80b2b4-b2fa-46ff-b019-3dd266cc925e",
   "metadata": {},
   "outputs": [
    {
     "name": "stdout",
     "output_type": "stream",
     "text": [
      "sun is 302\n",
      "persentage is 60.4\n"
     ]
    }
   ],
   "source": [
    "#Percentage\n",
    "p=56\n",
    "c=70\n",
    "m=20\n",
    "e=78\n",
    "h=78\n",
    "s=p+c+m+e+h\n",
    "per=s*100/500\n",
    "print(\"sun is\",s)\n",
    "print(\"persentage is\",per)"
   ]
  },
  {
   "cell_type": "code",
   "execution_count": 32,
   "id": "e3f7815f-7766-4b9c-b4e0-f5ee20c51d59",
   "metadata": {},
   "outputs": [
    {
     "name": "stdout",
     "output_type": "stream",
     "text": [
      "9.899494936611665\n"
     ]
    }
   ],
   "source": [
    "import math\n",
    "n=98\n",
    "x=math.sqrt(n)\n",
    "print(x)"
   ]
  },
  {
   "cell_type": "code",
   "execution_count": 34,
   "id": "bc5c526d-4b28-4333-a610-a48de6e25350",
   "metadata": {},
   "outputs": [
    {
     "name": "stdout",
     "output_type": "stream",
     "text": [
      "12167.0\n"
     ]
    }
   ],
   "source": [
    "a=23\n",
    "b=3\n",
    "x=math.pow(a,b)\n",
    "print(x)"
   ]
  },
  {
   "cell_type": "code",
   "execution_count": 36,
   "id": "62e18a73-6a6e-48d1-ba29-0240770e8afa",
   "metadata": {},
   "outputs": [
    {
     "name": "stdin",
     "output_type": "stream",
     "text": [
      "enter the value of a 20\n",
      "enter the value of b 30\n"
     ]
    },
    {
     "name": "stdout",
     "output_type": "stream",
     "text": [
      "the sum is 50\n"
     ]
    }
   ],
   "source": [
    "#Runtime value program\n",
    "#sum of two numbers\n",
    "a=int(input(\"enter the value of a\"))\n",
    "b=int(input(\"enter the value of b\"))\n",
    "c=a+b\n",
    "print(\"the sum is\",c)"
   ]
  },
  {
   "cell_type": "code",
   "execution_count": 37,
   "id": "d2e3da99-9a75-47c3-a7b9-93ef2c5c304f",
   "metadata": {},
   "outputs": [
    {
     "name": "stdin",
     "output_type": "stream",
     "text": [
      "enter the value of principle 20\n",
      "enter the value of rate 30\n",
      "enter the value of time 40\n"
     ]
    },
    {
     "name": "stdout",
     "output_type": "stream",
     "text": [
      "240.0\n"
     ]
    }
   ],
   "source": [
    "#simple interest\n",
    "p=int(input(\"enter the value of principle\"))\n",
    "r=float(input(\"enter the value of rate\"))\n",
    "t=int(input(\"enter the value of time\"))\n",
    "si=p*r*t/100\n",
    "print(si)"
   ]
  },
  {
   "cell_type": "code",
   "execution_count": 4,
   "id": "66aeb61d-4859-4aaa-9e1f-54c0cf254037",
   "metadata": {},
   "outputs": [
    {
     "name": "stdin",
     "output_type": "stream",
     "text": [
      "enter the number 30\n",
      "enter the number 30\n",
      "enter the numnber 30\n"
     ]
    },
    {
     "name": "stdout",
     "output_type": "stream",
     "text": [
      "the average is 30.0\n"
     ]
    }
   ],
   "source": [
    "#Average\n",
    "a=float(input(\"enter the number\"))\n",
    "b=float(input(\"enter the number\"))\n",
    "c=float(input(\"enter the numnber\"))\n",
    "avg=(a+b+c)/3\n",
    "print(\"the average is\", avg)\n"
   ]
  },
  {
   "cell_type": "code",
   "execution_count": 5,
   "id": "ceef7584-67a7-45a9-b484-1c83e97aab97",
   "metadata": {},
   "outputs": [
    {
     "name": "stdout",
     "output_type": "stream",
     "text": [
      "sum is 260\n",
      "percentage is 86.66666666666667\n"
     ]
    }
   ],
   "source": [
    "#percentage\n",
    "a=80\n",
    "b=90\n",
    "c=90\n",
    "s=a+b+c\n",
    "per=s*100/300\n",
    "print(\"sum is\",s)\n",
    "print(\"percentage is\", per)"
   ]
  },
  {
   "cell_type": "code",
   "execution_count": 11,
   "id": "5341113f-7e02-4763-9c54-614c82883157",
   "metadata": {},
   "outputs": [
    {
     "name": "stdin",
     "output_type": "stream",
     "text": [
      "enter the number 30\n"
     ]
    },
    {
     "name": "stdout",
     "output_type": "stream",
     "text": [
      "5.477225575051661\n"
     ]
    }
   ],
   "source": [
    "import math\n",
    "n=int(input(\"enter the number\"))\n",
    "x=math.sqrt(n)\n",
    "print(x)"
   ]
  },
  {
   "cell_type": "code",
   "execution_count": 12,
   "id": "a059b6e8-f18e-4dbb-a377-a99dfcb3b770",
   "metadata": {},
   "outputs": [
    {
     "name": "stdin",
     "output_type": "stream",
     "text": [
      "enter the number 40\n",
      "enter the number 30\n"
     ]
    },
    {
     "name": "stdout",
     "output_type": "stream",
     "text": [
      "1.152921504606847e+48\n"
     ]
    }
   ],
   "source": [
    "a=int(input(\"enter the number\"))\n",
    "b=int(input(\"enter the number\"))\n",
    "x=math.pow(a,b)\n",
    "print(x)"
   ]
  },
  {
   "cell_type": "code",
   "execution_count": 7,
   "id": "ffe1a06e-b49c-4ed6-b530-cdcd3232d1a5",
   "metadata": {},
   "outputs": [
    {
     "name": "stdout",
     "output_type": "stream",
     "text": [
      "__doc__ __loader__ __name__ __package__ __spec__ acos acosh asin asinh atan atan2 atanh cbrt ceil comb copysign cos cosh degrees dist e erf erfc exp exp2 expm1 fabs factorial floor fmod frexp fsum gamma gcd hypot inf isclose isfinite isinf isnan isqrt lcm ldexp lgamma log log10 log1p log2 modf nan nextafter perm pi pow prod radians remainder sin sinh sqrt tan tanh tau trunc ulp "
     ]
    }
   ],
   "source": [
    "import math\n",
    "for i in dir(math):\n",
    "    print(i, end=\" \")"
   ]
  },
  {
   "cell_type": "code",
   "execution_count": 17,
   "id": "b41264a2-8fa3-46d6-a2eb-da722be26ad1",
   "metadata": {},
   "outputs": [
    {
     "data": {
      "text/plain": [
       "['False',\n",
       " 'None',\n",
       " 'True',\n",
       " 'and',\n",
       " 'as',\n",
       " 'assert',\n",
       " 'async',\n",
       " 'await',\n",
       " 'break',\n",
       " 'class',\n",
       " 'continue',\n",
       " 'def',\n",
       " 'del',\n",
       " 'elif',\n",
       " 'else',\n",
       " 'except',\n",
       " 'finally',\n",
       " 'for',\n",
       " 'from',\n",
       " 'global',\n",
       " 'if',\n",
       " 'import',\n",
       " 'in',\n",
       " 'is',\n",
       " 'lambda',\n",
       " 'nonlocal',\n",
       " 'not',\n",
       " 'or',\n",
       " 'pass',\n",
       " 'raise',\n",
       " 'return',\n",
       " 'try',\n",
       " 'while',\n",
       " 'with',\n",
       " 'yield']"
      ]
     },
     "execution_count": 17,
     "metadata": {},
     "output_type": "execute_result"
    }
   ],
   "source": [
    "import keyword\n",
    "keyword.kwlist"
   ]
  },
  {
   "cell_type": "code",
   "execution_count": 24,
   "id": "0f1b832c-dc11-47f9-a9b5-5bb257b42e25",
   "metadata": {},
   "outputs": [
    {
     "name": "stdout",
     "output_type": "stream",
     "text": [
      "before swapping\n",
      "x 100\n",
      "y 200\n",
      "after swapping\n",
      "x 200\n",
      "y 100\n"
     ]
    }
   ],
   "source": [
    "#Swapping Logic-1\n",
    "x=100\n",
    "y=200\n",
    "print(\"before swapping\")\n",
    "print(\"x\",x)\n",
    "print(\"y\",y)\n",
    "x,y=y,x\n",
    "print(\"after swapping\")\n",
    "print(\"x\",x)\n",
    "print(\"y\",y)\n",
    "\n",
    "\n",
    "    "
   ]
  },
  {
   "cell_type": "code",
   "execution_count": 1,
   "id": "db8417a7-2de9-4f95-ae9f-fa5a79ded4b0",
   "metadata": {},
   "outputs": [
    {
     "name": "stdin",
     "output_type": "stream",
     "text": [
      "enter the value of a 40\n",
      "enter the value of b 50\n"
     ]
    },
    {
     "name": "stdout",
     "output_type": "stream",
     "text": [
      "before swapping\n",
      "a 40\n",
      "b 50\n",
      "After swapping\n",
      "a 50\n",
      "b 40\n"
     ]
    }
   ],
   "source": [
    "#swapping logic-2\n",
    "a=int(input(\"enter the value of a\"))\n",
    "b=int(input(\"enter the value of b\"))\n",
    "print(\"before swapping\")\n",
    "print(\"a\",a)\n",
    "print(\"b\",b)\n",
    "tempt=a\n",
    "a=b\n",
    "b=tempt\n",
    "print(\"After swapping\")\n",
    "print(\"a\",a)\n",
    "print(\"b\",b)\n",
    "\n",
    "\n"
   ]
  },
  {
   "cell_type": "code",
   "execution_count": 2,
   "id": "9e3c31c8-2584-488a-b0d6-7ef1be36f28f",
   "metadata": {},
   "outputs": [
    {
     "name": "stdin",
     "output_type": "stream",
     "text": [
      "enter the value of a 40\n",
      "enter the value of b 50\n"
     ]
    },
    {
     "name": "stdout",
     "output_type": "stream",
     "text": [
      "before swapping\n",
      "a 40\n",
      "b 50\n",
      "After swapping\n",
      "a 50\n",
      "b 40\n"
     ]
    }
   ],
   "source": [
    "#swapping logic-2\n",
    "a=int(input(\"enter the value of a\"))\n",
    "b=int(input(\"enter the value of b\"))\n",
    "print(\"before swapping\")\n",
    "print(\"a\",a)\n",
    "print(\"b\",b)\n",
    "a=a+b\n",
    "b=a-b\n",
    "a=a-b\n",
    "print(\"After swapping\")\n",
    "print(\"a\",a)\n",
    "print(\"b\",b)"
   ]
  },
  {
   "cell_type": "code",
   "execution_count": 16,
   "id": "6260f79c-bd19-43b7-98a4-49c0d80690e5",
   "metadata": {},
   "outputs": [
    {
     "name": "stdin",
     "output_type": "stream",
     "text": [
      "enter the number 10\n"
     ]
    },
    {
     "name": "stdout",
     "output_type": "stream",
     "text": [
      "you won\n"
     ]
    }
   ],
   "source": [
    "#if conditional Structure\n",
    "n=int(input(\"enter the number\"))\n",
    "if n==10: #==comparision operator\n",
    "   print(\"you won\")"
   ]
  },
  {
   "cell_type": "code",
   "execution_count": 19,
   "id": "79143d62-cab6-403b-880e-7067bc99d804",
   "metadata": {},
   "outputs": [
    {
     "name": "stdin",
     "output_type": "stream",
     "text": [
      "enter the number 0\n"
     ]
    },
    {
     "name": "stdout",
     "output_type": "stream",
     "text": [
      "numeber is zero\n"
     ]
    }
   ],
   "source": [
    "#if Condition\n",
    "n=int(input(\"enter the number\"))\n",
    "if n<0:\n",
    "    print(\"-ve number\")\n",
    "if n>0:\n",
    "    print(\"+ve number\")\n",
    "if n==0:\n",
    "    print(\"numeber is zero\")"
   ]
  },
  {
   "cell_type": "code",
   "execution_count": 23,
   "id": "0ed0f948-3e25-49e1-abbb-764302c7a937",
   "metadata": {},
   "outputs": [
    {
     "name": "stdout",
     "output_type": "stream",
     "text": [
      "even number\n"
     ]
    }
   ],
   "source": [
    "#If Else\n",
    "n=int(input(\"enter the number\"))\n",
    "if n%2==0:\n",
    "    print(\"even number\")\n",
    "else:\n",
    "    print(\"odd number\")\n"
   ]
  },
  {
   "cell_type": "code",
   "execution_count": 28,
   "id": "001ba278-ea1a-424a-91c3-36183b10c3aa",
   "metadata": {},
   "outputs": [
    {
     "name": "stdin",
     "output_type": "stream",
     "text": [
      "enter the year 2024\n"
     ]
    },
    {
     "name": "stdout",
     "output_type": "stream",
     "text": [
      "leap Year\n"
     ]
    }
   ],
   "source": [
    "year=int(input(\"enter the year\"))\n",
    "if year%4==0:\n",
    "   print(\"leap Year\")\n",
    "else:\n",
    "   print(\"non Leap Year\")"
   ]
  },
  {
   "cell_type": "code",
   "execution_count": 30,
   "id": "94031b90-f8d6-4fa3-bedc-3b52822d4c2a",
   "metadata": {},
   "outputs": [
    {
     "name": "stdin",
     "output_type": "stream",
     "text": [
      "enter the age 19\n"
     ]
    },
    {
     "name": "stdout",
     "output_type": "stream",
     "text": [
      "Eligible to vote\n"
     ]
    }
   ],
   "source": [
    "age=int(input(\"enter the age\"))\n",
    "if age>=18:\n",
    "    print(\"Eligible to vote\")\n",
    "else:\n",
    "    print(\"Non eligible to vote\")\n",
    "    \n"
   ]
  },
  {
   "cell_type": "code",
   "execution_count": 36,
   "id": "bb811f82-e0aa-41ce-afa8-34836a81f0b9",
   "metadata": {},
   "outputs": [
    {
     "name": "stdin",
     "output_type": "stream",
     "text": [
      "enter the number from 1-7 7\n"
     ]
    },
    {
     "name": "stdout",
     "output_type": "stream",
     "text": [
      "Sat\n"
     ]
    }
   ],
   "source": [
    "day=int(input(\"enter the number from 1-7\"))\n",
    "if day==1:\n",
    "   print(\"sun\")\n",
    "elif day==2:\n",
    "   print(\"Mon\")\n",
    "elif day==3:\n",
    "   print(\"tue\")\n",
    "elif day==4:\n",
    "   print(\"wed\")\n",
    "elif day==5:\n",
    "   print(\"thu\")\n",
    "elif day==6:\n",
    "   print(\"fri\")\n",
    "elif day==7:\n",
    "   print(\"Sat\")\n",
    "else: \n",
    "   print(\"invalid choice\")\n",
    "              \n",
    "              "
   ]
  },
  {
   "cell_type": "code",
   "execution_count": 38,
   "id": "1980f319-4813-4618-8d31-3e8d486dc039",
   "metadata": {},
   "outputs": [
    {
     "name": "stdin",
     "output_type": "stream",
     "text": [
      "enter the number 70\n",
      "enter the number 40\n",
      "enter the number 50\n",
      "enter the number 50\n",
      "enter the number 70\n"
     ]
    },
    {
     "name": "stdout",
     "output_type": "stream",
     "text": [
      "Sec Div\n"
     ]
    }
   ],
   "source": [
    "p=int(input(\"enter the number\"))\n",
    "c=int(input(\"enter the number\"))\n",
    "m=int(input(\"enter the number\"))\n",
    "e=int(input(\"enter the number\"))\n",
    "h=int(input(\"enter the number\"))\n",
    "s=p+c+m+e+h\n",
    "per=s*100/500\n",
    "if per>=60:\n",
    "   print(\"First Div\")\n",
    "elif per>=45:\n",
    "   print(\"Sec Div\")\n",
    "elif per>=33:\n",
    "   print(\"third Div\")\n",
    "else:\n",
    "    print(\"fail\")\n",
    "    "
   ]
  },
  {
   "cell_type": "code",
   "execution_count": 41,
   "id": "cd960883-29a5-4c3c-bd19-412fcb8c8fd5",
   "metadata": {},
   "outputs": [
    {
     "name": "stdin",
     "output_type": "stream",
     "text": [
      "enter the number 30\n",
      "enter the number 40\n",
      "enter the number 50\n"
     ]
    },
    {
     "name": "stdout",
     "output_type": "stream",
     "text": [
      "C is Greatest\n"
     ]
    }
   ],
   "source": [
    "a=int(input(\"enter the number\"))\n",
    "b=int(input(\"enter the number\"))\n",
    "c=int(input(\"enter the number\"))\n",
    "if a>b and a>c:\n",
    "    print(\"A is Greatest\")\n",
    "if b>a and b>c:\n",
    "    print(\"B is Greatest\")\n",
    "else:\n",
    "     print(\"C is Greatest\")\n"
   ]
  },
  {
   "cell_type": "code",
   "execution_count": 2,
   "id": "bb95e4ad-04a3-4f3d-9781-b3a61d63015b",
   "metadata": {},
   "outputs": [
    {
     "name": "stdin",
     "output_type": "stream",
     "text": [
      "enter the alphabet without space e\n"
     ]
    },
    {
     "name": "stdout",
     "output_type": "stream",
     "text": [
      "vowel\n"
     ]
    }
   ],
   "source": [
    "#Logical Or\n",
    "#Check vowel and consolent\n",
    "ch=input(\"enter the alphabet without space\")\n",
    "if ch=='a'or ch=='e'or ch=='i'or ch=='o'or ch=='u':\n",
    " print (\"vowel\")\n",
    "elif ch=='A'or ch=='E'or ch=='I'or ch=='O' or ch=='U':\n",
    " print (\"vowel\")\n",
    "else:\n",
    " print (\"Consonent\")"
   ]
  },
  {
   "cell_type": "code",
   "execution_count": null,
   "id": "712fbc2b-3ebd-4ff3-bf62-1c9ae9efcbb5",
   "metadata": {},
   "outputs": [],
   "source": []
  },
  {
   "cell_type": "code",
   "execution_count": 1,
   "id": "0cf59562-b355-4310-ba23-aa06e67fc9c9",
   "metadata": {},
   "outputs": [
    {
     "name": "stdin",
     "output_type": "stream",
     "text": [
      "enter the alphabet /n R for Red /n Y for yellow /n G for Green /n r\n"
     ]
    },
    {
     "name": "stdout",
     "output_type": "stream",
     "text": [
      "stop\n"
     ]
    }
   ],
   "source": [
    "#Traffic Light\n",
    "ch=input(\"enter the alphabet /n R for Red /n Y for yellow /n G for Green /n\")\n",
    "if ch==\"r\" or ch==\"R\":\n",
    " print(\"stop\")\n",
    "elif ch==\"Y\" or \"y\":\n",
    " print(\"Get Ready\")\n",
    "elif ch==\"G\" or ch==\"g\":\n",
    " print (\"Move Forward\")\n",
    "else:\n",
    " print(\"Pay Chaalan\")"
   ]
  },
  {
   "cell_type": "code",
   "execution_count": 3,
   "id": "603e6f11-5aab-4c52-bae4-f20aa340bc78",
   "metadata": {},
   "outputs": [
    {
     "name": "stdin",
     "output_type": "stream",
     "text": [
      "enter the number 1\n",
      "enter the number: 3\n"
     ]
    },
    {
     "name": "stdout",
     "output_type": "stream",
     "text": [
      "1.add\n",
      "2.Sub\n",
      "3.mul\n",
      "4.div\n"
     ]
    },
    {
     "name": "stdin",
     "output_type": "stream",
     "text": [
      "enter the number 1\n"
     ]
    },
    {
     "name": "stdout",
     "output_type": "stream",
     "text": [
      "the sum is 4\n"
     ]
    }
   ],
   "source": [
    "#Mini Calculator\n",
    "a=int(input(\"enter the number\"))\n",
    "b=int(input(\"enter the number:\"))\n",
    "print(\"1.add\")\n",
    "print(\"2.Sub\")\n",
    "print(\"3.mul\")\n",
    "print(\"4.div\")\n",
    "choice=int(input(\"enter the number\"))\n",
    "if choice==1:\n",
    "    print(\"the sum is\",a+b)\n",
    "elif choice==2:\n",
    "    print(\"the sub is\",a-b)\n",
    "elif choice==3:\n",
    "    print(\"the mul is\", a*b)\n",
    "elif choice==4:\n",
    "    print(\"the div is\", a/b)\n",
    "else:\n",
    "    print(\"Invalid Choice\")\n",
    "\n",
    "           \n",
    "\n"
   ]
  },
  {
   "cell_type": "code",
   "execution_count": 6,
   "id": "46e28eef-7ea3-440f-b746-553729cd0c0e",
   "metadata": {},
   "outputs": [
    {
     "name": "stdout",
     "output_type": "stream",
     "text": [
      "True\n"
     ]
    }
   ],
   "source": [
    "#In Operator\n",
    "print(\"a\" in ['a','e','i','o','u'])"
   ]
  },
  {
   "cell_type": "code",
   "execution_count": 8,
   "id": "b0837792-8bf8-4e9c-80f7-0b6a155246bf",
   "metadata": {},
   "outputs": [
    {
     "name": "stdin",
     "output_type": "stream",
     "text": [
      "enter the number 350\n"
     ]
    },
    {
     "name": "stdout",
     "output_type": "stream",
     "text": [
      "amount to pay: 2000\n"
     ]
    }
   ],
   "source": [
    "#Calculating The Electricity Bill\n",
    "amt=0\n",
    "nu=int(input(\"enter the number\"))\n",
    "if nu<=100:\n",
    "   amt=o\n",
    "if nu>=100:\n",
    "   amt=(nu-100)*5\n",
    "if nu>200:\n",
    "   amt=500+(nu-200)*10\n",
    "print(\"amount to pay:\",amt)\n",
    "    "
   ]
  },
  {
   "cell_type": "code",
   "execution_count": 9,
   "id": "e80c2788-4038-4f6b-a57f-175539703f83",
   "metadata": {},
   "outputs": [
    {
     "name": "stdout",
     "output_type": "stream",
     "text": [
      "enter the number\n"
     ]
    },
    {
     "name": "stdin",
     "output_type": "stream",
     "text": [
      "enter the number -8\n"
     ]
    },
    {
     "name": "stdout",
     "output_type": "stream",
     "text": [
      "8\n"
     ]
    }
   ],
   "source": [
    "#Absolute Number\n",
    "print(\"enter the number\")\n",
    "number=int(input(\"enter the number\"))\n",
    "if number<0:\n",
    "    print(number*-1)\n",
    "else:\n",
    "    print(number)"
   ]
  },
  {
   "cell_type": "code",
   "execution_count": 11,
   "id": "c6b338a0-04b8-4bfd-8e68-ec20e19d47d3",
   "metadata": {},
   "outputs": [
    {
     "name": "stdout",
     "output_type": "stream",
     "text": [
      "enter length\n"
     ]
    },
    {
     "name": "stdin",
     "output_type": "stream",
     "text": [
      "enter the number 30\n"
     ]
    },
    {
     "name": "stdout",
     "output_type": "stream",
     "text": [
      "ente breadth\n"
     ]
    },
    {
     "name": "stdin",
     "output_type": "stream",
     "text": [
      "Enter the number 30\n"
     ]
    },
    {
     "name": "stdout",
     "output_type": "stream",
     "text": [
      "yes its square\n",
      "the area of square is 900\n"
     ]
    }
   ],
   "source": [
    "#Take a Value of Length and Breadth\n",
    "print(\"enter length\")\n",
    "length=int(input(\"enter the number\"))\n",
    "print(\"ente breadth\")\n",
    "breadth=int(input(\"Enter the number\"))\n",
    "if length==breadth:\n",
    "    print(\"yes its square\")\n",
    "    print(\"the area of square is\", length**2)\n",
    "else:\n",
    "    print (\"No its only ractangle\")\n",
    "    print (\"The area of a ractangle is\", length*Breadth)\n"
   ]
  },
  {
   "cell_type": "code",
   "execution_count": 5,
   "id": "89f61b2d-395f-4a62-b2c1-7ba6459c329c",
   "metadata": {},
   "outputs": [
    {
     "name": "stdout",
     "output_type": "stream",
     "text": [
      "number of classes helf\n"
     ]
    },
    {
     "name": "stdin",
     "output_type": "stream",
     "text": [
      "enter the number 300\n"
     ]
    },
    {
     "name": "stdout",
     "output_type": "stream",
     "text": [
      "number of classes attended\n"
     ]
    },
    {
     "name": "stdin",
     "output_type": "stream",
     "text": [
      "enter the number 200\n"
     ]
    },
    {
     "name": "stdout",
     "output_type": "stream",
     "text": [
      "attendence is, attendence\n",
      "you are not allowed any more\n"
     ]
    }
   ],
   "source": [
    "print (\"number of classes helf\")\n",
    "noh=int(input(\"enter the number\"))\n",
    "print(\"number of classes attended\")\n",
    "noa=int(input(\"enter the number\"))\n",
    "attendence=noa*100/noh\n",
    "print(\"attendence is, attendence\")\n",
    "if attendence>=75:\n",
    "    print(\"you are allowed to sit in exam\")\n",
    "else:\n",
    "    print(\"you are not allowed any more\")\n"
   ]
  },
  {
   "cell_type": "markdown",
   "id": "80a59033-ea6c-465c-abfd-6668528f6efa",
   "metadata": {},
   "source": []
  },
  {
   "cell_type": "markdown",
   "id": "b58602b7-4040-4f92-9637-99d8451e1d13",
   "metadata": {},
   "source": [
    "\n"
   ]
  },
  {
   "cell_type": "markdown",
   "id": "c0675b78-4e66-4804-b711-427e03f55057",
   "metadata": {},
   "source": [
    "\n"
   ]
  },
  {
   "cell_type": "markdown",
   "id": "1cd9bdd4-7a72-468f-8c32-c51189d703e0",
   "metadata": {},
   "source": [
    "\n"
   ]
  },
  {
   "cell_type": "markdown",
   "id": "a3d848bb-83a8-4adb-a94a-8284b094f9ab",
   "metadata": {},
   "source": [
    "\n"
   ]
  },
  {
   "cell_type": "markdown",
   "id": "09d98cf5-ae17-4223-b1e0-1838030d4367",
   "metadata": {},
   "source": [
    "\n"
   ]
  }
 ],
 "metadata": {
  "kernelspec": {
   "display_name": "Python 3 (ipykernel)",
   "language": "python",
   "name": "python3"
  },
  "language_info": {
   "codemirror_mode": {
    "name": "ipython",
    "version": 3
   },
   "file_extension": ".py",
   "mimetype": "text/x-python",
   "name": "python",
   "nbconvert_exporter": "python",
   "pygments_lexer": "ipython3",
   "version": "3.11.7"
  }
 },
 "nbformat": 4,
 "nbformat_minor": 5
}
