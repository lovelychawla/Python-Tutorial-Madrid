{
 "cells": [
  {
   "cell_type": "code",
   "execution_count": 1,
   "id": "5aef8b44-c20c-4584-8546-938ee5958da1",
   "metadata": {},
   "outputs": [
    {
     "name": "stdout",
     "output_type": "stream",
     "text": [
      "[1 2 3]\n"
     ]
    }
   ],
   "source": [
    "#Numpy\n",
    "import numpy as np\n",
    "a=np.array([1,2,3])\n",
    "print(a)"
   ]
  },
  {
   "cell_type": "code",
   "execution_count": 6,
   "id": "252813e2-7855-438e-9842-14aca2f46228",
   "metadata": {},
   "outputs": [
    {
     "name": "stdout",
     "output_type": "stream",
     "text": [
      "['1' '2' '3' 'A']\n"
     ]
    }
   ],
   "source": [
    "a=np.array([1,2,3,'A'])\n",
    "print(a)"
   ]
  },
  {
   "cell_type": "code",
   "execution_count": 7,
   "id": "3a3c2ea5-7b74-47ad-a57e-7025dba1b483",
   "metadata": {},
   "outputs": [
    {
     "name": "stdout",
     "output_type": "stream",
     "text": [
      "[ 1.    2.    3.   12.45]\n"
     ]
    }
   ],
   "source": [
    "a=np.array([1,2,3,12.45])\n",
    "print(a)"
   ]
  },
  {
   "cell_type": "code",
   "execution_count": 16,
   "id": "cb50940b-1781-4c46-88cb-43156d4845e7",
   "metadata": {},
   "outputs": [
    {
     "name": "stdout",
     "output_type": "stream",
     "text": [
      "(2, 2)\n"
     ]
    }
   ],
   "source": [
    "a=np.array([[1,2],[12, 45]])\n",
    "print(a)"
   ]
  },
  {
   "cell_type": "code",
   "execution_count": 20,
   "id": "e0672605-99f0-484d-ab19-9e2bbe3255d6",
   "metadata": {},
   "outputs": [
    {
     "name": "stdout",
     "output_type": "stream",
     "text": [
      "[[1 2 3 4 5]]\n"
     ]
    }
   ],
   "source": [
    "a=np.array([1,2,3,4,5], ndmin=2)\n",
    "print(a)"
   ]
  },
  {
   "cell_type": "code",
   "execution_count": 26,
   "id": "37efc3fe-f44e-4a30-a3ef-ff534d13f6fb",
   "metadata": {},
   "outputs": [
    {
     "name": "stdout",
     "output_type": "stream",
     "text": [
      "[1.+0.j 2.+0.j 3.+0.j]\n"
     ]
    }
   ],
   "source": [
    "#dtype parameter\n",
    "a=np.array([1,2,3], dtype=complex)\n",
    "print(a)"
   ]
  },
  {
   "cell_type": "code",
   "execution_count": 2,
   "id": "4ed62e36-e8a6-4721-a81a-d70eee126ad1",
   "metadata": {},
   "outputs": [
    {
     "name": "stdout",
     "output_type": "stream",
     "text": [
      "[[ 2  3  5]\n",
      " [ 9 11  7]\n",
      " [ 3  2  7]]\n"
     ]
    }
   ],
   "source": [
    "a=np.array([[2,3,5 ], [9,11,7], [3,2,7]])\n",
    "print(a)\n",
    "        "
   ]
  },
  {
   "cell_type": "code",
   "execution_count": 4,
   "id": "4ba260e5-8eda-4e0a-af8e-eb74347edcd0",
   "metadata": {},
   "outputs": [
    {
     "name": "stdout",
     "output_type": "stream",
     "text": [
      "[[2 3 4]\n",
      " [2 2 4]\n",
      " [3 4 6]]\n",
      "\n",
      "[[1 4 6]\n",
      " [2 4 6]\n",
      " [3 5 8]]\n",
      "\n",
      "[[ 3  7 10]\n",
      " [ 4  6 10]\n",
      " [ 6  9 14]]\n"
     ]
    }
   ],
   "source": [
    "#Addition of two matrix\n",
    "x=np.array([[2,3,4],[2,2,4], [3,4,6]])\n",
    "print(x)\n",
    "print()\n",
    "\n",
    "y=np.array([[1,4,6],[2,4,6], [3,5,8]])\n",
    "print(y)\n",
    "print()\n",
    "z=x+y\n",
    "print(z)"
   ]
  },
  {
   "cell_type": "code",
   "execution_count": 10,
   "id": "f2b46ca4-2964-469a-8f49-e1a6679567d5",
   "metadata": {},
   "outputs": [
    {
     "name": "stdout",
     "output_type": "stream",
     "text": [
      "(3, 3)\n"
     ]
    }
   ],
   "source": [
    "#Shape function\n",
    "a=np.array([[2,3,4],[2,2,4], [3,4,6]])\n",
    "print(a.shape)"
   ]
  },
  {
   "cell_type": "code",
   "execution_count": 9,
   "id": "7e069a72-75f8-47ff-aa44-6c32bc6345f9",
   "metadata": {},
   "outputs": [
    {
     "name": "stdout",
     "output_type": "stream",
     "text": [
      "[[2 3]\n",
      " [4 3]\n",
      " [4 6]]\n"
     ]
    }
   ],
   "source": [
    "x=np.array([[2,3,4],[3,4,6]])\n",
    "x.shape=(3,2)\n",
    "print(x)"
   ]
  },
  {
   "cell_type": "code",
   "execution_count": 14,
   "id": "388b7374-18f1-4ae1-86cc-736a6ef088d8",
   "metadata": {},
   "outputs": [
    {
     "name": "stdout",
     "output_type": "stream",
     "text": [
      "[[2 3 4]\n",
      " [3 4 6]]\n",
      "\n",
      "[[2 3]\n",
      " [4 3]\n",
      " [4 6]]\n"
     ]
    }
   ],
   "source": [
    "#Reshape function\n",
    "x=np.array([[2,3,4],[3,4,6]])\n",
    "print(x)\n",
    "print()\n",
    "y=x.reshape(3,2)\n",
    "print(y)"
   ]
  },
  {
   "cell_type": "code",
   "execution_count": 15,
   "id": "a293877b-5476-465f-9d7b-11a6b787e58e",
   "metadata": {},
   "outputs": [
    {
     "name": "stdout",
     "output_type": "stream",
     "text": [
      "[0. 0. 0. 0. 0.]\n"
     ]
    }
   ],
   "source": [
    "#numpy.zeros\n",
    "x=np.zeros((5))\n",
    "print(x)"
   ]
  },
  {
   "cell_type": "code",
   "execution_count": 16,
   "id": "64f72752-9eef-4f07-ae72-44e25ef1ae03",
   "metadata": {},
   "outputs": [
    {
     "name": "stdout",
     "output_type": "stream",
     "text": [
      "[1. 1. 1. 1. 1.]\n"
     ]
    }
   ],
   "source": [
    "#numpy.ones\n",
    "x=np.ones(5)\n",
    "print(x)"
   ]
  },
  {
   "cell_type": "code",
   "execution_count": 21,
   "id": "854f72e9-5863-4c42-a4d3-710913c60130",
   "metadata": {},
   "outputs": [
    {
     "name": "stdout",
     "output_type": "stream",
     "text": [
      "[[[[1 1 1]\n",
      "   [1 1 1]\n",
      "   [1 1 1]\n",
      "   [1 1 1]]\n",
      "\n",
      "  [[1 1 1]\n",
      "   [1 1 1]\n",
      "   [1 1 1]\n",
      "   [1 1 1]]\n",
      "\n",
      "  [[1 1 1]\n",
      "   [1 1 1]\n",
      "   [1 1 1]\n",
      "   [1 1 1]]]]\n"
     ]
    }
   ],
   "source": [
    "x=np.ones([1,3,4,3], dtype=int)\n",
    "print(x)"
   ]
  },
  {
   "cell_type": "code",
   "execution_count": 2,
   "id": "6ebfaeb1-a9f7-4886-b920-03772cabd48c",
   "metadata": {},
   "outputs": [
    {
     "name": "stdout",
     "output_type": "stream",
     "text": [
      "[[2 3 4 5 6]\n",
      " [2 2 4 6 7]\n",
      " [3 4 6 7 6]\n",
      " [3 5 7 8 6]\n",
      " [5 6 7 8 7]]\n"
     ]
    }
   ],
   "source": [
    "x=np.array([[2,3,4,5,6],[2,2,4,6,7], [3,4,6,7,6], [3,5,7,8,6], [5,6,7,8,7]])\n",
    "print(x)"
   ]
  },
  {
   "cell_type": "code",
   "execution_count": 5,
   "id": "410da63b-758a-4f46-ba26-e2c3b24f6fb0",
   "metadata": {},
   "outputs": [
    {
     "name": "stdout",
     "output_type": "stream",
     "text": [
      "[2 2 6 8 7]\n"
     ]
    }
   ],
   "source": [
    "print(np.diag(x))"
   ]
  },
  {
   "cell_type": "code",
   "execution_count": 6,
   "id": "a40be7df-bebe-43d9-899b-ab1d2a861006",
   "metadata": {},
   "outputs": [
    {
     "name": "stdout",
     "output_type": "stream",
     "text": [
      "[[12  0  0  0]\n",
      " [ 0 34  0  0]\n",
      " [ 0  0 55  0]\n",
      " [ 0  0  0 66]]\n"
     ]
    }
   ],
   "source": [
    "ls=[12,34,55,66]\n",
    "print(np.diag(ls))"
   ]
  },
  {
   "cell_type": "code",
   "execution_count": 9,
   "id": "4dd97310-76f7-4126-9269-3007563e6cf2",
   "metadata": {},
   "outputs": [
    {
     "name": "stdout",
     "output_type": "stream",
     "text": [
      "[[1. 0. 0.]\n",
      " [0. 1. 0.]\n",
      " [0. 0. 1.]]\n"
     ]
    }
   ],
   "source": [
    "print(np.eye(3))"
   ]
  },
  {
   "cell_type": "code",
   "execution_count": 12,
   "id": "eb810a26-e9a9-4d38-97d1-e7ee8cfc2ab5",
   "metadata": {},
   "outputs": [
    {
     "name": "stdout",
     "output_type": "stream",
     "text": [
      "[ 0  1  2  3  4  5  6  7  8  9 10 11 12 13 14 15 16 17 18 19 20 21 22 23]\n"
     ]
    }
   ],
   "source": [
    "#Arange\n",
    "a=np.arange(24)\n",
    "print(a)"
   ]
  },
  {
   "cell_type": "code",
   "execution_count": 1,
   "id": "d3fcb846-ad74-4df6-9127-b85fff906606",
   "metadata": {},
   "outputs": [
    {
     "name": "stdout",
     "output_type": "stream",
     "text": [
      "[[1 3]\n",
      " [5 7]]\n",
      "\n",
      "[[1 5]\n",
      " [3 7]]\n"
     ]
    }
   ],
   "source": [
    "#Transpose Matrix\n",
    "import numpy as np\n",
    "matrix1=np.array([[1,3],[5,7]])\n",
    "print(matrix1)\n",
    "print()\n",
    "#get transpose of matrix\n",
    "result=np.transpose(matrix1)\n",
    "print(result)"
   ]
  },
  {
   "cell_type": "code",
   "execution_count": 2,
   "id": "fbd51894-dd90-4ac4-b357-0f8fcf242d81",
   "metadata": {},
   "outputs": [
    {
     "name": "stdout",
     "output_type": "stream",
     "text": [
      "matrix1*matrix2: \n",
      " [[14 30]\n",
      " [38 86]]\n"
     ]
    }
   ],
   "source": [
    "#Create Two Matrices\n",
    "matrix1=np.array([[1,3],\n",
    "                  [5,7]])\n",
    "matrix2=np.array([[2,6],\n",
    "                  [4,8]])\n",
    "result=np.dot(matrix1,matrix2)\n",
    "print(\"matrix1*matrix2: \\n\",result)"
   ]
  },
  {
   "cell_type": "code",
   "execution_count": 10,
   "id": "fdf9763c-ce0a-496b-8df3-011ff653d827",
   "metadata": {},
   "outputs": [
    {
     "name": "stdout",
     "output_type": "stream",
     "text": [
      "[[2 2 6]\n",
      " [3 7 8]\n",
      " [1 2 8]]\n"
     ]
    }
   ],
   "source": [
    "#Accessing 2d\n",
    "x=np.array([[2,3,4,6,7],[2,2,6,8,4], [3,7,8,4,6],[1,2,8,8,4], [3,7,5,4,9]])\n",
    "\n",
    "\n",
    "print(x[1:4,0:3])"
   ]
  },
  {
   "cell_type": "code",
   "execution_count": 12,
   "id": "b25f5e99-7e7c-49d6-9b1d-bad1ba3dfb80",
   "metadata": {},
   "outputs": [
    {
     "data": {
      "text/plain": [
       "28"
      ]
     },
     "execution_count": 12,
     "metadata": {},
     "output_type": "execute_result"
    }
   ],
   "source": [
    "import time\n",
    "import sys\n",
    "sys.getsizeof(1000)\n"
   ]
  },
  {
   "cell_type": "code",
   "execution_count": 13,
   "id": "81989d45-6299-4a7d-8e57-614da3ac2d7e",
   "metadata": {},
   "outputs": [
    {
     "name": "stdout",
     "output_type": "stream",
     "text": [
      "5600000\n"
     ]
    }
   ],
   "source": [
    "l=range(200000)\n",
    "print(sys.getsizeof(2)*len(l))"
   ]
  },
  {
   "cell_type": "code",
   "execution_count": 14,
   "id": "3613b4a3-fad2-44b5-a108-ac92dd119dfe",
   "metadata": {},
   "outputs": [
    {
     "data": {
      "text/plain": [
       "28"
      ]
     },
     "execution_count": 14,
     "metadata": {},
     "output_type": "execute_result"
    }
   ],
   "source": [
    "sys.getsizeof(100)"
   ]
  },
  {
   "cell_type": "code",
   "execution_count": 16,
   "id": "8d128b70-87f8-4531-ad8b-41d036b73cd7",
   "metadata": {},
   "outputs": [
    {
     "data": {
      "text/plain": [
       "4"
      ]
     },
     "execution_count": 16,
     "metadata": {},
     "output_type": "execute_result"
    }
   ],
   "source": [
    "a=np.arange(200000)\n",
    "a.itemsize"
   ]
  },
  {
   "cell_type": "code",
   "execution_count": 17,
   "id": "66234588-c70c-403d-b36b-4cae3a2c0442",
   "metadata": {},
   "outputs": [
    {
     "name": "stdout",
     "output_type": "stream",
     "text": [
      "800000\n"
     ]
    }
   ],
   "source": [
    "a=np.arange(200000)\n",
    "print(a.itemsize*len(a))"
   ]
  },
  {
   "cell_type": "code",
   "execution_count": 18,
   "id": "2056c5e7-ee37-47fe-af4f-8456403084d6",
   "metadata": {},
   "outputs": [
    {
     "name": "stdout",
     "output_type": "stream",
     "text": [
      "time taken: 200.78420639038086\n"
     ]
    }
   ],
   "source": [
    "a1=range(1000000)\n",
    "b1=range(1000000)\n",
    "start=time.time()\n",
    "c1=[(x+y) for x,y in zip(a1,b1)]\n",
    "print(\"time taken:\", (time.time()-start)*1000)"
   ]
  },
  {
   "cell_type": "code",
   "execution_count": 19,
   "id": "139d30fa-5255-4302-9d9c-812224aaf4fb",
   "metadata": {},
   "outputs": [
    {
     "data": {
      "text/plain": [
       "[(1, 4), (2, 7)]"
      ]
     },
     "execution_count": 19,
     "metadata": {},
     "output_type": "execute_result"
    }
   ],
   "source": [
    "a=[1,2]\n",
    "b=[4,7]\n",
    "list(zip(a,b))"
   ]
  },
  {
   "cell_type": "code",
   "execution_count": 21,
   "id": "f59e7e71-fe33-4372-a4a8-439ead95ec6c",
   "metadata": {},
   "outputs": [
    {
     "name": "stdout",
     "output_type": "stream",
     "text": [
      "Time taken by array: 2.7875900268554688\n"
     ]
    }
   ],
   "source": [
    "a2=np.arange(100000)\n",
    "b2=np.arange(100000)\n",
    "start=time.time()\n",
    "c2=a2+b2\n",
    "print(\"Time taken by array:\",(time.time()-start)*1000)"
   ]
  },
  {
   "cell_type": "code",
   "execution_count": 22,
   "id": "7454d8e4-9e16-4abc-8700-64024b4c8684",
   "metadata": {},
   "outputs": [
    {
     "data": {
      "text/plain": [
       "array([   0,    1,    4,    9,   16,   25,   36,   49,   64,   81,  100,\n",
       "        121,  144,  169,  196,  225,  256,  289,  324,  361,  400,  441,\n",
       "        484,  529,  576,  625,  676,  729,  784,  841,  900,  961, 1024,\n",
       "       1089, 1156, 1225, 1296, 1369, 1444, 1521, 1600, 1681, 1764, 1849,\n",
       "       1936, 2025, 2116, 2209, 2304, 2401, 2500, 2601, 2704, 2809, 2916,\n",
       "       3025, 3136, 3249, 3364, 3481, 3600, 3721, 3844, 3969, 4096, 4225,\n",
       "       4356, 4489, 4624, 4761, 4900, 5041, 5184, 5329, 5476, 5625, 5776,\n",
       "       5929, 6084, 6241, 6400, 6561, 6724, 6889, 7056, 7225, 7396, 7569,\n",
       "       7744, 7921, 8100, 8281, 8464, 8649, 8836, 9025, 9216, 9409, 9604,\n",
       "       9801])"
      ]
     },
     "execution_count": 22,
     "metadata": {},
     "output_type": "execute_result"
    }
   ],
   "source": [
    "n1=np.arange(100)\n",
    "n2=np.arange(100)\n",
    "n1*n2"
   ]
  },
  {
   "cell_type": "code",
   "execution_count": 23,
   "id": "aae6ddc6-9ff8-40ff-a0de-d07c02ce7dad",
   "metadata": {},
   "outputs": [
    {
     "name": "stdout",
     "output_type": "stream",
     "text": [
      "[10.  12.5 15.  17.5 20. ]\n"
     ]
    }
   ],
   "source": [
    "#Numpy.linspace\n",
    "x=np.linspace(10,20,5)\n",
    "print(x)\n"
   ]
  },
  {
   "cell_type": "code",
   "execution_count": 25,
   "id": "c3b146ee-2f72-47c5-8b39-8d8a35ba39af",
   "metadata": {},
   "outputs": [
    {
     "name": "stdout",
     "output_type": "stream",
     "text": [
      "[10. 12. 14. 16. 18.]\n"
     ]
    }
   ],
   "source": [
    "#Endpoint=false\n",
    "x=np.linspace(10,20,5,endpoint=False)\n",
    "print(x)"
   ]
  },
  {
   "cell_type": "code",
   "execution_count": 26,
   "id": "d53681e0-3db5-4f38-804f-0467f3bce2bd",
   "metadata": {},
   "outputs": [
    {
     "name": "stdout",
     "output_type": "stream",
     "text": [
      "(array([1.  , 1.25, 1.5 , 1.75, 2.  ]), 0.25)\n"
     ]
    }
   ],
   "source": [
    "#Find retstep value\n",
    "x=np.linspace(1,2,5,retstep=True)\n",
    "print(x)"
   ]
  },
  {
   "cell_type": "code",
   "execution_count": 27,
   "id": "410528e4-490c-4f1e-8b89-710f87b66b02",
   "metadata": {},
   "outputs": [
    {
     "name": "stdout",
     "output_type": "stream",
     "text": [
      "[3 5 7]\n",
      "\n",
      "[5 7 9]\n",
      "\n"
     ]
    },
    {
     "data": {
      "text/plain": [
       "array([3, 5, 7, 5, 7, 9])"
      ]
     },
     "execution_count": 27,
     "metadata": {},
     "output_type": "execute_result"
    }
   ],
   "source": [
    "#Numpy.hstack() Function\n",
    "x=np.array((3,5,7))\n",
    "print(x)\n",
    "print()\n",
    "y=np.array((5,7,9))\n",
    "print(y)\n",
    "print()\n",
    "np.hstack((x,y))"
   ]
  },
  {
   "cell_type": "code",
   "execution_count": 28,
   "id": "afdc96a2-cf64-4192-80ea-bd1260743c34",
   "metadata": {},
   "outputs": [
    {
     "name": "stdout",
     "output_type": "stream",
     "text": [
      "[[3]\n",
      " [5]\n",
      " [7]]\n",
      "\n",
      "[[5]\n",
      " [7]\n",
      " [9]]\n",
      "\n"
     ]
    },
    {
     "data": {
      "text/plain": [
       "array([[3, 5],\n",
       "       [5, 7],\n",
       "       [7, 9]])"
      ]
     },
     "execution_count": 28,
     "metadata": {},
     "output_type": "execute_result"
    }
   ],
   "source": [
    "x=np.array([[3],[5],[7]])\n",
    "print(x)\n",
    "print()\n",
    "y=np.array([[5],[7],[9]])\n",
    "print(y)\n",
    "print()\n",
    "np.hstack((x,y))"
   ]
  },
  {
   "cell_type": "code",
   "execution_count": 29,
   "id": "96d49a1c-f947-4fa3-8301-f6c7bf91a220",
   "metadata": {},
   "outputs": [
    {
     "name": "stdout",
     "output_type": "stream",
     "text": [
      "[3 5 7]\n",
      "\n",
      "[5 7 9]\n",
      "\n"
     ]
    },
    {
     "data": {
      "text/plain": [
       "array([[3, 5, 7],\n",
       "       [5, 7, 9]])"
      ]
     },
     "execution_count": 29,
     "metadata": {},
     "output_type": "execute_result"
    }
   ],
   "source": [
    "x=np.array((3,5,7))\n",
    "print(x)\n",
    "print()\n",
    "y=np.array((5,7,9))\n",
    "print(y)\n",
    "print()\n",
    "np.vstack((x,y))"
   ]
  },
  {
   "cell_type": "code",
   "execution_count": 30,
   "id": "b15024b6-2ebd-4caf-8738-96319e57db34",
   "metadata": {},
   "outputs": [
    {
     "name": "stdout",
     "output_type": "stream",
     "text": [
      "[[3]\n",
      " [5]\n",
      " [7]]\n",
      "\n",
      "[[5]\n",
      " [7]\n",
      " [9]]\n",
      "\n"
     ]
    },
    {
     "data": {
      "text/plain": [
       "array([[3],\n",
       "       [5],\n",
       "       [7],\n",
       "       [5],\n",
       "       [7],\n",
       "       [9]])"
      ]
     },
     "execution_count": 30,
     "metadata": {},
     "output_type": "execute_result"
    }
   ],
   "source": [
    "x=np.array([[3],[5],[7]])\n",
    "print(x)\n",
    "print()\n",
    "y=np.array([[5],[7],[9]])\n",
    "print(y)\n",
    "print()\n",
    "np.vstack((x,y))"
   ]
  },
  {
   "cell_type": "code",
   "execution_count": 31,
   "id": "e4ed3ff7-4952-41a7-98bc-91229e1c79c3",
   "metadata": {},
   "outputs": [
    {
     "name": "stdout",
     "output_type": "stream",
     "text": [
      "[ 1  2  3  4  5  6  7  8  9 10 11 12 13 14 15 16 17 18 19 20]\n"
     ]
    }
   ],
   "source": [
    "#Condition\n",
    "a=np.arange(1,21)\n",
    "print(a)"
   ]
  },
  {
   "cell_type": "code",
   "execution_count": 32,
   "id": "a936156d-0635-4ee1-8f95-3b7a06356fc0",
   "metadata": {},
   "outputs": [
    {
     "data": {
      "text/plain": [
       "array([False, False, False, False, False, False, False, False, False,\n",
       "       False,  True,  True,  True,  True,  True,  True,  True,  True,\n",
       "        True,  True])"
      ]
     },
     "execution_count": 32,
     "metadata": {},
     "output_type": "execute_result"
    }
   ],
   "source": [
    "a>10"
   ]
  },
  {
   "cell_type": "code",
   "execution_count": 33,
   "id": "6994f6f7-a620-4f02-b6a1-d1a7d9cf3bb8",
   "metadata": {},
   "outputs": [
    {
     "data": {
      "text/plain": [
       "array([11, 12, 13, 14, 15, 16, 17, 18, 19, 20])"
      ]
     },
     "execution_count": 33,
     "metadata": {},
     "output_type": "execute_result"
    }
   ],
   "source": [
    "a[a>10]"
   ]
  },
  {
   "cell_type": "code",
   "execution_count": 34,
   "id": "679ef694-660a-4e7d-814d-d348473dc2f9",
   "metadata": {},
   "outputs": [
    {
     "data": {
      "text/plain": [
       "array([ 2,  4,  6,  8, 10, 12, 14, 16, 18, 20])"
      ]
     },
     "execution_count": 34,
     "metadata": {},
     "output_type": "execute_result"
    }
   ],
   "source": [
    "a[a%2==0]"
   ]
  },
  {
   "cell_type": "code",
   "execution_count": 36,
   "id": "63c8b84b-2bfc-41d9-b3f4-2f7bf7f521c0",
   "metadata": {},
   "outputs": [
    {
     "data": {
      "text/plain": [
       "array([ 1,  3,  5,  7,  9, 11, 13, 15, 17, 19])"
      ]
     },
     "execution_count": 36,
     "metadata": {},
     "output_type": "execute_result"
    }
   ],
   "source": [
    "a[a%2!=0]"
   ]
  },
  {
   "cell_type": "code",
   "execution_count": 37,
   "id": "1d338e16-79ed-45e7-9401-d389114a96dd",
   "metadata": {},
   "outputs": [
    {
     "data": {
      "text/plain": [
       "array([5])"
      ]
     },
     "execution_count": 37,
     "metadata": {},
     "output_type": "execute_result"
    }
   ],
   "source": [
    "a[a==5]"
   ]
  },
  {
   "cell_type": "code",
   "execution_count": 38,
   "id": "7e9aa06a-1960-4b1b-8609-6f7ce61c56d0",
   "metadata": {},
   "outputs": [
    {
     "data": {
      "text/plain": [
       "array([1, 2, 3, 4])"
      ]
     },
     "execution_count": 38,
     "metadata": {},
     "output_type": "execute_result"
    }
   ],
   "source": [
    "a[a<5]"
   ]
  },
  {
   "cell_type": "code",
   "execution_count": 41,
   "id": "d113f213-4bad-43fd-95ee-a52a23fa8bc0",
   "metadata": {},
   "outputs": [
    {
     "data": {
      "text/plain": [
       "array([ 0,  2,  0,  4,  0,  6,  0,  8,  0, 10,  0, 12,  0, 14,  0, 16,  0,\n",
       "       18,  0, 20])"
      ]
     },
     "execution_count": 41,
     "metadata": {},
     "output_type": "execute_result"
    }
   ],
   "source": [
    "a[a%2!=0]=0\n",
    "a"
   ]
  },
  {
   "cell_type": "code",
   "execution_count": 42,
   "id": "6e6d218d-58b4-4a3e-b49f-17f8a068b041",
   "metadata": {},
   "outputs": [
    {
     "data": {
      "text/plain": [
       "30"
      ]
     },
     "execution_count": 42,
     "metadata": {},
     "output_type": "execute_result"
    }
   ],
   "source": [
    "a=10\n",
    "b=20\n",
    "a+b"
   ]
  },
  {
   "cell_type": "code",
   "execution_count": 9,
   "id": "cf558f86-6228-4710-93d7-10aef0e02a34",
   "metadata": {},
   "outputs": [
    {
     "data": {
      "text/plain": [
       "5"
      ]
     },
     "execution_count": 9,
     "metadata": {},
     "output_type": "execute_result"
    }
   ],
   "source": [
    "#Random Number Integer\n",
    "import numpy as np\n",
    "random_number=np.random.randint(0,10)\n",
    "random_number\n"
   ]
  },
  {
   "cell_type": "code",
   "execution_count": 14,
   "id": "c4eb94a9-0071-4a3a-926c-623bc70ea93c",
   "metadata": {},
   "outputs": [
    {
     "data": {
      "text/plain": [
       "14"
      ]
     },
     "execution_count": 14,
     "metadata": {},
     "output_type": "execute_result"
    }
   ],
   "source": [
    "from numpy import random\n",
    "random_number=random.randint(10,20)\n",
    "random_number"
   ]
  },
  {
   "cell_type": "code",
   "execution_count": 19,
   "id": "67f19001-fdce-4598-ac21-513533afc964",
   "metadata": {},
   "outputs": [
    {
     "data": {
      "text/plain": [
       "0.950221253371869"
      ]
     },
     "execution_count": 19,
     "metadata": {},
     "output_type": "execute_result"
    }
   ],
   "source": [
    "random_number=np.random.rand()\n",
    "random_number"
   ]
  },
  {
   "cell_type": "code",
   "execution_count": 24,
   "id": "e04840be-15a5-4b6a-9441-8568166581c2",
   "metadata": {},
   "outputs": [
    {
     "name": "stdout",
     "output_type": "stream",
     "text": [
      "1D random integer array:\n",
      " [0 2 5 2 0]\n"
     ]
    }
   ],
   "source": [
    "integer_array=np.random.randint(0,10,5)\n",
    "print(\"1D random integer array:\\n\",integer_array)"
   ]
  },
  {
   "cell_type": "code",
   "execution_count": 28,
   "id": "f8d10fc4-f475-4d9b-9b59-03678fc6323c",
   "metadata": {},
   "outputs": [
    {
     "name": "stdout",
     "output_type": "stream",
     "text": [
      "1D random float array:\n",
      " [2.39814697e-01 1.97815001e-01 3.76545399e-05 6.24411768e-01\n",
      " 2.18719713e-01]\n"
     ]
    }
   ],
   "source": [
    "float_array=np.random.rand(5)\n",
    "print(\"1D random float array:\\n\",float_array)"
   ]
  },
  {
   "cell_type": "code",
   "execution_count": 27,
   "id": "125315fe-a4ff-49f2-be0d-47c4ee9376ef",
   "metadata": {},
   "outputs": [
    {
     "name": "stdout",
     "output_type": "stream",
     "text": [
      "2D random integer array:\n",
      " [[1 3 1 8]\n",
      " [5 4 6 4]\n",
      " [4 9 8 5]]\n"
     ]
    }
   ],
   "source": [
    "#Generate 2D array\n",
    "result=np.random.randint(0,10,(3,4))\n",
    "print(\"2D random integer array:\\n\",result)"
   ]
  },
  {
   "cell_type": "code",
   "execution_count": 32,
   "id": "b6c54062-d664-4360-bf9b-58629d84d51c",
   "metadata": {},
   "outputs": [
    {
     "data": {
      "text/plain": [
       "array([[-0.41397905, -0.24970487,  0.0563931 ,  0.65305199, -0.41403464],\n",
       "       [-1.09903612, -2.05463354,  0.60700508,  0.3035904 ,  1.22766003],\n",
       "       [ 0.34285004, -0.33369633, -0.22166818,  2.70760787,  0.20008296],\n",
       "       [-0.30170346, -1.42446677, -0.03496138, -0.94089983, -0.23635673],\n",
       "       [ 1.39804255, -0.89026711, -0.166848  , -0.25930739,  0.49616755]])"
      ]
     },
     "execution_count": 32,
     "metadata": {},
     "output_type": "execute_result"
    }
   ],
   "source": [
    "np.random.randn(5,5)"
   ]
  },
  {
   "cell_type": "code",
   "execution_count": 37,
   "id": "d7823201-ef91-4056-a9c6-0495533508ce",
   "metadata": {},
   "outputs": [
    {
     "data": {
      "text/plain": [
       "array([[127, 145, 244, 183, 142],\n",
       "       [284, 146, 171, 231, 155],\n",
       "       [293, 272, 220, 102, 197],\n",
       "       [200, 180, 245, 290, 213]])"
      ]
     },
     "execution_count": 37,
     "metadata": {},
     "output_type": "execute_result"
    }
   ],
   "source": [
    "np.random.randint(100,300,20).reshape(4,5)"
   ]
  },
  {
   "cell_type": "code",
   "execution_count": 67,
   "id": "27d34fdd-a209-4ed8-95bb-13cdc158f0e7",
   "metadata": {},
   "outputs": [
    {
     "data": {
      "text/plain": [
       "array([[42, 81,  3, 10, 39, 37],\n",
       "       [ 3, 57,  4, 90, 28, 41],\n",
       "       [17, 61, 53, 98, 53, 16],\n",
       "       [85, 95, 61, 83, 63, 11],\n",
       "       [82, 82, 55, 34, 13, 99]])"
      ]
     },
     "execution_count": 67,
     "metadata": {},
     "output_type": "execute_result"
    }
   ],
   "source": [
    "from numpy.random import randint as ri\n",
    "np.random.seed(675)\n",
    "m=ri(1,100,(5,6))\n",
    "print(m)"
   ]
  },
  {
   "cell_type": "code",
   "execution_count": 68,
   "id": "309546ce-a211-4e34-826a-a260d77b2e2a",
   "metadata": {},
   "outputs": [
    {
     "name": "stdout",
     "output_type": "stream",
     "text": [
      "[[42 81  3 10 39]\n",
      " [37  3 57  4 90]\n",
      " [28 41 17 61 53]\n",
      " [98 53 16 85 95]\n",
      " [61 83 63 11 82]]\n"
     ]
    }
   ],
   "source": [
    "np.random.seed(675)\n",
    "m=ri(1,100,(5,5))\n",
    "print(m)"
   ]
  },
  {
   "cell_type": "code",
   "execution_count": 69,
   "id": "27510d37-6967-4bdd-9fbf-4e159329592c",
   "metadata": {},
   "outputs": [
    {
     "data": {
      "text/plain": [
       "array([[ 3, 10, 39, 42, 81],\n",
       "       [ 3,  4, 37, 57, 90],\n",
       "       [17, 28, 41, 53, 61],\n",
       "       [16, 53, 85, 95, 98],\n",
       "       [11, 61, 63, 82, 83]])"
      ]
     },
     "execution_count": 69,
     "metadata": {},
     "output_type": "execute_result"
    }
   ],
   "source": [
    "np.sort(m)"
   ]
  },
  {
   "cell_type": "code",
   "execution_count": 70,
   "id": "c57c5bfe-cd33-4368-8514-99e83a7705e8",
   "metadata": {},
   "outputs": [
    {
     "data": {
      "text/plain": [
       "array([[28,  3,  3,  4, 39],\n",
       "       [37, 41, 16, 10, 53],\n",
       "       [42, 53, 17, 11, 82],\n",
       "       [61, 81, 57, 61, 90],\n",
       "       [98, 83, 63, 85, 95]])"
      ]
     },
     "execution_count": 70,
     "metadata": {},
     "output_type": "execute_result"
    }
   ],
   "source": [
    "np.sort(m,axis=0)"
   ]
  },
  {
   "cell_type": "code",
   "execution_count": 76,
   "id": "c24f60b6-e459-42ac-85da-a6492cfb0e77",
   "metadata": {},
   "outputs": [
    {
     "data": {
      "text/plain": [
       "array([59, 31, 20, 86, 14, 98, 53, 80, 79, 57, 72, 52, 44, 47, 22, 78, 67,\n",
       "       93, 33, 39, 48, 17, 52, 81, 26, 56, 54, 21, 26, 92])"
      ]
     },
     "execution_count": 76,
     "metadata": {},
     "output_type": "execute_result"
    }
   ],
   "source": [
    "a=ri(1,100,30)\n",
    "a"
   ]
  },
  {
   "cell_type": "code",
   "execution_count": 77,
   "id": "00367303-ea0b-44dc-b557-90b816015219",
   "metadata": {},
   "outputs": [
    {
     "data": {
      "text/plain": [
       "98"
      ]
     },
     "execution_count": 77,
     "metadata": {},
     "output_type": "execute_result"
    }
   ],
   "source": [
    "a.max()"
   ]
  },
  {
   "cell_type": "code",
   "execution_count": 78,
   "id": "3563616f-df09-4387-8f6a-d7d444b366b3",
   "metadata": {},
   "outputs": [
    {
     "data": {
      "text/plain": [
       "14"
      ]
     },
     "execution_count": 78,
     "metadata": {},
     "output_type": "execute_result"
    }
   ],
   "source": [
    "a.min()"
   ]
  },
  {
   "cell_type": "code",
   "execution_count": 80,
   "id": "6a4f2a59-e5c9-4d65-91d7-abb2433e4aed",
   "metadata": {},
   "outputs": [
    {
     "data": {
      "text/plain": [
       "5"
      ]
     },
     "execution_count": 80,
     "metadata": {},
     "output_type": "execute_result"
    }
   ],
   "source": [
    "a.argmax() #Return index of maximun number"
   ]
  },
  {
   "cell_type": "code",
   "execution_count": 81,
   "id": "49b714ad-7cde-46f7-90e9-7b60a934dbda",
   "metadata": {},
   "outputs": [
    {
     "data": {
      "text/plain": [
       "array([5, 1, 2, 4, 0, 3], dtype=int64)"
      ]
     },
     "execution_count": 81,
     "metadata": {},
     "output_type": "execute_result"
    }
   ],
   "source": [
    "ls=[121,23,34,145,56,18]\n",
    "a=np.array(ls)\n",
    "a.argsort() #it retrun the soft index"
   ]
  },
  {
   "cell_type": "code",
   "execution_count": 82,
   "id": "726d24bb-8717-4f5d-b8f0-7438212b67c8",
   "metadata": {},
   "outputs": [
    {
     "data": {
      "text/plain": [
       "array([[89, 87, 29, 94, 53],\n",
       "       [61, 27, 63, 71,  5],\n",
       "       [96, 73, 29, 11, 72],\n",
       "       [41, 27, 89, 21, 95],\n",
       "       [22,  7, 68, 43, 84],\n",
       "       [13, 61, 72, 85, 56]])"
      ]
     },
     "execution_count": 82,
     "metadata": {},
     "output_type": "execute_result"
    }
   ],
   "source": [
    "a=ri(1,100,30)\n",
    "b=a.reshape(6,5)\n",
    "b"
   ]
  },
  {
   "cell_type": "code",
   "execution_count": 83,
   "id": "28bf74ff-d2ed-4b0c-b51b-2bbcc3f94e0e",
   "metadata": {},
   "outputs": [
    {
     "data": {
      "text/plain": [
       "array([96, 87, 89, 94, 95])"
      ]
     },
     "execution_count": 83,
     "metadata": {},
     "output_type": "execute_result"
    }
   ],
   "source": [
    "b.max(axis=0) #Max value of every column"
   ]
  },
  {
   "cell_type": "code",
   "execution_count": 84,
   "id": "bb82cf77-2aef-4e0f-8254-c43666b9c9b2",
   "metadata": {},
   "outputs": [
    {
     "data": {
      "text/plain": [
       "array([94, 71, 96, 95, 84, 85])"
      ]
     },
     "execution_count": 84,
     "metadata": {},
     "output_type": "execute_result"
    }
   ],
   "source": [
    "b.max(axis=1) #Max value of every row"
   ]
  },
  {
   "cell_type": "code",
   "execution_count": 85,
   "id": "24f6f3bd-f4d4-4a7f-ae18-ae0b29816568",
   "metadata": {},
   "outputs": [
    {
     "data": {
      "text/plain": [
       "array([3, 3, 0, 4, 4, 3], dtype=int64)"
      ]
     },
     "execution_count": 85,
     "metadata": {},
     "output_type": "execute_result"
    }
   ],
   "source": [
    "b.argmax(axis=1)"
   ]
  },
  {
   "cell_type": "code",
   "execution_count": 86,
   "id": "0fbe9d41-6830-4da6-ae1e-24440e543dc1",
   "metadata": {},
   "outputs": [
    {
     "data": {
      "text/plain": [
       "array([1, 2, 3, 4, 5, 2])"
      ]
     },
     "execution_count": 86,
     "metadata": {},
     "output_type": "execute_result"
    }
   ],
   "source": [
    "a=np.array([1,2,3,4,5,2])\n",
    "a"
   ]
  },
  {
   "cell_type": "code",
   "execution_count": 87,
   "id": "f1126a19-95dc-4787-87d6-bf939b0c76df",
   "metadata": {},
   "outputs": [
    {
     "data": {
      "text/plain": [
       "1"
      ]
     },
     "execution_count": 87,
     "metadata": {},
     "output_type": "execute_result"
    }
   ],
   "source": [
    "a.ndim"
   ]
  },
  {
   "cell_type": "code",
   "execution_count": 88,
   "id": "ad625bab-0e4f-433b-980f-24cda1316ec3",
   "metadata": {},
   "outputs": [
    {
     "data": {
      "text/plain": [
       "(6,)"
      ]
     },
     "execution_count": 88,
     "metadata": {},
     "output_type": "execute_result"
    }
   ],
   "source": [
    "a.shape"
   ]
  },
  {
   "cell_type": "code",
   "execution_count": 89,
   "id": "850104a9-8a93-49f1-bdd5-08b4088c98d4",
   "metadata": {},
   "outputs": [
    {
     "data": {
      "text/plain": [
       "(array([1, 5], dtype=int64),)"
      ]
     },
     "execution_count": 89,
     "metadata": {},
     "output_type": "execute_result"
    }
   ],
   "source": [
    "np.where(a==2)"
   ]
  },
  {
   "cell_type": "code",
   "execution_count": 90,
   "id": "70fe3a88-5c46-4f53-b6aa-8847820caa71",
   "metadata": {},
   "outputs": [
    {
     "data": {
      "text/plain": [
       "(array([2], dtype=int64),)"
      ]
     },
     "execution_count": 90,
     "metadata": {},
     "output_type": "execute_result"
    }
   ],
   "source": [
    "np.where(a==3)"
   ]
  },
  {
   "cell_type": "code",
   "execution_count": 91,
   "id": "ca4104ff-7b83-4450-b3f0-60ed88967c5a",
   "metadata": {},
   "outputs": [
    {
     "data": {
      "text/plain": [
       "array([1, 2, 3, 4, 5, 6])"
      ]
     },
     "execution_count": 91,
     "metadata": {},
     "output_type": "execute_result"
    }
   ],
   "source": [
    "b=np.array([1,2,3,4,5,6])\n",
    "b"
   ]
  },
  {
   "cell_type": "code",
   "execution_count": 92,
   "id": "09319cdd-a6e2-43de-b7b7-775e78f3d09f",
   "metadata": {},
   "outputs": [
    {
     "data": {
      "text/plain": [
       "(array([0, 1, 2], dtype=int64),)"
      ]
     },
     "execution_count": 92,
     "metadata": {},
     "output_type": "execute_result"
    }
   ],
   "source": [
    "np.where(b<4)"
   ]
  },
  {
   "cell_type": "code",
   "execution_count": 100,
   "id": "f1ec0a16-9cc3-4e7e-a6bb-f98fb30ee4f3",
   "metadata": {},
   "outputs": [
    {
     "data": {
      "text/plain": [
       "(array([5], dtype=int64),)"
      ]
     },
     "execution_count": 100,
     "metadata": {},
     "output_type": "execute_result"
    }
   ],
   "source": [
    "np.where(b>5)"
   ]
  },
  {
   "cell_type": "code",
   "execution_count": 95,
   "id": "ba7edd38-6bce-4cfc-b1a5-e51253617e80",
   "metadata": {},
   "outputs": [
    {
     "data": {
      "text/plain": [
       "array([ 1,  2,  3,  4,  5,  6,  7,  8,  9, 10])"
      ]
     },
     "execution_count": 95,
     "metadata": {},
     "output_type": "execute_result"
    }
   ],
   "source": [
    "x=np.array([1,2,3,4,5,6,7,8,9,10])\n",
    "x"
   ]
  },
  {
   "cell_type": "code",
   "execution_count": 96,
   "id": "08e49366-9903-46d9-9301-51bc5c980e72",
   "metadata": {},
   "outputs": [
    {
     "data": {
      "text/plain": [
       "(array([1, 3, 5, 7, 9], dtype=int64),)"
      ]
     },
     "execution_count": 96,
     "metadata": {},
     "output_type": "execute_result"
    }
   ],
   "source": [
    "#Even Numbers\n",
    "np.where(x%2==0)"
   ]
  },
  {
   "cell_type": "code",
   "execution_count": 97,
   "id": "fbc80d82-487c-4cfb-8bfb-916b6a7d2932",
   "metadata": {},
   "outputs": [
    {
     "data": {
      "text/plain": [
       "(array([0, 2, 4, 6, 8], dtype=int64),)"
      ]
     },
     "execution_count": 97,
     "metadata": {},
     "output_type": "execute_result"
    }
   ],
   "source": [
    "#odd Numbers\n",
    "np.where(x%2!=0)"
   ]
  },
  {
   "cell_type": "code",
   "execution_count": 98,
   "id": "a8a90bdd-bc54-42a9-956d-d32c5507ea4c",
   "metadata": {},
   "outputs": [
    {
     "data": {
      "text/plain": [
       "array([ 1,  2,  3,  4, 10, 11, 15])"
      ]
     },
     "execution_count": 98,
     "metadata": {},
     "output_type": "execute_result"
    }
   ],
   "source": [
    "#Seachsoted\n",
    "x=np.array([1,2,3,4,10,11,15])\n",
    "x"
   ]
  },
  {
   "cell_type": "code",
   "execution_count": 99,
   "id": "1bba73b8-b172-420f-9dde-18acd48da5a7",
   "metadata": {},
   "outputs": [
    {
     "data": {
      "text/plain": [
       "4"
      ]
     },
     "execution_count": 99,
     "metadata": {},
     "output_type": "execute_result"
    }
   ],
   "source": [
    "np.searchsorted(x,8)"
   ]
  },
  {
   "cell_type": "code",
   "execution_count": null,
   "id": "f6562921-0968-4ecb-8215-86cc95a03b67",
   "metadata": {},
   "outputs": [],
   "source": []
  }
 ],
 "metadata": {
  "kernelspec": {
   "display_name": "Python 3 (ipykernel)",
   "language": "python",
   "name": "python3"
  },
  "language_info": {
   "codemirror_mode": {
    "name": "ipython",
    "version": 3
   },
   "file_extension": ".py",
   "mimetype": "text/x-python",
   "name": "python",
   "nbconvert_exporter": "python",
   "pygments_lexer": "ipython3",
   "version": "3.11.7"
  }
 },
 "nbformat": 4,
 "nbformat_minor": 5
}
