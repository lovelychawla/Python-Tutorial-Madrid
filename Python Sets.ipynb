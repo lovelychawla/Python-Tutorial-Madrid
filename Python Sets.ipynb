{
 "cells": [
  {
   "cell_type": "code",
   "execution_count": 2,
   "id": "4fab437a-ade3-43ca-938a-7558eeb276e3",
   "metadata": {},
   "outputs": [
    {
     "name": "stdout",
     "output_type": "stream",
     "text": [
      "{0, 1, 10.5, 'steve'}\n"
     ]
    }
   ],
   "source": [
    "#sets\n",
    "emp={1,'steve',0,10.5,True}\n",
    "print(emp)"
   ]
  },
  {
   "cell_type": "code",
   "execution_count": 4,
   "id": "ab1f1aae-2a6c-486b-815c-ab28c22cff54",
   "metadata": {},
   "outputs": [
    {
     "name": "stdout",
     "output_type": "stream",
     "text": [
      "{1, 2, 3, 4, 5}\n"
     ]
    }
   ],
   "source": [
    "nums={1,2,3,4,5,5}\n",
    "print(nums)"
   ]
  },
  {
   "cell_type": "code",
   "execution_count": 5,
   "id": "e8263f3c-85cb-4226-bf4d-3daa5439f676",
   "metadata": {},
   "outputs": [
    {
     "name": "stdout",
     "output_type": "stream",
     "text": [
      "{(10, 10), 10, 20}\n"
     ]
    }
   ],
   "source": [
    "myset={(10,10),10,20}\n",
    "print(myset)"
   ]
  },
  {
   "cell_type": "code",
   "execution_count": 6,
   "id": "83ca8eb3-d05c-45fb-8d14-c4bb503b206a",
   "metadata": {},
   "outputs": [
    {
     "ename": "TypeError",
     "evalue": "unhashable type: 'list'",
     "output_type": "error",
     "traceback": [
      "\u001b[1;31m---------------------------------------------------------------------------\u001b[0m",
      "\u001b[1;31mTypeError\u001b[0m                                 Traceback (most recent call last)",
      "Cell \u001b[1;32mIn[6], line 1\u001b[0m\n\u001b[1;32m----> 1\u001b[0m myset\u001b[38;5;241m=\u001b[39m{[\u001b[38;5;241m10\u001b[39m,\u001b[38;5;241m10\u001b[39m],\u001b[38;5;241m10\u001b[39m,\u001b[38;5;241m20\u001b[39m}\n\u001b[0;32m      2\u001b[0m \u001b[38;5;28mprint\u001b[39m(myset)\n",
      "\u001b[1;31mTypeError\u001b[0m: unhashable type: 'list'"
     ]
    }
   ],
   "source": [
    "myset={[10,10],10,20}\n",
    "print(myset)"
   ]
  },
  {
   "cell_type": "code",
   "execution_count": 8,
   "id": "4cb87d27-4650-4531-952a-25274e2244c6",
   "metadata": {},
   "outputs": [
    {
     "ename": "TypeError",
     "evalue": "unhashable type: 'set'",
     "output_type": "error",
     "traceback": [
      "\u001b[1;31m---------------------------------------------------------------------------\u001b[0m",
      "\u001b[1;31mTypeError\u001b[0m                                 Traceback (most recent call last)",
      "Cell \u001b[1;32mIn[8], line 1\u001b[0m\n\u001b[1;32m----> 1\u001b[0m myset\u001b[38;5;241m=\u001b[39m{{\u001b[38;5;241m10\u001b[39m,\u001b[38;5;241m10\u001b[39m},\u001b[38;5;241m10\u001b[39m,\u001b[38;5;241m20\u001b[39m}\n\u001b[0;32m      2\u001b[0m \u001b[38;5;28mprint\u001b[39m(myset)\n",
      "\u001b[1;31mTypeError\u001b[0m: unhashable type: 'set'"
     ]
    }
   ],
   "source": [
    "myset={{10,10},10,20}\n",
    "print(myset)"
   ]
  },
  {
   "cell_type": "code",
   "execution_count": 10,
   "id": "834ba70e-5220-4fdd-ac2d-625503147a95",
   "metadata": {},
   "outputs": [
    {
     "name": "stdout",
     "output_type": "stream",
     "text": [
      "{'h', 'o', 'e', 'l'}\n"
     ]
    }
   ],
   "source": [
    "#Set Converter\n",
    "s=set('hello')\n",
    "print(s)"
   ]
  },
  {
   "cell_type": "code",
   "execution_count": 11,
   "id": "c5642703-a43d-48ac-8b93-9f7cc93ffc7a",
   "metadata": {},
   "outputs": [
    {
     "name": "stdout",
     "output_type": "stream",
     "text": [
      "{1, 2, 3, 4, 5}\n"
     ]
    }
   ],
   "source": [
    "s=set((1,2,3,4,5))\n",
    "print(s)"
   ]
  },
  {
   "cell_type": "code",
   "execution_count": 12,
   "id": "1f085154-0f14-4413-aa65-fd617b14a65b",
   "metadata": {},
   "outputs": [
    {
     "name": "stdout",
     "output_type": "stream",
     "text": [
      "{1, 2}\n"
     ]
    }
   ],
   "source": [
    "d={1:'one', 2:'two'}\n",
    "s=set(d)\n",
    "print(s)"
   ]
  },
  {
   "cell_type": "code",
   "execution_count": 17,
   "id": "992ff4f0-992f-427b-a4db-0d0ab1763c41",
   "metadata": {},
   "outputs": [
    {
     "name": "stdout",
     "output_type": "stream",
     "text": [
      "{40, 10, 20, 30}\n",
      "{2, 3, 5, 7, 40, 10, 20, 30}\n",
      "{3, 5, 7, 40, 10, 20, 30}\n"
     ]
    }
   ],
   "source": [
    "#Set Collection\n",
    "s=set()\n",
    "s.add(10)\n",
    "s.add(20)\n",
    "s.add(30)\n",
    "s.add(40)\n",
    "print(s)\n",
    "primenums={2,3,5,7}\n",
    "s.update(primenums)\n",
    "print(s)\n",
    "s.remove(2)\n",
    "print(s)"
   ]
  },
  {
   "cell_type": "code",
   "execution_count": 3,
   "id": "41585c8b-d2da-4c3d-8acd-a943d38ad4c7",
   "metadata": {},
   "outputs": [
    {
     "name": "stdout",
     "output_type": "stream",
     "text": [
      "set after the clear() method is called: set()\n"
     ]
    }
   ],
   "source": [
    "#Python set clear method()\n",
    "langs={\"python\",\"C++\",\"C\", \"Go\"}\n",
    "langs.clear()\n",
    "print(\"set after the clear() method is called:\",langs)"
   ]
  },
  {
   "cell_type": "code",
   "execution_count": 6,
   "id": "e2f26cef-467b-493b-8419-5c4d3aee3c1e",
   "metadata": {},
   "outputs": [
    {
     "name": "stdout",
     "output_type": "stream",
     "text": [
      "original set: {'Jawa', 'python', 'C', 'C++'}\n",
      "Copied set: {'Jawa', 'python', 'C', 'C++'}\n"
     ]
    }
   ],
   "source": [
    "#Python Set Copy\n",
    "langs={\"python\",\"C++\",\"C\", \"Jawa\"}\n",
    "copiedlangs=langs.copy()\n",
    "print(\"original set:\",langs)\n",
    "print(\"Copied set:\",copiedlangs)\n"
   ]
  },
  {
   "cell_type": "code",
   "execution_count": 7,
   "id": "ffbc8a3d-ddb7-4286-abde-94b47e0a0f0f",
   "metadata": {},
   "outputs": [
    {
     "name": "stdout",
     "output_type": "stream",
     "text": [
      "nums-nums2: {1, 2, 3}\n",
      "nums2-nums: {8, 6, 7}\n"
     ]
    }
   ],
   "source": [
    "#Diffrence Set() Method\n",
    "nums={1,2,2,3,4,5}\n",
    "nums2={4,5,6,7,8,8}\n",
    "nums3=nums.difference(nums2)\n",
    "nums4=nums2.difference(nums)\n",
    "print(\"nums-nums2:\",nums3)\n",
    "print(\"nums2-nums:\",nums4)"
   ]
  },
  {
   "cell_type": "code",
   "execution_count": 11,
   "id": "9546897f-9fc2-4ca8-a7de-28e0a807beb1",
   "metadata": {},
   "outputs": [
    {
     "name": "stdout",
     "output_type": "stream",
     "text": [
      "common elements in nums and oddnums are: {1, 3, 5}\n"
     ]
    }
   ],
   "source": [
    "#Python set intersection () method\n",
    "nums={1,2,3,4,5}\n",
    "oddnums={1,3,5,7,9}\n",
    "commonnums=nums.intersection(oddnums)\n",
    "print(\"common elements in nums and oddnums are:\",commonnums)\n"
   ]
  },
  {
   "cell_type": "code",
   "execution_count": 12,
   "id": "3d0dd930-c588-40bf-b72d-c58fa83022bc",
   "metadata": {},
   "outputs": [
    {
     "name": "stdout",
     "output_type": "stream",
     "text": [
      "common elements: {3, 5}\n"
     ]
    }
   ],
   "source": [
    "nums={1,2,3,4,5}\n",
    "oddnums={1,3,5,7,9}\n",
    "primenums={2,3,5,7}\n",
    "commonnums=nums.intersection(oddnums,primenums)\n",
    "print(\"common elements:\",commonnums)"
   ]
  },
  {
   "cell_type": "code",
   "execution_count": 18,
   "id": "afbd9781-bb40-48b8-8a25-e0efc768d8c7",
   "metadata": {},
   "outputs": [
    {
     "name": "stdout",
     "output_type": "stream",
     "text": [
      "the union of two set is: {1, 2, 3, 4, 5, 6, 7, 8}\n"
     ]
    }
   ],
   "source": [
    "#Union () Method\n",
    "nums1={1,2,2,3,4,5}\n",
    "nums2={4,5,6,7,7,8}\n",
    "distinctnums=nums1.union(nums2)\n",
    "print(\"the union of two set is:\",distinctnums)"
   ]
  },
  {
   "cell_type": "code",
   "execution_count": null,
   "id": "2999dd4e-0eb3-449d-be2e-527beff4d0c9",
   "metadata": {},
   "outputs": [],
   "source": []
  }
 ],
 "metadata": {
  "kernelspec": {
   "display_name": "Python 3 (ipykernel)",
   "language": "python",
   "name": "python3"
  },
  "language_info": {
   "codemirror_mode": {
    "name": "ipython",
    "version": 3
   },
   "file_extension": ".py",
   "mimetype": "text/x-python",
   "name": "python",
   "nbconvert_exporter": "python",
   "pygments_lexer": "ipython3",
   "version": "3.11.7"
  }
 },
 "nbformat": 4,
 "nbformat_minor": 5
}
