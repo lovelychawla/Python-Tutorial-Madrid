{
 "cells": [
  {
   "cell_type": "code",
   "execution_count": 1,
   "id": "49507447-6600-488c-8f51-3d909fb88507",
   "metadata": {},
   "outputs": [
    {
     "data": {
      "text/plain": [
       "20"
      ]
     },
     "execution_count": 1,
     "metadata": {},
     "output_type": "execute_result"
    }
   ],
   "source": [
    "#Lambda\n",
    "def kelvin(a):\n",
    "    return(a+10)\n",
    "kelvin(10)"
   ]
  },
  {
   "cell_type": "code",
   "execution_count": 2,
   "id": "cad9b773-2005-40ae-b66e-d52e8fa172dc",
   "metadata": {},
   "outputs": [
    {
     "data": {
      "text/plain": [
       "1010"
      ]
     },
     "execution_count": 2,
     "metadata": {},
     "output_type": "execute_result"
    }
   ],
   "source": [
    "x=lambda a:a+10 #lambda Var:Expression(annoymous)\n",
    "x(1000)"
   ]
  },
  {
   "cell_type": "code",
   "execution_count": 3,
   "id": "cf23e885-dbef-4e47-9620-ce88c9b2833f",
   "metadata": {},
   "outputs": [
    {
     "data": {
      "text/plain": [
       "60"
      ]
     },
     "execution_count": 3,
     "metadata": {},
     "output_type": "execute_result"
    }
   ],
   "source": [
    "z=lambda a,b,c: a+b+c\n",
    "z(10,20,30)"
   ]
  },
  {
   "cell_type": "code",
   "execution_count": 4,
   "id": "8ed14336-bf2b-4682-bca4-ecae67afcdcd",
   "metadata": {},
   "outputs": [
    {
     "data": {
      "text/plain": [
       "1220"
      ]
     },
     "execution_count": 4,
     "metadata": {},
     "output_type": "execute_result"
    }
   ],
   "source": [
    "lovely=lambda a,b,c: a+b*c\n",
    "lovely(20,30,40)"
   ]
  },
  {
   "cell_type": "code",
   "execution_count": 6,
   "id": "c5e8e911-d1d9-4ce0-81b6-00e37faaa854",
   "metadata": {},
   "outputs": [
    {
     "data": {
      "text/plain": [
       "64"
      ]
     },
     "execution_count": 6,
     "metadata": {},
     "output_type": "execute_result"
    }
   ],
   "source": [
    "a=lambda x: x*2 if x%2==0 else x\n",
    "a(32)"
   ]
  },
  {
   "cell_type": "code",
   "execution_count": 7,
   "id": "0883a812-f7ca-445a-b693-d005e8f99ac8",
   "metadata": {},
   "outputs": [
    {
     "data": {
      "text/plain": [
       "[2, 4, 6, 8, 10]"
      ]
     },
     "execution_count": 7,
     "metadata": {},
     "output_type": "execute_result"
    }
   ],
   "source": [
    "#Map Function\n",
    "number=[1,2,3,4,5]\n",
    "list(map(lambda x: x+x, number))"
   ]
  },
  {
   "cell_type": "code",
   "execution_count": 8,
   "id": "0f2a69f2-15c7-4b93-8cb6-82114a5d192c",
   "metadata": {},
   "outputs": [
    {
     "data": {
      "text/plain": [
       "[12, 23, 34, 45, 12, 23, 34, 45]"
      ]
     },
     "execution_count": 8,
     "metadata": {},
     "output_type": "execute_result"
    }
   ],
   "source": [
    "def addition(n):\n",
    "    return(n*2)\n",
    "addition([12,23,34,45])"
   ]
  },
  {
   "cell_type": "code",
   "execution_count": 9,
   "id": "b2a3d007-ad7e-41d6-823a-061f9d241a7d",
   "metadata": {},
   "outputs": [
    {
     "data": {
      "text/plain": [
       "[24, 46, 68, 90]"
      ]
     },
     "execution_count": 9,
     "metadata": {},
     "output_type": "execute_result"
    }
   ],
   "source": [
    "number=[12,23,34,45]\n",
    "list(map(addition,number))"
   ]
  },
  {
   "cell_type": "code",
   "execution_count": 10,
   "id": "5efaff80-13b1-45c9-861f-937e2957e880",
   "metadata": {},
   "outputs": [
    {
     "data": {
      "text/plain": [
       "['ALFRED', 'TABITH', 'WILLIAM', 'ARLA']"
      ]
     },
     "execution_count": 10,
     "metadata": {},
     "output_type": "execute_result"
    }
   ],
   "source": [
    "my_pets=['alfred', 'tabith', 'william', 'arla']\n",
    "list(map(lambda x: x.upper(),my_pets))"
   ]
  },
  {
   "cell_type": "code",
   "execution_count": 12,
   "id": "5fb31c96-f717-466f-b8da-1e2aa26418bd",
   "metadata": {},
   "outputs": [
    {
     "name": "stdout",
     "output_type": "stream",
     "text": [
      "['ALFRED', 'TABITH', 'WILLIAM', 'ARLA']\n"
     ]
    }
   ],
   "source": [
    "my_pets=['alfred', 'tabith', 'william', 'arla']\n",
    "new=[]\n",
    "for i in my_pets:\n",
    "    new.append(i.upper())\n",
    "print(new)"
   ]
  },
  {
   "cell_type": "code",
   "execution_count": 15,
   "id": "a0061161-3b60-4120-b757-1fa67168a183",
   "metadata": {},
   "outputs": [
    {
     "data": {
      "text/plain": [
       "[(1, 'axx'), (2, 'byy'), (3, 'czz'), (4, 'dww'), (5, 'edd')]"
      ]
     },
     "execution_count": 15,
     "metadata": {},
     "output_type": "execute_result"
    }
   ],
   "source": [
    "my_strings=['a','b','c','d','e']\n",
    "my_numbers=[1,2,3,4,5]\n",
    "my_name=['xx','yy','zz','ww','dd']\n",
    "results=list(map(lambda x,y,z:(y,x+z), my_strings, my_numbers, my_name))\n",
    "list(results)"
   ]
  },
  {
   "cell_type": "code",
   "execution_count": 17,
   "id": "3c9b5dc7-6995-464a-9397-f70c7b1f948c",
   "metadata": {},
   "outputs": [
    {
     "name": "stdout",
     "output_type": "stream",
     "text": [
      "[4, 6, 8, 12]\n",
      "[5, 7, 97, 77, 23, 73, 61]\n"
     ]
    }
   ],
   "source": [
    "#Filter\n",
    "my_list=[1,5,4,6,8,11,3,12]\n",
    "new_list=list(filter(lambda x:(x%2==0), my_list))\n",
    "print(new_list)\n",
    "li=[5,7,22,97,54,62,77,23,73,61]\n",
    "final_list=list(filter(lambda x:(x%2 !=0),li))\n",
    "print(final_list)"
   ]
  },
  {
   "cell_type": "code",
   "execution_count": 20,
   "id": "655edbbb-41ab-4a50-bc3b-27b011b31d9c",
   "metadata": {},
   "outputs": [
    {
     "data": {
      "text/plain": [
       "['madam', 'anutforajaroftuna']"
      ]
     },
     "execution_count": 20,
     "metadata": {},
     "output_type": "execute_result"
    }
   ],
   "source": [
    "droms=(\"demigod\",\"rewire\",\"madam\",\"freer\",\"anutforajaroftuna\",\"kiosk\")\n",
    "palindromes=list(filter(lambda a:a==a[::-1],droms))\n",
    "palindromes"
   ]
  },
  {
   "cell_type": "code",
   "execution_count": 21,
   "id": "9f3bac30-6f73-4e5c-b2c8-1c0186c248a2",
   "metadata": {},
   "outputs": [
    {
     "data": {
      "text/plain": [
       "[90, 76, 88, 81]"
      ]
     },
     "execution_count": 21,
     "metadata": {},
     "output_type": "execute_result"
    }
   ],
   "source": [
    "scores=[66,90,68,59,76,60,88,75,81,65]\n",
    "def is_student(score):\n",
    "    return score>75\n",
    "over_75=list(filter(is_student,scores))\n",
    "over_75"
   ]
  },
  {
   "cell_type": "code",
   "execution_count": 22,
   "id": "b2f6e706-b4b9-4c9b-ad0f-581e4232f653",
   "metadata": {},
   "outputs": [
    {
     "data": {
      "text/plain": [
       "[(0, 'p'), (1, 'y'), (2, 't'), (3, 'h'), (4, 'o'), (5, 'n')]"
      ]
     },
     "execution_count": 22,
     "metadata": {},
     "output_type": "execute_result"
    }
   ],
   "source": [
    "#Enumerate\n",
    "s1=\"python\"\n",
    "list(enumerate(s1))\n"
   ]
  },
  {
   "cell_type": "code",
   "execution_count": 24,
   "id": "a6f91bbc-0ae1-4ff8-b131-b3a7451325a9",
   "metadata": {},
   "outputs": [
    {
     "data": {
      "text/plain": [
       "[(5, 'DL'), (6, 'ML'), (7, 'NLP')]"
      ]
     },
     "execution_count": 24,
     "metadata": {},
     "output_type": "execute_result"
    }
   ],
   "source": [
    "l1=[\"DL\",\"ML\",\"NLP\"]\n",
    "list(enumerate(l1,5))"
   ]
  },
  {
   "cell_type": "code",
   "execution_count": 1,
   "id": "3a368113-43cb-4c37-842a-12d67928e877",
   "metadata": {},
   "outputs": [
    {
     "data": {
      "text/plain": [
       "[('John', 'Jenny'), ('Peter', 'Ashwin')]"
      ]
     },
     "execution_count": 1,
     "metadata": {},
     "output_type": "execute_result"
    }
   ],
   "source": [
    "#Zip Function\n",
    "a=[\"John\", \"Peter\",\"Nishant\"]\n",
    "b=[\"Jenny\",\"Ashwin\"]\n",
    "list(zip(a,b))"
   ]
  },
  {
   "cell_type": "code",
   "execution_count": 2,
   "id": "0020526f-a906-4642-b8ee-b6133c0775c6",
   "metadata": {},
   "outputs": [
    {
     "data": {
      "text/plain": [
       "[('b', 'H'),\n",
       " ('h', 'a'),\n",
       " ('u', 's'),\n",
       " ('s', 's'),\n",
       " ('h', 'a'),\n",
       " ('a', 'n'),\n",
       " ('n', 'j')]"
      ]
     },
     "execution_count": 2,
     "metadata": {},
     "output_type": "execute_result"
    }
   ],
   "source": [
    "a=\"bhushan\"\n",
    "b=\"Hassanjhghfgfddt\"\n",
    "list(zip(a,b))"
   ]
  },
  {
   "cell_type": "code",
   "execution_count": 10,
   "id": "b84f9139-1672-401e-84c3-fe1a2e73f452",
   "metadata": {},
   "outputs": [
    {
     "name": "stdout",
     "output_type": "stream",
     "text": [
      "[(1, 'one'), (2, 'Two'), (3, 'Three'), (3, 'Three')]\n"
     ]
    }
   ],
   "source": [
    "number_list=[1,2,3,3]\n",
    "str_list=[\"one\",\"Two\",\"Three\",\"Three\"]\n",
    "result=zip(number_list,str_list)\n",
    "print (list(result))"
   ]
  },
  {
   "cell_type": "code",
   "execution_count": 14,
   "id": "1103a2c2-4bfe-44d2-905d-2926f4d287cb",
   "metadata": {},
   "outputs": [
    {
     "name": "stdout",
     "output_type": "stream",
     "text": [
      "[(1, 'One'), (2, 'two'), (3, 'Three'), (3, 'four')]\n",
      "[(1, 'One', 'One'), (2, 'two', 'two')]\n"
     ]
    }
   ],
   "source": [
    "numberlist=[1,2,3]\n",
    "str_list=[\"One\", \"two\"]\n",
    "number_tuple=[\"One\", \"two\",\"Three\",\"four\"]\n",
    "result=zip(number_list, number_tuple)\n",
    "print(list(result))\n",
    "result1=zip(number_list, number_tuple, str_list)\n",
    "print(list(result1))"
   ]
  },
  {
   "cell_type": "code",
   "execution_count": 17,
   "id": "ee5f423e-d996-4f77-879a-f6d4aa56e908",
   "metadata": {},
   "outputs": [
    {
     "name": "stdout",
     "output_type": "stream",
     "text": [
      "[('x', 3), ('y', 4), ('z', 5)]\n"
     ]
    },
    {
     "data": {
      "text/plain": [
       "(3, 4, 5)"
      ]
     },
     "execution_count": 17,
     "metadata": {},
     "output_type": "execute_result"
    }
   ],
   "source": [
    "#Unzip\n",
    "coordinate=[\"x\",\"y\",\"z\"]\n",
    "value=[3,4,5]\n",
    "result=zip(coordinate,value)\n",
    "result_list=list(result)\n",
    "print (result_list)\n",
    "c,v=zip(*result_list)\n",
    "c\n",
    "v"
   ]
  },
  {
   "cell_type": "code",
   "execution_count": 19,
   "id": "228b7d58-bf1a-4bdd-a64d-d60603906f35",
   "metadata": {},
   "outputs": [
    {
     "name": "stdout",
     "output_type": "stream",
     "text": [
      "Ashwin\n",
      "Jyoti\n"
     ]
    }
   ],
   "source": [
    "a=[\"Ashwin\", \"Jyoti\", \"Ashish\"]\n",
    "b=[90,70,60]\n",
    "for i,j in zip(a,b):\n",
    "    if j>=70:\n",
    "        print(i)"
   ]
  },
  {
   "cell_type": "code",
   "execution_count": 20,
   "id": "622af929-3aba-4b8b-98cf-1d45972ce347",
   "metadata": {},
   "outputs": [
    {
     "data": {
      "text/plain": [
       "[6, 10, 14]"
      ]
     },
     "execution_count": 20,
     "metadata": {},
     "output_type": "execute_result"
    }
   ],
   "source": [
    "a=[1,2,3]\n",
    "b=[4,5,6]\n",
    "c=[1,3,5]\n",
    "x=list(map(lambda x,y,z:x+y+z,a,b,c))\n",
    "x"
   ]
  },
  {
   "cell_type": "code",
   "execution_count": 21,
   "id": "d0789451-a2ab-45ab-b29a-15511e30d629",
   "metadata": {},
   "outputs": [
    {
     "data": {
      "text/plain": [
       "[6, 10, 14]"
      ]
     },
     "execution_count": 21,
     "metadata": {},
     "output_type": "execute_result"
    }
   ],
   "source": [
    "d=[]\n",
    "for i,j,k in zip(a,b,c):\n",
    "    d.append(i+j+k)\n",
    "d"
   ]
  },
  {
   "cell_type": "code",
   "execution_count": 22,
   "id": "f173efd1-7a58-4311-a5fa-00e4747d9cbd",
   "metadata": {},
   "outputs": [
    {
     "name": "stdout",
     "output_type": "stream",
     "text": [
      "AA nn uu rr aa gg "
     ]
    }
   ],
   "source": [
    "#List Comprehension\n",
    "name=\"Anurag\"\n",
    "for i in name:\n",
    "    print(i+i,end= \" \")"
   ]
  },
  {
   "cell_type": "code",
   "execution_count": 24,
   "id": "1f9a4fcc-ea35-4e06-a318-e45635b7b79f",
   "metadata": {},
   "outputs": [
    {
     "data": {
      "text/plain": [
       "['AA', 'nn', 'uu', 'rr', 'aa', 'gg']"
      ]
     },
     "execution_count": 24,
     "metadata": {},
     "output_type": "execute_result"
    }
   ],
   "source": [
    "w=[i+i for i in name]\n",
    "w"
   ]
  },
  {
   "cell_type": "code",
   "execution_count": 25,
   "id": "30193bb1-feb5-407e-b25d-0689278256a5",
   "metadata": {},
   "outputs": [
    {
     "data": {
      "text/plain": [
       "[1, 4, 9, 16, 25, 36]"
      ]
     },
     "execution_count": 25,
     "metadata": {},
     "output_type": "execute_result"
    }
   ],
   "source": [
    "a=[i*i for i in [1,2,3,4,5,6]]\n",
    "a"
   ]
  },
  {
   "cell_type": "code",
   "execution_count": 26,
   "id": "c1d6367f-c42d-4a90-b915-dc4a70a20293",
   "metadata": {},
   "outputs": [
    {
     "data": {
      "text/plain": [
       "[1, 4, 9, 16, 25, 36]"
      ]
     },
     "execution_count": 26,
     "metadata": {},
     "output_type": "execute_result"
    }
   ],
   "source": [
    "#Lambda\n",
    "res=list(map(lambda x:x*x,[1,2,3,4,5,6]))\n",
    "res"
   ]
  },
  {
   "cell_type": "code",
   "execution_count": 27,
   "id": "4690fe6f-2f5d-4c13-a83c-85c697c5fbb5",
   "metadata": {},
   "outputs": [
    {
     "data": {
      "text/plain": [
       "[8, 16, 24, 32]"
      ]
     },
     "execution_count": 27,
     "metadata": {},
     "output_type": "execute_result"
    }
   ],
   "source": [
    "y=[i*4 for i in [2,3,4,5,6,7,8,9] if i%2==0]\n",
    "y"
   ]
  },
  {
   "cell_type": "code",
   "execution_count": 28,
   "id": "e0fe2893-325a-4000-af83-0c0a47be1c29",
   "metadata": {},
   "outputs": [
    {
     "data": {
      "text/plain": [
       "[0, 14, 28, 42, 56, 70, 84, 98]"
      ]
     },
     "execution_count": 28,
     "metadata": {},
     "output_type": "execute_result"
    }
   ],
   "source": [
    "num_list=[y for y in range(100) if y%2==0 and y%7==0]\n",
    "num_list"
   ]
  },
  {
   "cell_type": "code",
   "execution_count": 29,
   "id": "48564f9d-4f89-4a54-a8f1-21b391e2b2d4",
   "metadata": {},
   "outputs": [
    {
     "data": {
      "text/plain": [
       "[0, 'Good', 2, 'Good', 4, 'Good', 6, 'Good', 8, 'Good']"
      ]
     },
     "execution_count": 29,
     "metadata": {},
     "output_type": "execute_result"
    }
   ],
   "source": [
    "obj=[i if i%2==0 else \"Good\" for i in range(10)]\n",
    "obj"
   ]
  },
  {
   "cell_type": "code",
   "execution_count": null,
   "id": "eb4141a7-0750-4cdc-aa92-48928e0d9f94",
   "metadata": {},
   "outputs": [],
   "source": []
  }
 ],
 "metadata": {
  "kernelspec": {
   "display_name": "Python 3 (ipykernel)",
   "language": "python",
   "name": "python3"
  },
  "language_info": {
   "codemirror_mode": {
    "name": "ipython",
    "version": 3
   },
   "file_extension": ".py",
   "mimetype": "text/x-python",
   "name": "python",
   "nbconvert_exporter": "python",
   "pygments_lexer": "ipython3",
   "version": "3.11.7"
  }
 },
 "nbformat": 4,
 "nbformat_minor": 5
}
