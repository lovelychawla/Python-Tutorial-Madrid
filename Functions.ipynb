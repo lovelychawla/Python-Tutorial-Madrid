{
 "cells": [
  {
   "cell_type": "code",
   "execution_count": 2,
   "id": "477db3a2-4455-4aab-8778-39e79ff6eaa2",
   "metadata": {},
   "outputs": [
    {
     "name": "stdin",
     "output_type": "stream",
     "text": [
      "enter the number 50\n",
      "enter the number 60\n"
     ]
    },
    {
     "name": "stdout",
     "output_type": "stream",
     "text": [
      "the sum is 110\n"
     ]
    }
   ],
   "source": [
    "#Default Function\n",
    "def addition():\n",
    "    a=int(input(\"enter the number\"))\n",
    "    b=int(input(\"enter the number\"))\n",
    "    c=a+b\n",
    "    print(\"the sum is\",c)\n",
    "addition() "
   ]
  },
  {
   "cell_type": "code",
   "execution_count": 6,
   "id": "a36a25c6-6cae-469f-9379-4b05e4210133",
   "metadata": {},
   "outputs": [
    {
     "name": "stdin",
     "output_type": "stream",
     "text": [
      "enter the number 50\n",
      "enter the number 50\n"
     ]
    },
    {
     "name": "stdout",
     "output_type": "stream",
     "text": [
      "the sum is 100\n"
     ]
    }
   ],
   "source": [
    "addition()"
   ]
  },
  {
   "cell_type": "code",
   "execution_count": 13,
   "id": "52521db5-fe3d-40a7-90f6-69d794840d19",
   "metadata": {},
   "outputs": [
    {
     "name": "stdin",
     "output_type": "stream",
     "text": [
      "enter the number 23\n",
      "enter the number 44\n",
      "enter the number 55\n"
     ]
    },
    {
     "name": "stdout",
     "output_type": "stream",
     "text": [
      "Simple interst is 556.6\n"
     ]
    }
   ],
   "source": [
    "def simple_interst():\n",
    "    p=int(input(\"enter the number\"))\n",
    "    r=int(input(\"enter the number\"))\n",
    "    t=int(input(\"enter the number\"))\n",
    "    si=p*r*t/100\n",
    "    print(\"Simple interst is\",si)\n",
    "simple_interst()\n"
   ]
  },
  {
   "cell_type": "code",
   "execution_count": 16,
   "id": "ae251845-a7d7-495d-9ec2-b6f53f7ad29c",
   "metadata": {},
   "outputs": [
    {
     "name": "stdin",
     "output_type": "stream",
     "text": [
      "enter the number 22\n",
      "enter the number 44\n",
      "enter the number 55\n"
     ]
    },
    {
     "name": "stdout",
     "output_type": "stream",
     "text": [
      "average is 84.33333333333333\n"
     ]
    }
   ],
   "source": [
    "def average():\n",
    "    a=int(input(\"enter the number\"))\n",
    "    b=int(input(\"enter the number\"))\n",
    "    c=int(input(\"enter the number\"))\n",
    "    avg=a+b+c/3\n",
    "    print(\"average is\",avg)\n",
    "average()"
   ]
  },
  {
   "cell_type": "code",
   "execution_count": 17,
   "id": "d22acac1-a106-4c19-b069-13c8f9457797",
   "metadata": {},
   "outputs": [
    {
     "name": "stdin",
     "output_type": "stream",
     "text": [
      "enter the number 77\n",
      "enter the number 88\n",
      "enter the number 99\n",
      "enter the number 88\n",
      "enter the number 77\n",
      "enter the number 66\n"
     ]
    },
    {
     "name": "stdout",
     "output_type": "stream",
     "text": [
      "percentage is 82.5\n"
     ]
    }
   ],
   "source": [
    "def percentage():\n",
    "    l=int(input(\"enter the number\"))\n",
    "    o=int(input(\"enter the number\"))\n",
    "    v=int(input(\"enter the number\"))\n",
    "    e=int(input(\"enter the number\"))\n",
    "    l=int(input(\"enter the number\"))\n",
    "    y=int(input(\"enter the number\"))\n",
    "    s=l+o+v+e+l+y\n",
    "    per=s*100/600\n",
    "    print(\"percentage is\",per)\n",
    "percentage()"
   ]
  },
  {
   "cell_type": "code",
   "execution_count": 23,
   "id": "54022494-677a-46bd-a1be-dce3d23b77ac",
   "metadata": {},
   "outputs": [
    {
     "name": "stdin",
     "output_type": "stream",
     "text": [
      "enter the number 4\n"
     ]
    },
    {
     "name": "stdout",
     "output_type": "stream",
     "text": [
      "even number\n"
     ]
    }
   ],
   "source": [
    "def even_odd():\n",
    "    n=int(input(\"enter the number\"))\n",
    "    if n%2==0:\n",
    "       print(\"even number\")\n",
    "    else:\n",
    "       print(\"odd number\")\n",
    "even_odd()\n",
    "\n"
   ]
  },
  {
   "cell_type": "code",
   "execution_count": 25,
   "id": "4b8efe09-2486-4df3-aed8-4b6ae6c290a5",
   "metadata": {},
   "outputs": [
    {
     "name": "stdin",
     "output_type": "stream",
     "text": [
      "enter the number 44\n"
     ]
    },
    {
     "name": "stdout",
     "output_type": "stream",
     "text": [
      "eligible to vote\n"
     ]
    }
   ],
   "source": [
    "def vote_eligiblity():\n",
    "    age=int(input(\"enter the number\"))\n",
    "    if age>=18:\n",
    "       print(\"eligible to vote\")\n",
    "    else:\n",
    "       print(\"not eligible to vote\")\n",
    "vote_eligiblity()\n",
    "\n",
    "             "
   ]
  },
  {
   "cell_type": "code",
   "execution_count": 4,
   "id": "24dccb7b-eb1e-44f3-bcc6-749c09f5b8da",
   "metadata": {},
   "outputs": [
    {
     "name": "stdout",
     "output_type": "stream",
     "text": [
      "the sum is 57\n"
     ]
    }
   ],
   "source": [
    "#Arguement Function\n",
    "#Addition\n",
    "def addition(a,b):\n",
    "    c=a+b\n",
    "    print(\"the sum is\",c)\n",
    "addition(23,34)"
   ]
  },
  {
   "cell_type": "code",
   "execution_count": 5,
   "id": "fd680a57-e70f-40e3-93d8-c04db7b3b1a5",
   "metadata": {},
   "outputs": [
    {
     "name": "stdin",
     "output_type": "stream",
     "text": [
      "enter the number 50\n",
      "enter the number 50\n"
     ]
    },
    {
     "name": "stdout",
     "output_type": "stream",
     "text": [
      "the sum is 100\n"
     ]
    }
   ],
   "source": [
    "#Addition\n",
    "x=int(input(\"enter the number\"))\n",
    "y=int(input(\"enter the number\"))\n",
    "addition(x,y)"
   ]
  },
  {
   "cell_type": "code",
   "execution_count": 10,
   "id": "40a58c04-027d-4729-a7ef-52878df3acea",
   "metadata": {},
   "outputs": [
    {
     "name": "stdout",
     "output_type": "stream",
     "text": [
      "Average is 23.0\n"
     ]
    }
   ],
   "source": [
    "#Average of three Numbers\n",
    "def average(a,b,c):\n",
    "    avg=(a+b+c)/3\n",
    "    print(\"Average is\",avg)\n",
    "average(12,23,34)"
   ]
  },
  {
   "cell_type": "code",
   "execution_count": 11,
   "id": "1f401d90-4441-492e-bbb9-8b67a799f5ca",
   "metadata": {},
   "outputs": [
    {
     "name": "stdin",
     "output_type": "stream",
     "text": [
      "enter the number 12\n",
      "enter the number 23\n",
      "enter the number 34\n"
     ]
    },
    {
     "name": "stdout",
     "output_type": "stream",
     "text": [
      "Average is 23.0\n"
     ]
    }
   ],
   "source": [
    "a=int(input(\"enter the number\"))\n",
    "b=int(input(\"enter the number\"))\n",
    "c=int(input(\"enter the number\"))\n",
    "average(a,b,c)\n"
   ]
  },
  {
   "cell_type": "code",
   "execution_count": 13,
   "id": "5831b89a-80a6-40b5-8846-02d51a423d69",
   "metadata": {},
   "outputs": [
    {
     "name": "stdout",
     "output_type": "stream",
     "text": [
      "5040\n",
      "40320\n"
     ]
    }
   ],
   "source": [
    "#Return Type Function\n",
    "def factorial(n):\n",
    "    f=1\n",
    "    while n>0:\n",
    "        f=f*n\n",
    "        n=n-1\n",
    "    return f\n",
    "x=factorial(7)\n",
    "print(x)\n",
    "print(factorial(8))"
   ]
  },
  {
   "cell_type": "code",
   "execution_count": 17,
   "id": "4d9e9f75-fbc7-41b8-9a26-84fbbc9452b9",
   "metadata": {},
   "outputs": [
    {
     "name": "stdout",
     "output_type": "stream",
     "text": [
      "54321\n",
      "5432\n"
     ]
    }
   ],
   "source": [
    "def reverse(n):\n",
    "    rev=0\n",
    "    while n>0:\n",
    "        rem=n%10\n",
    "        rev=rev*10+rem\n",
    "        n=n//10\n",
    "    return rev\n",
    "x=reverse(12345)\n",
    "print(x)\n",
    "print(reverse(2345))"
   ]
  },
  {
   "cell_type": "code",
   "execution_count": 18,
   "id": "e68ea990-a362-4dd9-8300-0a692407110e",
   "metadata": {},
   "outputs": [
    {
     "name": "stdout",
     "output_type": "stream",
     "text": [
      "(46, 22, 408, 2.8333333333333335)\n",
      "<class 'tuple'>\n"
     ]
    }
   ],
   "source": [
    "def lovely(a,b):\n",
    "    return a+b, a-b, a*b, a/b\n",
    "x=lovely(34,12)\n",
    "print(x)\n",
    "print(type(x))"
   ]
  },
  {
   "cell_type": "code",
   "execution_count": 19,
   "id": "240f946c-b80b-49a7-83e1-6defcd407190",
   "metadata": {},
   "outputs": [
    {
     "name": "stdout",
     "output_type": "stream",
     "text": [
      "sum is 46\n",
      "sub is 22\n",
      "mul is 408\n",
      "div is 2.8333333333333335\n"
     ]
    }
   ],
   "source": [
    "def lovely(a,b):\n",
    "    return a+b, a-b, a*b, a/b\n",
    "x,y,z,w=lovely(34,12)\n",
    "print(\"sum is\",x)\n",
    "print(\"sub is\",y)\n",
    "print(\"mul is\",z)\n",
    "print(\"div is\",w)"
   ]
  },
  {
   "cell_type": "code",
   "execution_count": 20,
   "id": "0517514e-2595-4161-87f2-202c16ca3c50",
   "metadata": {},
   "outputs": [
    {
     "name": "stdout",
     "output_type": "stream",
     "text": [
      "1200\n",
      "1300\n",
      "1800\n"
     ]
    }
   ],
   "source": [
    "#Placeholder Arguement Function\n",
    "#Addition\n",
    "def addition(a,b=200,c=300):\n",
    "    return a+b+c\n",
    "print(addition(700))\n",
    "print(addition(500,500))\n",
    "print(addition(400,500,900))"
   ]
  },
  {
   "cell_type": "code",
   "execution_count": 1,
   "id": "76a43233-9492-4a12-8c3e-6cb433cb1174",
   "metadata": {},
   "outputs": [
    {
     "data": {
      "text/plain": [
       "(6, 8)"
      ]
     },
     "execution_count": 1,
     "metadata": {},
     "output_type": "execute_result"
    }
   ],
   "source": [
    "def datascience(a,b,c,d,e):\n",
    "    return (a+b,a*b)\n",
    "datascience(2,4,6,7,5)"
   ]
  },
  {
   "cell_type": "code",
   "execution_count": 2,
   "id": "2670a28e-d2ab-411e-ad9c-a3fa2b1a0cd1",
   "metadata": {},
   "outputs": [
    {
     "data": {
      "text/plain": [
       "7731"
      ]
     },
     "execution_count": 2,
     "metadata": {},
     "output_type": "execute_result"
    }
   ],
   "source": [
    "def sums(r,t,u):\n",
    "    return(r+t+u)\n",
    "lovely=sums(787,2377,4567)\n",
    "lovely\n",
    "            "
   ]
  },
  {
   "cell_type": "code",
   "execution_count": 9,
   "id": "e8c807da-8786-402e-a9fe-f1b7b21edef2",
   "metadata": {},
   "outputs": [
    {
     "data": {
      "text/plain": [
       "'My name is charles and gender is male'"
      ]
     },
     "execution_count": 9,
     "metadata": {},
     "output_type": "execute_result"
    }
   ],
   "source": [
    "def hello(a,b):\n",
    "    return(\"My name is {} and gender is {}\".format(a,b))\n",
    "a=hello(\"charles\",\"male\")\n",
    "a"
   ]
  },
  {
   "cell_type": "code",
   "execution_count": 11,
   "id": "3d489a12-8118-4705-ab93-72a28db44863",
   "metadata": {},
   "outputs": [
    {
     "name": "stdout",
     "output_type": "stream",
     "text": [
      "hello and bye\n"
     ]
    }
   ],
   "source": [
    "print(\"{} and {}\".format(\"hello\", \"bye\"))"
   ]
  },
  {
   "cell_type": "code",
   "execution_count": 13,
   "id": "38e37633-844b-435e-a7a4-e9e57fedb5e6",
   "metadata": {},
   "outputs": [
    {
     "name": "stdout",
     "output_type": "stream",
     "text": [
      "1600\n",
      "1600\n",
      "5100\n"
     ]
    }
   ],
   "source": [
    "def addition(a,b=700,c=600):\n",
    "    return a+b+c\n",
    "print(addition(300))\n",
    "print(addition(a=400,c=500))\n",
    "print(addition(100,2000,3000))"
   ]
  },
  {
   "cell_type": "code",
   "execution_count": 14,
   "id": "0cf9e304-8f52-4308-8585-589ebd968a8b",
   "metadata": {},
   "outputs": [
    {
     "data": {
      "text/plain": [
       "'my name is Eshank and age is 29 and gender is Male'"
      ]
     },
     "execution_count": 14,
     "metadata": {},
     "output_type": "execute_result"
    }
   ],
   "source": [
    "def hello(name,age=29,gender=\"Male\"):\n",
    "    return(\"my name is {} and age is {} and gender is {}\".format(name,age,gender))\n",
    "hello(\"Eshank\")"
   ]
  },
  {
   "cell_type": "code",
   "execution_count": 15,
   "id": "95589f41-1d69-4101-bacb-2a167e64646e",
   "metadata": {},
   "outputs": [
    {
     "data": {
      "text/plain": [
       "[1, 2, 3, 4]"
      ]
     },
     "execution_count": 15,
     "metadata": {},
     "output_type": "execute_result"
    }
   ],
   "source": [
    "#keyword arguement function\n",
    "u=[1,2,3,4]\n",
    "u"
   ]
  },
  {
   "cell_type": "code",
   "execution_count": 16,
   "id": "b70ad6a0-ef11-44b5-b5b3-ea61625eb137",
   "metadata": {},
   "outputs": [
    {
     "name": "stdout",
     "output_type": "stream",
     "text": [
      "1 2 3 4\n"
     ]
    }
   ],
   "source": [
    "u=[1,2,3,4]\n",
    "print(*u)"
   ]
  },
  {
   "cell_type": "code",
   "execution_count": 18,
   "id": "73942ded-a7a8-486f-b7e1-043eeb389355",
   "metadata": {},
   "outputs": [
    {
     "data": {
      "text/plain": [
       "8"
      ]
     },
     "execution_count": 18,
     "metadata": {},
     "output_type": "execute_result"
    }
   ],
   "source": [
    "a,*b,c=[1,2,3,4,5,6,7,8]\n",
    "a"
   ]
  },
  {
   "cell_type": "code",
   "execution_count": 19,
   "id": "22b94dfe-121e-4261-abeb-fb91c22e07ce",
   "metadata": {},
   "outputs": [
    {
     "data": {
      "text/plain": [
       "8"
      ]
     },
     "execution_count": 19,
     "metadata": {},
     "output_type": "execute_result"
    }
   ],
   "source": [
    "a,*b,c=[1,2,3,4,5,6,7,8]\n",
    "c"
   ]
  },
  {
   "cell_type": "code",
   "execution_count": 21,
   "id": "9d28bbe1-a985-4d4e-a990-6906cc735f2f",
   "metadata": {},
   "outputs": [
    {
     "name": "stdout",
     "output_type": "stream",
     "text": [
      "2 3 4 5 6 7\n"
     ]
    }
   ],
   "source": [
    "a,*b,c=[1,2,3,4,5,6,7,8]\n",
    "print(*b)"
   ]
  },
  {
   "cell_type": "code",
   "execution_count": 30,
   "id": "b19670fb-8cef-4b04-8870-d9afe305a741",
   "metadata": {},
   "outputs": [
    {
     "data": {
      "text/plain": [
       "[[1, 2, 3, 5], [4, 6, 7, 8]]"
      ]
     },
     "execution_count": 30,
     "metadata": {},
     "output_type": "execute_result"
    }
   ],
   "source": [
    "a=[1,2,3,5]\n",
    "b=[4,6,7,8]\n",
    "c=[a,b]\n",
    "c"
   ]
  },
  {
   "cell_type": "code",
   "execution_count": 24,
   "id": "4320839c-db66-4817-8349-66828a37c086",
   "metadata": {},
   "outputs": [
    {
     "data": {
      "text/plain": [
       "[1, 2, 3, 5, 4, 6, 7, 8]"
      ]
     },
     "execution_count": 24,
     "metadata": {},
     "output_type": "execute_result"
    }
   ],
   "source": [
    "d=[*a,*b]\n",
    "d"
   ]
  },
  {
   "cell_type": "code",
   "execution_count": 27,
   "id": "0e414bae-1606-4ee8-bc9a-3237b99e9e82",
   "metadata": {},
   "outputs": [
    {
     "data": {
      "text/plain": [
       "[1, 2, 3, 5, 4, 6, 7, 8]"
      ]
     },
     "execution_count": 27,
     "metadata": {},
     "output_type": "execute_result"
    }
   ],
   "source": [
    "a+b"
   ]
  },
  {
   "cell_type": "code",
   "execution_count": 31,
   "id": "afbfcd2a-4ee4-4a38-b161-099824ca9a4d",
   "metadata": {},
   "outputs": [
    {
     "data": {
      "text/plain": [
       "[1, 2, 3, 5, 4, 6, 7, 8]"
      ]
     },
     "execution_count": 31,
     "metadata": {},
     "output_type": "execute_result"
    }
   ],
   "source": [
    "a.extend(b)\n",
    "a"
   ]
  },
  {
   "cell_type": "code",
   "execution_count": 32,
   "id": "c06c5240-a7df-4451-81c6-a82b44cb2520",
   "metadata": {},
   "outputs": [
    {
     "data": {
      "text/plain": [
       "['r', 'e', 'a', 'l', 'p', 'y', 't', 'h', 'o', 'n']"
      ]
     },
     "execution_count": 32,
     "metadata": {},
     "output_type": "execute_result"
    }
   ],
   "source": [
    "a=[*\"realpython\"]\n",
    "a"
   ]
  },
  {
   "cell_type": "code",
   "execution_count": 33,
   "id": "67d49216-c894-4b83-885c-a651504e6600",
   "metadata": {},
   "outputs": [
    {
     "data": {
      "text/plain": [
       "['r', 'e', 'a', 'l', 'p', 'y', 't', 'h', 'o', 'n']"
      ]
     },
     "execution_count": 33,
     "metadata": {},
     "output_type": "execute_result"
    }
   ],
   "source": [
    "b=list(\"realpython\")\n",
    "b"
   ]
  },
  {
   "cell_type": "code",
   "execution_count": 39,
   "id": "72f84261-afea-4f9a-99bc-9cacd6be9482",
   "metadata": {},
   "outputs": [
    {
     "data": {
      "text/plain": [
       "{1: 'one', 2: 'two', 3: 'Three', 4: 'Four'}"
      ]
     },
     "execution_count": 39,
     "metadata": {},
     "output_type": "execute_result"
    }
   ],
   "source": [
    "d1={1:\"one\",2:\"two\"}\n",
    "d2={3:\"Three\", 4:\"Four\"}\n",
    "d1.update(d2)\n",
    "d1\n"
   ]
  },
  {
   "cell_type": "code",
   "execution_count": 42,
   "id": "b688ce5b-095d-4021-a3b5-5e16e3630647",
   "metadata": {},
   "outputs": [
    {
     "data": {
      "text/plain": [
       "{1: 'one', 2: 'two', 3: 'Three', 4: 'Four'}"
      ]
     },
     "execution_count": 42,
     "metadata": {},
     "output_type": "execute_result"
    }
   ],
   "source": [
    "d1={1:\"one\",2:\"two\"}\n",
    "d2={3:\"Three\", 4:\"Four\"}\n",
    "d3={**d1,**d2}\n",
    "d3"
   ]
  },
  {
   "cell_type": "code",
   "execution_count": 46,
   "id": "300cf5b4-a4fd-4ea7-a88c-40cc9f243517",
   "metadata": {},
   "outputs": [
    {
     "data": {
      "text/plain": [
       "15"
      ]
     },
     "execution_count": 46,
     "metadata": {},
     "output_type": "execute_result"
    }
   ],
   "source": [
    "def my_sum(a,b,c,d,e):\n",
    "    return(a+b+c+d+e)\n",
    "mylist=[1,2,3,4,5]\n",
    "my_sum(*mylist)"
   ]
  },
  {
   "cell_type": "code",
   "execution_count": 51,
   "id": "06d36d3d-8c77-4f4a-8d7c-3e8938e779b8",
   "metadata": {},
   "outputs": [
    {
     "data": {
      "text/plain": [
       "45"
      ]
     },
     "execution_count": 51,
     "metadata": {},
     "output_type": "execute_result"
    }
   ],
   "source": [
    "def my_sum(*a):\n",
    "    result=0\n",
    "    for i in a:\n",
    "        result=result+i\n",
    "    return result\n",
    "list1=[1,2,3]\n",
    "list2=[4,5]\n",
    "list3=[6,7,8,9]\n",
    "my_sum(*list1,*list2,*list3)"
   ]
  },
  {
   "cell_type": "code",
   "execution_count": 1,
   "id": "ff247602-7b6f-4f5c-8689-55652770ac35",
   "metadata": {},
   "outputs": [
    {
     "data": {
      "text/plain": [
       "[24, 46, 68, 90]"
      ]
     },
     "execution_count": 1,
     "metadata": {},
     "output_type": "execute_result"
    }
   ],
   "source": [
    "a=[]\n",
    "def addition(n):\n",
    "    for i in n:\n",
    "        a.append(i+i)\n",
    "    return a\n",
    "number=[12,23,34,45]\n",
    "addition(number)"
   ]
  },
  {
   "cell_type": "code",
   "execution_count": 1,
   "id": "b534903c-135b-4a95-a45e-319b1bfe8832",
   "metadata": {},
   "outputs": [
    {
     "name": "stdout",
     "output_type": "stream",
     "text": [
      "28\n"
     ]
    }
   ],
   "source": [
    "#Recursion\n",
    "#sum of n natural numbers\n",
    "def sum(n):\n",
    "    if n==1:\n",
    "        return 1\n",
    "    else:\n",
    "        return n+sum(n-1)\n",
    "print(sum(7))"
   ]
  },
  {
   "cell_type": "code",
   "execution_count": 3,
   "id": "9f41a80f-c250-481d-972a-bb4febfe65a6",
   "metadata": {},
   "outputs": [
    {
     "name": "stdout",
     "output_type": "stream",
     "text": [
      "5040\n"
     ]
    }
   ],
   "source": [
    "#Factorial\n",
    "def fact(n):\n",
    "    if n==0:\n",
    "        return 1\n",
    "    elif n==1:\n",
    "        return 1\n",
    "    else:\n",
    "        return n*fact(n-1)\n",
    "print(fact(7))"
   ]
  },
  {
   "cell_type": "code",
   "execution_count": 4,
   "id": "9ee3c0ca-a78f-498f-9f5d-ee74909ea164",
   "metadata": {},
   "outputs": [
    {
     "name": "stdout",
     "output_type": "stream",
     "text": [
      "0 1 1 2 3 5 8 13 21 34 "
     ]
    }
   ],
   "source": [
    "#finonacci series\n",
    "f=0\n",
    "s=1\n",
    "for i in range(10):\n",
    "    if i<=1:\n",
    "        next=i\n",
    "    else:\n",
    "        next=f+s\n",
    "        f=s\n",
    "        s=next\n",
    "    print(next,end=\" \")"
   ]
  },
  {
   "cell_type": "code",
   "execution_count": null,
   "id": "56a68d2b-9df8-4b93-b766-5d959de8acdd",
   "metadata": {},
   "outputs": [],
   "source": []
  }
 ],
 "metadata": {
  "kernelspec": {
   "display_name": "Python 3 (ipykernel)",
   "language": "python",
   "name": "python3"
  },
  "language_info": {
   "codemirror_mode": {
    "name": "ipython",
    "version": 3
   },
   "file_extension": ".py",
   "mimetype": "text/x-python",
   "name": "python",
   "nbconvert_exporter": "python",
   "pygments_lexer": "ipython3",
   "version": "3.11.7"
  }
 },
 "nbformat": 4,
 "nbformat_minor": 5
}
