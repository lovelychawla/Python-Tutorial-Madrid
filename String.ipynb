{
 "cells": [
  {
   "cell_type": "code",
   "execution_count": 2,
   "id": "a798f508-7f6c-4317-9316-39cd56a61fc7",
   "metadata": {},
   "outputs": [
    {
     "name": "stdout",
     "output_type": "stream",
     "text": [
      "this is string in python\n"
     ]
    }
   ],
   "source": [
    "#String\n",
    "str1='this is string in python'\n",
    "print(str1)"
   ]
  },
  {
   "cell_type": "code",
   "execution_count": 3,
   "id": "531f67b2-ec03-484c-aae2-b573f2deebaa",
   "metadata": {},
   "outputs": [
    {
     "name": "stdout",
     "output_type": "stream",
     "text": [
      "this is string in python\n"
     ]
    }
   ],
   "source": [
    "str2=\"this is string in python\"\n",
    "print(str2)"
   ]
  },
  {
   "cell_type": "code",
   "execution_count": 5,
   "id": "08be15be-d808-445c-9dbc-0ff26252c8e8",
   "metadata": {},
   "outputs": [
    {
     "name": "stdout",
     "output_type": "stream",
     "text": [
      "this is \n",
      "the first multi\n",
      "line string\n"
     ]
    }
   ],
   "source": [
    "str3='''this is \n",
    "the first multi\n",
    "line string'''\n",
    "print(str3)"
   ]
  },
  {
   "cell_type": "code",
   "execution_count": 6,
   "id": "37e861c1-3f0e-47b0-b75f-58677d0e08a6",
   "metadata": {},
   "outputs": [
    {
     "name": "stdout",
     "output_type": "stream",
     "text": [
      "This is \n",
      "the second\n",
      "multi line \n",
      "string\n"
     ]
    }
   ],
   "source": [
    "str4=\"\"\"This is \n",
    "the second\n",
    "multi line \n",
    "string\"\"\"\n",
    "print(str4)"
   ]
  },
  {
   "cell_type": "code",
   "execution_count": 7,
   "id": "e419e7ac-ccda-40ef-b021-0f90133c77b2",
   "metadata": {},
   "outputs": [
    {
     "data": {
      "text/plain": [
       "6"
      ]
     },
     "execution_count": 7,
     "metadata": {},
     "output_type": "execute_result"
    }
   ],
   "source": [
    "#Len function\n",
    "greet='Lovely'\n",
    "len(greet)"
   ]
  },
  {
   "cell_type": "code",
   "execution_count": 9,
   "id": "119b82bd-f894-42a4-b7af-e1faadb13ec9",
   "metadata": {},
   "outputs": [
    {
     "name": "stdout",
     "output_type": "stream",
     "text": [
      "L\n",
      "o\n",
      "v\n",
      "e\n",
      "l\n",
      "y\n"
     ]
    }
   ],
   "source": [
    "greet='Lovely'\n",
    "print(greet[0])\n",
    "print(greet[1])\n",
    "print(greet[2])\n",
    "print(greet[3])\n",
    "print(greet[4])\n",
    "print(greet[5])\n"
   ]
  },
  {
   "cell_type": "code",
   "execution_count": 10,
   "id": "aaaef3c5-7943-42a4-a58d-85ba72775002",
   "metadata": {},
   "outputs": [
    {
     "name": "stdout",
     "output_type": "stream",
     "text": [
      "y\n",
      "l\n",
      "e\n",
      "v\n",
      "o\n",
      "L\n"
     ]
    }
   ],
   "source": [
    "greet='Lovely'\n",
    "print(greet[-1])\n",
    "print(greet[-2])\n",
    "print(greet[-3])\n",
    "print(greet[-4])\n",
    "print(greet[-5])\n",
    "print(greet[-6])"
   ]
  },
  {
   "cell_type": "code",
   "execution_count": 11,
   "id": "a225aad0-214a-4643-afa0-793ca76fe710",
   "metadata": {},
   "outputs": [
    {
     "name": "stdout",
     "output_type": "stream",
     "text": [
      "100\n"
     ]
    }
   ],
   "source": [
    "#Use the str() Function to concert a number to a string\n",
    "s=str(100)\n",
    "print(s)"
   ]
  },
  {
   "cell_type": "code",
   "execution_count": 12,
   "id": "9a1e475c-f1f2-4e3f-9e2d-da4d3a526947",
   "metadata": {},
   "outputs": [
    {
     "name": "stdout",
     "output_type": "stream",
     "text": [
      "-10\n"
     ]
    }
   ],
   "source": [
    "s=str(-10)\n",
    "print(s)"
   ]
  },
  {
   "cell_type": "code",
   "execution_count": 14,
   "id": "47eeaaaf-e322-4eb4-b309-f324de4c1d5e",
   "metadata": {},
   "outputs": [
    {
     "name": "stdout",
     "output_type": "stream",
     "text": [
      "<class 'str'>\n"
     ]
    }
   ],
   "source": [
    "s=str(True)\n",
    "print(type(s))"
   ]
  },
  {
   "cell_type": "code",
   "execution_count": 15,
   "id": "82dbbe87-e310-447d-91d8-18a92c89eb2b",
   "metadata": {},
   "outputs": [
    {
     "name": "stdout",
     "output_type": "stream",
     "text": [
      "True\n"
     ]
    }
   ],
   "source": [
    "s=str(True)\n",
    "print(s)"
   ]
  },
  {
   "cell_type": "code",
   "execution_count": 17,
   "id": "567be353-2170-4ad7-8df8-8e78b5eadb7b",
   "metadata": {},
   "outputs": [
    {
     "name": "stdout",
     "output_type": "stream",
     "text": [
      "original string hello world\n",
      "New string Hello world\n"
     ]
    }
   ],
   "source": [
    "#Python Capitalize () Method\n",
    "a='hello world'\n",
    "b=a.capitalize()\n",
    "print('original string',a)\n",
    "print('New string',b)"
   ]
  },
  {
   "cell_type": "code",
   "execution_count": 18,
   "id": "b83a0e12-65fc-44ea-8255-e0cc5d9248c8",
   "metadata": {},
   "outputs": [
    {
     "data": {
      "text/plain": [
       "'Hello world'"
      ]
     },
     "execution_count": 18,
     "metadata": {},
     "output_type": "execute_result"
    }
   ],
   "source": [
    "a='hello world'\n",
    "a.capitalize()"
   ]
  },
  {
   "cell_type": "code",
   "execution_count": 20,
   "id": "2e31e16b-0329-4e95-882f-f6ede54d1819",
   "metadata": {},
   "outputs": [
    {
     "data": {
      "text/plain": [
       "'Hello world'"
      ]
     },
     "execution_count": 20,
     "metadata": {},
     "output_type": "execute_result"
    }
   ],
   "source": [
    "a='HELLO WORLD'\n",
    "a.capitalize()"
   ]
  },
  {
   "cell_type": "code",
   "execution_count": 23,
   "id": "2e8c8531-8c7d-4630-90b2-adeaf75bb4cf",
   "metadata": {},
   "outputs": [
    {
     "name": "stdout",
     "output_type": "stream",
     "text": [
      "number of occurences of \"madrid\": 1\n"
     ]
    }
   ],
   "source": [
    "#Count Method\n",
    "mystr='madrid is a best institute for data science learning'\n",
    "total=mystr.count('madrid')\n",
    "print('number of occurences of \"madrid\":',total)"
   ]
  },
  {
   "cell_type": "code",
   "execution_count": 26,
   "id": "879927ef-7f06-452f-8f42-1ea3ccd6c067",
   "metadata": {},
   "outputs": [
    {
     "name": "stdout",
     "output_type": "stream",
     "text": [
      "number of occurences of \"Madrid\": 0\n"
     ]
    }
   ],
   "source": [
    "mystr='Madrid is a best institute for data science learning'\n",
    "total=mystr.count('madrid')\n",
    "print('number of occurences of \"Madrid\":',total)"
   ]
  },
  {
   "cell_type": "code",
   "execution_count": 31,
   "id": "e09093fe-00b9-44e3-9cff-0e4e7ff21bf3",
   "metadata": {},
   "outputs": [
    {
     "name": "stdout",
     "output_type": "stream",
     "text": [
      "True\n",
      "True\n",
      "True\n",
      "True\n",
      "False\n"
     ]
    }
   ],
   "source": [
    "#Endswith() Method\n",
    "mystr='python is a programing language.'\n",
    "print(mystr.endswith('.'))\n",
    "print(mystr.endswith('age.'))\n",
    "print(mystr.endswith('language.'))\n",
    "print(mystr.endswith('programing language.'))\n",
    "print(mystr.endswith('age')) #. is missing\n",
    "\n"
   ]
  },
  {
   "cell_type": "code",
   "execution_count": 34,
   "id": "e6c76292-5470-44a0-bb13-3d9b3345dee3",
   "metadata": {},
   "outputs": [
    {
     "name": "stdout",
     "output_type": "stream",
     "text": [
      "index of 'H':  0\n",
      "index of 'h':  -1\n",
      "index of 'e':  1\n",
      "index of 'world':  6\n"
     ]
    }
   ],
   "source": [
    "#Find Method\n",
    "greet='Hello world'\n",
    "print(\"index of 'H': \",greet.find('H'))\n",
    "print(\"index of 'h': \",greet.find('h'))\n",
    "print(\"index of 'e': \",greet.find('e'))\n",
    "print(\"index of 'world': \",greet.find('world'))\n",
    "\n",
    "\n"
   ]
  },
  {
   "cell_type": "code",
   "execution_count": 41,
   "id": "e4d4bbff-1256-45a5-ab8d-107d9f9182b1",
   "metadata": {},
   "outputs": [
    {
     "name": "stdout",
     "output_type": "stream",
     "text": [
      "index of 'H':  0\n",
      "index of 'h':  2\n",
      "index of 'e':  1\n",
      "index of 'world':  6\n"
     ]
    }
   ],
   "source": [
    "#Index Method\n",
    "greet='Hello world'\n",
    "print(\"index of 'H': \",greet.index('H'))\n",
    "print(\"index of 'h': \",greet.index('l'))\n",
    "print(\"index of 'e': \",greet.index('e'))\n",
    "print(\"index of 'world': \",greet.index('world'))"
   ]
  },
  {
   "cell_type": "code",
   "execution_count": 42,
   "id": "5f71b103-9466-4ad9-95a5-fda8fa6b397e",
   "metadata": {},
   "outputs": [
    {
     "name": "stdout",
     "output_type": "stream",
     "text": [
      "True\n"
     ]
    }
   ],
   "source": [
    "#isalnum Method\n",
    "mystr='hello123'\n",
    "print(mystr.isalnum())"
   ]
  },
  {
   "cell_type": "code",
   "execution_count": 43,
   "id": "25574ffe-f970-4783-abe0-6446497ffd4c",
   "metadata": {},
   "outputs": [
    {
     "name": "stdout",
     "output_type": "stream",
     "text": [
      "True\n"
     ]
    }
   ],
   "source": [
    "mystr='12345'\n",
    "print(mystr.isalnum())"
   ]
  },
  {
   "cell_type": "code",
   "execution_count": 46,
   "id": "9d2bfa44-e5ec-469b-ac2e-242ab1cd5f88",
   "metadata": {},
   "outputs": [
    {
     "name": "stdout",
     "output_type": "stream",
     "text": [
      "True\n"
     ]
    }
   ],
   "source": [
    "mystr='madrid'\n",
    "print(mystr.isalnum())"
   ]
  },
  {
   "cell_type": "code",
   "execution_count": 47,
   "id": "0c2083b1-8002-4071-98e8-6ab07f1e954a",
   "metadata": {},
   "outputs": [
    {
     "name": "stdout",
     "output_type": "stream",
     "text": [
      "False\n"
     ]
    }
   ],
   "source": [
    "mystr='python is a programing language.'\n",
    "print(mystr.isalnum())"
   ]
  },
  {
   "cell_type": "code",
   "execution_count": 48,
   "id": "bacc8a91-36a8-446a-9c6d-d2a61981dcb8",
   "metadata": {},
   "outputs": [
    {
     "name": "stdout",
     "output_type": "stream",
     "text": [
      "False\n"
     ]
    }
   ],
   "source": [
    "mystr='#1'\n",
    "print(mystr.isalnum())"
   ]
  },
  {
   "cell_type": "code",
   "execution_count": 52,
   "id": "e86d5ff7-d5c0-4921-91a3-9f29a4cad511",
   "metadata": {},
   "outputs": [
    {
     "name": "stdout",
     "output_type": "stream",
     "text": [
      "True\n"
     ]
    }
   ],
   "source": [
    "#isdigit Method\n",
    "mystr='1234'\n",
    "print(mystr.isdigit())"
   ]
  },
  {
   "cell_type": "code",
   "execution_count": 50,
   "id": "7b3f44c2-939f-4b95-9456-9b2cab345c5a",
   "metadata": {},
   "outputs": [
    {
     "name": "stdout",
     "output_type": "stream",
     "text": [
      "False\n"
     ]
    }
   ],
   "source": [
    "mystr='10.5'\n",
    "print(mystr.isdigit())"
   ]
  },
  {
   "cell_type": "code",
   "execution_count": 53,
   "id": "842ff009-7347-4ed7-a86c-fc83cbbf5db6",
   "metadata": {},
   "outputs": [
    {
     "name": "stdout",
     "output_type": "stream",
     "text": [
      "False\n"
     ]
    }
   ],
   "source": [
    "mystr='python'\n",
    "print(mystr.isdigit())"
   ]
  },
  {
   "cell_type": "code",
   "execution_count": 2,
   "id": "8a93a436-5720-438b-b3cf-521356f7b4f7",
   "metadata": {},
   "outputs": [
    {
     "data": {
      "text/plain": [
       "True"
      ]
     },
     "execution_count": 2,
     "metadata": {},
     "output_type": "execute_result"
    }
   ],
   "source": [
    "#islower Method()\n",
    "mystr='hello world'\n",
    "mystr.islower()"
   ]
  },
  {
   "cell_type": "code",
   "execution_count": 3,
   "id": "37e051ae-c27d-465f-8994-4f9f6a3bb29a",
   "metadata": {},
   "outputs": [
    {
     "data": {
      "text/plain": [
       "False"
      ]
     },
     "execution_count": 3,
     "metadata": {},
     "output_type": "execute_result"
    }
   ],
   "source": [
    "mystr='Hello world'\n",
    "mystr.islower()"
   ]
  },
  {
   "cell_type": "code",
   "execution_count": 4,
   "id": "71ac7090-7511-4e78-85cc-12353a621576",
   "metadata": {},
   "outputs": [
    {
     "data": {
      "text/plain": [
       "True"
      ]
     },
     "execution_count": 4,
     "metadata": {},
     "output_type": "execute_result"
    }
   ],
   "source": [
    "mystr='python is #1'\n",
    "mystr.islower()"
   ]
  },
  {
   "cell_type": "code",
   "execution_count": 5,
   "id": "c274a2f7-0e19-4589-aa06-7d61c5ff1bec",
   "metadata": {},
   "outputs": [
    {
     "data": {
      "text/plain": [
       "True"
      ]
     },
     "execution_count": 5,
     "metadata": {},
     "output_type": "execute_result"
    }
   ],
   "source": [
    "#istitle Method()\n",
    "greet='Hello World'\n",
    "greet.istitle()"
   ]
  },
  {
   "cell_type": "code",
   "execution_count": 6,
   "id": "d4e97306-6d7e-4ad8-ae68-4a0a416a8e97",
   "metadata": {},
   "outputs": [
    {
     "data": {
      "text/plain": [
       "False"
      ]
     },
     "execution_count": 6,
     "metadata": {},
     "output_type": "execute_result"
    }
   ],
   "source": [
    "greet='HELLO WORLD'\n",
    "greet.istitle()"
   ]
  },
  {
   "cell_type": "code",
   "execution_count": 7,
   "id": "6067f9af-5429-43ea-97de-7f5b5cddf21c",
   "metadata": {},
   "outputs": [
    {
     "data": {
      "text/plain": [
       "False"
      ]
     },
     "execution_count": 7,
     "metadata": {},
     "output_type": "execute_result"
    }
   ],
   "source": [
    "greet='hello World'\n",
    "greet.istitle()"
   ]
  },
  {
   "cell_type": "code",
   "execution_count": 8,
   "id": "67d54c04-1925-41b1-8c70-a544d4d77031",
   "metadata": {},
   "outputs": [
    {
     "data": {
      "text/plain": [
       "False"
      ]
     },
     "execution_count": 8,
     "metadata": {},
     "output_type": "execute_result"
    }
   ],
   "source": [
    "greet='HelloWorld'\n",
    "greet.istitle()"
   ]
  },
  {
   "cell_type": "code",
   "execution_count": 9,
   "id": "fd800968-e9ab-4c6b-9db5-15a32a1afaa9",
   "metadata": {},
   "outputs": [
    {
     "data": {
      "text/plain": [
       "True"
      ]
     },
     "execution_count": 9,
     "metadata": {},
     "output_type": "execute_result"
    }
   ],
   "source": [
    "s='Python Is A Programing Language'\n",
    "s.istitle()"
   ]
  },
  {
   "cell_type": "code",
   "execution_count": 2,
   "id": "135868f1-ebf5-4c72-9ea7-877cad166988",
   "metadata": {},
   "outputs": [
    {
     "data": {
      "text/plain": [
       "True"
      ]
     },
     "execution_count": 2,
     "metadata": {},
     "output_type": "execute_result"
    }
   ],
   "source": [
    "#isupper () Method\n",
    "mystr='HELLO WORLD'\n",
    "mystr.isupper()"
   ]
  },
  {
   "cell_type": "code",
   "execution_count": 3,
   "id": "63ec33c3-ca15-4366-9a41-ba5ebeae82b9",
   "metadata": {},
   "outputs": [
    {
     "data": {
      "text/plain": [
       "False"
      ]
     },
     "execution_count": 3,
     "metadata": {},
     "output_type": "execute_result"
    }
   ],
   "source": [
    "mystr='Hello World'\n",
    "mystr.isupper()"
   ]
  },
  {
   "cell_type": "code",
   "execution_count": 4,
   "id": "ba48def1-01ff-4f09-b9d8-9278dc5001df",
   "metadata": {},
   "outputs": [
    {
     "data": {
      "text/plain": [
       "True"
      ]
     },
     "execution_count": 4,
     "metadata": {},
     "output_type": "execute_result"
    }
   ],
   "source": [
    "mystr='PYTHON IS #1'\n",
    "mystr.isupper()"
   ]
  },
  {
   "cell_type": "code",
   "execution_count": 13,
   "id": "d451a058-e331-43d8-a53d-91910016be9c",
   "metadata": {},
   "outputs": [
    {
     "name": "stdout",
     "output_type": "stream",
     "text": [
      "Original String: hello WORLD\n",
      "Original String: hello world\n"
     ]
    }
   ],
   "source": [
    "#Lower Method\n",
    "mystr='hello WORLD'\n",
    "mystr_lower = mystr.lower()\n",
    "print('Original String:',mystr)\n",
    "print('Original String:',mystr_lower)\n"
   ]
  },
  {
   "cell_type": "code",
   "execution_count": 14,
   "id": "75a4b49f-d949-4a23-a526-229284242e91",
   "metadata": {},
   "outputs": [
    {
     "name": "stdout",
     "output_type": "stream",
     "text": [
      "12345\n"
     ]
    }
   ],
   "source": [
    "mystr='12345'\n",
    "print(mystr.lower())"
   ]
  },
  {
   "cell_type": "code",
   "execution_count": 15,
   "id": "8713edca-e8e5-479e-9232-26a956ef2747",
   "metadata": {},
   "outputs": [
    {
     "name": "stdout",
     "output_type": "stream",
     "text": [
      "12345abc\n"
     ]
    }
   ],
   "source": [
    "mystr='12345ABC'\n",
    "print(mystr.lower())"
   ]
  },
  {
   "cell_type": "code",
   "execution_count": 1,
   "id": "86733655-b706-45ce-8cdb-aa12f7b39f22",
   "metadata": {},
   "outputs": [
    {
     "name": "stdout",
     "output_type": "stream",
     "text": [
      "     Hello World   \n",
      "Hello World   \n"
     ]
    }
   ],
   "source": [
    "#lstrip() Method\n",
    "mystr= '     Hello World   '\n",
    "print(mystr)\n",
    "print(mystr.lstrip())"
   ]
  },
  {
   "cell_type": "code",
   "execution_count": 4,
   "id": "118a02ed-c5bc-4c60-a4b0-9b188de41896",
   "metadata": {},
   "outputs": [
    {
     "name": "stdout",
     "output_type": "stream",
     "text": [
      "('hello', ' ', 'world')\n"
     ]
    }
   ],
   "source": [
    "#Partition () Method\n",
    "mystr='hello world'\n",
    "print(mystr.partition(' ')) "
   ]
  },
  {
   "cell_type": "code",
   "execution_count": 5,
   "id": "f591759a-9222-48e6-bc95-6f0798955c2f",
   "metadata": {},
   "outputs": [
    {
     "name": "stdout",
     "output_type": "stream",
     "text": [
      "('how ', 'are', ' you?')\n"
     ]
    }
   ],
   "source": [
    "mystr='how are you?'\n",
    "print(mystr.partition('are'))"
   ]
  },
  {
   "cell_type": "code",
   "execution_count": 7,
   "id": "6a3ef6a5-a595-4c00-98f5-958e6d944709",
   "metadata": {},
   "outputs": [
    {
     "name": "stdout",
     "output_type": "stream",
     "text": [
      "('', 'tutorials', 'teacher is the best website.')\n",
      "('tutorialsteacher is the best website.', '', '')\n"
     ]
    }
   ],
   "source": [
    "mystr='tutorialsteacher is the best website.'\n",
    "print(mystr.partition('tutorials'))\n",
    "print(mystr.partition('Tutorials'))"
   ]
  },
  {
   "cell_type": "code",
   "execution_count": 8,
   "id": "5ddf483f-222b-4bf1-b72f-6703b4e2267a",
   "metadata": {},
   "outputs": [
    {
     "name": "stdout",
     "output_type": "stream",
     "text": [
      "Hello World         \n",
      "Hello World\n"
     ]
    }
   ],
   "source": [
    "#String rstrip() Method\n",
    "mystr= 'Hello World         '\n",
    "print(mystr)\n",
    "print(mystr.rstrip())"
   ]
  },
  {
   "cell_type": "code",
   "execution_count": 9,
   "id": "3db2df6b-a25a-4973-8fc5-e771ea6f817e",
   "metadata": {},
   "outputs": [
    {
     "name": "stdout",
     "output_type": "stream",
     "text": [
      "['hello', 'world']\n"
     ]
    }
   ],
   "source": [
    "#Split () Method\n",
    "mystr='hello world'\n",
    "print(mystr.split())"
   ]
  },
  {
   "cell_type": "code",
   "execution_count": 10,
   "id": "c49e64f9-15e1-4bbb-b00f-5f6750df1f41",
   "metadata": {},
   "outputs": [
    {
     "name": "stdout",
     "output_type": "stream",
     "text": [
      "['c', ' python', ' R', ' Java', ' SQL', ' Hadoop']\n"
     ]
    }
   ],
   "source": [
    "langs='c, python, R, Java, SQL, Hadoop'\n",
    "print(langs.split(','))"
   ]
  },
  {
   "cell_type": "code",
   "execution_count": 16,
   "id": "22dfd770-306c-4ff3-8c38-3fbce7cd5387",
   "metadata": {},
   "outputs": [
    {
     "name": "stdout",
     "output_type": "stream",
     "text": [
      "['apple', 'banana', 'mango', 'fig', 'pear']\n"
     ]
    }
   ],
   "source": [
    "Fruits='apple$banana$mango$fig$pear'\n",
    "print(Fruits.split('$'))"
   ]
  },
  {
   "cell_type": "code",
   "execution_count": 17,
   "id": "60ebb8de-21d6-43d5-9af4-3b8b542a0e2b",
   "metadata": {},
   "outputs": [
    {
     "data": {
      "text/plain": [
       "'HELLO WORLD'"
      ]
     },
     "execution_count": 17,
     "metadata": {},
     "output_type": "execute_result"
    }
   ],
   "source": [
    "#Upper () Method\n",
    "mystr=\"hello world\"\n",
    "mystr.upper()"
   ]
  },
  {
   "cell_type": "code",
   "execution_count": 18,
   "id": "c0fdd86b-2560-431a-aa66-e5868b81899f",
   "metadata": {},
   "outputs": [
    {
     "data": {
      "text/plain": [
       "'LOVELY CHAWLA'"
      ]
     },
     "execution_count": 18,
     "metadata": {},
     "output_type": "execute_result"
    }
   ],
   "source": [
    "mystr=\"Lovely Chawla\"\n",
    "mystr.upper()"
   ]
  },
  {
   "cell_type": "code",
   "execution_count": null,
   "id": "dc86d899-0508-4e05-a7ff-24a2fe5143da",
   "metadata": {},
   "outputs": [],
   "source": []
  }
 ],
 "metadata": {
  "kernelspec": {
   "display_name": "Python 3 (ipykernel)",
   "language": "python",
   "name": "python3"
  },
  "language_info": {
   "codemirror_mode": {
    "name": "ipython",
    "version": 3
   },
   "file_extension": ".py",
   "mimetype": "text/x-python",
   "name": "python",
   "nbconvert_exporter": "python",
   "pygments_lexer": "ipython3",
   "version": "3.11.7"
  }
 },
 "nbformat": 4,
 "nbformat_minor": 5
}
