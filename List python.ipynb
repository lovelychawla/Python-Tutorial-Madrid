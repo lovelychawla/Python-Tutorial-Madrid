{
 "cells": [
  {
   "cell_type": "code",
   "execution_count": 1,
   "id": "b3252dc2-5e00-4bda-a2d7-b2fda6046561",
   "metadata": {},
   "outputs": [
    {
     "data": {
      "text/plain": [
       "['H', 'e', 'l', 'l', 'o']"
      ]
     },
     "execution_count": 1,
     "metadata": {},
     "output_type": "execute_result"
    }
   ],
   "source": [
    "#List by using lsit Constructor\n",
    "ls=list(\"Hello\")\n",
    "#['h','e','l','l','u']\n",
    "ls"
   ]
  },
  {
   "cell_type": "code",
   "execution_count": 2,
   "id": "6a2d9aa1-5b9f-45d2-8e48-57daa8de9573",
   "metadata": {},
   "outputs": [
    {
     "data": {
      "text/plain": [
       "[12, 23, 3, 4]"
      ]
     },
     "execution_count": 2,
     "metadata": {},
     "output_type": "execute_result"
    }
   ],
   "source": [
    "ls=list((12,23,3,4))\n",
    "ls"
   ]
  },
  {
   "cell_type": "code",
   "execution_count": 6,
   "id": "50275d85-525c-4d33-84c8-4d68bbee9500",
   "metadata": {},
   "outputs": [
    {
     "name": "stdout",
     "output_type": "stream",
     "text": [
      "11\n",
      "44\n",
      "55\n"
     ]
    }
   ],
   "source": [
    "#Accessing of list element\n",
    "ls=[11,22,33,44,55,66]\n",
    "print(ls[0])\n",
    "print(ls[3])\n",
    "print(ls[-2])"
   ]
  },
  {
   "cell_type": "code",
   "execution_count": 9,
   "id": "532e9601-b0ee-4568-99ba-da3c4ee46e97",
   "metadata": {},
   "outputs": [
    {
     "name": "stdout",
     "output_type": "stream",
     "text": [
      "45\n",
      "89\n",
      "867\n"
     ]
    }
   ],
   "source": [
    "#Nested List\n",
    "ls=[12,23,34,45,[67,78,89,98,[98,867,76]],56,[87]]\n",
    "print(ls[3])\n",
    "print(ls[4][2])\n",
    "print(ls[4][4][1])\n"
   ]
  },
  {
   "cell_type": "code",
   "execution_count": 13,
   "id": "f8a0e1b4-d0bb-4451-a4d9-962a4ed93e3d",
   "metadata": {},
   "outputs": [
    {
     "name": "stdout",
     "output_type": "stream",
     "text": [
      "[12, 23, 34, 45, 56, 67]\n",
      "[12, 23, 'hello', 45, 56, 67]\n",
      "[12, 23, 'hello', 'How', 'are', 'you']\n"
     ]
    }
   ],
   "source": [
    "#Updation\n",
    "ls=[12, 23,34, 45, 56, 67]\n",
    "print(ls)\n",
    "ls[2]=\"hello\"\n",
    "print(ls)\n",
    "ls[3:6]=[\"How\", \"are\", \"you\"]\n",
    "print(ls)"
   ]
  },
  {
   "cell_type": "code",
   "execution_count": 17,
   "id": "5f474c7e-851b-46bb-858b-a84e43575002",
   "metadata": {},
   "outputs": [
    {
     "name": "stdout",
     "output_type": "stream",
     "text": [
      "[55, 66, 77, 88, 55]\n",
      "[23, 33, 44, 55, 66, 77, 88, 55]\n",
      "[55, 66, 77, 88, 55, 33, 45, 66, 88]\n",
      "[23, 33, 44, 55, 66, 77, 88, 55, 33, 45, 66, 88]\n"
     ]
    }
   ],
   "source": [
    "#Slice Operator\n",
    "ls=[23,33,44,55,66,77,88,55,33,45,66,88]\n",
    "print(ls[3:8])\n",
    "print(ls[:8])\n",
    "print(ls[3:])\n",
    "print(ls[:])"
   ]
  },
  {
   "cell_type": "code",
   "execution_count": 19,
   "id": "ea2bef1e-94b9-46a1-9e9e-88e39cfa4d4d",
   "metadata": {},
   "outputs": [
    {
     "name": "stdout",
     "output_type": "stream",
     "text": [
      "[87, 98, 89]\n",
      "[87, 98, 89, 78, 67, 56, 45, 34, 23, 12]\n"
     ]
    }
   ],
   "source": [
    "ls=[12,23,34,45,56,67,78,89,98,87]\n",
    "print(ls[-1:-4:-1])\n",
    "print(ls[::-1]) #:: Reverse of a number\n"
   ]
  },
  {
   "cell_type": "code",
   "execution_count": 20,
   "id": "96f478d0-3fa1-4734-a817-e2bc28f4b02f",
   "metadata": {},
   "outputs": [
    {
     "name": "stdout",
     "output_type": "stream",
     "text": [
      "[12, 23, 34, 45, 56, 67, 78, 89, 98, 87]\n",
      "[12, 23, 34, 45, 56, 78, 89, 98, 87]\n"
     ]
    }
   ],
   "source": [
    "#Delete an element from the list\n",
    "#Del Method\n",
    "ls=[12,23,34,45,56,67,78,89,98,87]\n",
    "print(ls)\n",
    "del ls[5]\n",
    "print(ls)"
   ]
  },
  {
   "cell_type": "code",
   "execution_count": 21,
   "id": "fa120459-362d-4f94-b5c6-7c2e61742752",
   "metadata": {},
   "outputs": [
    {
     "name": "stdout",
     "output_type": "stream",
     "text": [
      "[12, 23, 34, 45, 56, 67, 78, 89, 98, 87]\n",
      "[12, 23, 34, 56, 67, 78, 89, 98, 87]\n"
     ]
    }
   ],
   "source": [
    "#Pop Method\n",
    "ls=[12,23,34,45,56,67,78,89,98,87]\n",
    "print(ls)\n",
    "ls.pop(3)\n",
    "print(ls)"
   ]
  },
  {
   "cell_type": "code",
   "execution_count": 21,
   "id": "10a196fb-6564-491e-afba-c10900ac786d",
   "metadata": {},
   "outputs": [
    {
     "name": "stdout",
     "output_type": "stream",
     "text": [
      "[12, 23, 34, 45, 56, 67, 78, 89, 98, 87]\n",
      "[12, 23, 34, 56, 67, 78, 89, 98, 87]\n"
     ]
    }
   ],
   "source": [
    "#Pop Method\n",
    "ls=[12,23,34,45,56,67,78,89,98,87]\n",
    "print(ls)\n",
    "ls.pop(3)\n",
    "print(ls)"
   ]
  },
  {
   "cell_type": "code",
   "execution_count": 23,
   "id": "398a7152-86a8-49c4-b23f-dabbde0cda85",
   "metadata": {},
   "outputs": [
    {
     "name": "stdout",
     "output_type": "stream",
     "text": [
      "[12, 23, 34, 45, 56, 67, 78, 89, 98, 87]\n",
      "[12, 23, 34, 45, 56, 67, 78, 89, 98]\n",
      "[12, 23, 34, 45, 56, 67, 78, 89]\n",
      "[12, 23, 34, 45, 56, 67, 78]\n",
      "[12, 23, 34, 45, 56, 67]\n"
     ]
    }
   ],
   "source": [
    "#Pop Method 2\n",
    "ls=[12,23,34,45,56,67,78,89,98,87]\n",
    "print(ls)\n",
    "ls.pop()\n",
    "print(ls)\n",
    "ls.pop()\n",
    "print(ls)\n",
    "ls.pop()\n",
    "print(ls)\n",
    "ls.pop()\n",
    "print(ls)"
   ]
  },
  {
   "cell_type": "code",
   "execution_count": 24,
   "id": "c31a8ced-f161-4b69-a923-10a172fb976a",
   "metadata": {},
   "outputs": [
    {
     "name": "stdout",
     "output_type": "stream",
     "text": [
      "[12, 23, 34, 45, 56, 67, 78, 89, 98, 87]\n",
      "[12, 23, 34, 45, 67, 78, 89, 98, 87]\n"
     ]
    }
   ],
   "source": [
    "#Remove Method\n",
    "ls=[12,23,34,45,56,67,78,89,98,87]\n",
    "print(ls)\n",
    "ls.remove(56)\n",
    "print(ls)"
   ]
  },
  {
   "cell_type": "code",
   "execution_count": 5,
   "id": "39c0aeeb-b8d3-4de3-9cdd-9c2d101d1522",
   "metadata": {},
   "outputs": [
    {
     "name": "stdout",
     "output_type": "stream",
     "text": [
      "[12, 23, 45, 56, 77, 65, 78]\n",
      "[12, 23, 45, 56, 77, 65, 78, 98]\n"
     ]
    }
   ],
   "source": [
    "#List Method\n",
    "#Append Method\n",
    "ls=[12,23,45,56,77,65,78]\n",
    "print(ls)\n",
    "ls.append(98)\n",
    "print(ls)"
   ]
  },
  {
   "cell_type": "code",
   "execution_count": 4,
   "id": "fe17ca46-421b-49d7-b982-3d568598d315",
   "metadata": {},
   "outputs": [
    {
     "name": "stdout",
     "output_type": "stream",
     "text": [
      "[12, 23, 45, 56, 77, 65, 78]\n",
      "[12, 23, 45, 56, 77, 65, 78, [98, 'hello', 'How are you']]\n"
     ]
    }
   ],
   "source": [
    "ls=[12,23,45,56,77,65,78]\n",
    "print(ls)\n",
    "ls.append([98,\"hello\", \"How are you\"])\n",
    "print(ls)"
   ]
  },
  {
   "cell_type": "code",
   "execution_count": 7,
   "id": "e090602b-6a13-40d9-be12-7336fbe4c9d0",
   "metadata": {},
   "outputs": [
    {
     "name": "stdin",
     "output_type": "stream",
     "text": [
      "enter the number 12\n",
      "enter the number 33\n",
      "enter the number 44\n",
      "enter the number 56\n",
      "enter the number 77\n",
      "enter the number 88\n",
      "enter the number 88\n",
      "enter the number 66\n",
      "enter the number 44\n",
      "enter the number 56\n"
     ]
    },
    {
     "name": "stdout",
     "output_type": "stream",
     "text": [
      "[12, 33, 44, 56, 77, 88, 88, 66, 44, 56]\n"
     ]
    }
   ],
   "source": [
    "#make a list of 10 Numbers of your choice\n",
    "ls=[]\n",
    "for i in range(10):\n",
    "    n=int(input(\"enter the number\"))\n",
    "    ls.append(n)\n",
    "print(ls)"
   ]
  },
  {
   "cell_type": "code",
   "execution_count": 8,
   "id": "b236c41c-2b91-4213-86ed-f792c7fd0eac",
   "metadata": {},
   "outputs": [
    {
     "name": "stdin",
     "output_type": "stream",
     "text": [
      "enter the number 23\n",
      "enter the number 23\n",
      "enter the number 445\n",
      "enter the number 66\n",
      "enter the number 44\n",
      "enter the number 33\n",
      "enter the number 2\n",
      "enter the number 2\n",
      "enter the number 55\n",
      "enter the number 77\n"
     ]
    },
    {
     "name": "stdout",
     "output_type": "stream",
     "text": [
      "[23, 23, 445, 66, 44, 33, 2, 2, 55, 77]\n",
      "[66, 44, 2, 2]\n",
      "[23, 23, 445, 33, 55, 77]\n"
     ]
    }
   ],
   "source": [
    "#Make a list of odd & even numbers seprately\n",
    "ls=[]\n",
    "ls_e=[]\n",
    "ls_o=[]\n",
    "for i in range(10):\n",
    "    n=int(input(\"enter the number\"))\n",
    "    ls.append(n)\n",
    "for i in ls:\n",
    "    if i%2==0:\n",
    "        ls_e.append(i)\n",
    "    else:\n",
    "        ls_o.append(i)\n",
    "print(ls)\n",
    "print(ls_e)\n",
    "print(ls_o)"
   ]
  },
  {
   "cell_type": "code",
   "execution_count": 14,
   "id": "cd40781f-e0c2-4bfd-be12-bd7c52ca895d",
   "metadata": {},
   "outputs": [
    {
     "name": "stdin",
     "output_type": "stream",
     "text": [
      "enter the number 22\n",
      "enter the number 44\n",
      "enter the number 66\n",
      "enter the number 77\n",
      "enter the number 55\n"
     ]
    },
    {
     "name": "stdout",
     "output_type": "stream",
     "text": [
      "[22, 44, 66, 77, 55]\n",
      "the largest number is 77\n"
     ]
    }
   ],
   "source": [
    "#Find largest Element in the list\n",
    "ls=[]\n",
    "for i in range(5):\n",
    "    n=int(input(\"enter the number\"))\n",
    "    ls.append(n)\n",
    "print(ls)\n",
    "print(\"the largest number is\",max(ls))"
   ]
  },
  {
   "cell_type": "code",
   "execution_count": 18,
   "id": "2e155a94-fe6f-45b7-84e2-5277804fdb0d",
   "metadata": {},
   "outputs": [
    {
     "name": "stdout",
     "output_type": "stream",
     "text": [
      "enter 1 number\n"
     ]
    },
    {
     "name": "stdin",
     "output_type": "stream",
     "text": [
      "enter the number 23\n"
     ]
    },
    {
     "name": "stdout",
     "output_type": "stream",
     "text": [
      "enter 2 number\n"
     ]
    },
    {
     "name": "stdin",
     "output_type": "stream",
     "text": [
      "enter the number 55\n"
     ]
    },
    {
     "name": "stdout",
     "output_type": "stream",
     "text": [
      "enter 3 number\n"
     ]
    },
    {
     "name": "stdin",
     "output_type": "stream",
     "text": [
      "enter the number 66\n"
     ]
    },
    {
     "name": "stdout",
     "output_type": "stream",
     "text": [
      "enter 4 number\n"
     ]
    },
    {
     "name": "stdin",
     "output_type": "stream",
     "text": [
      "enter the number 55\n"
     ]
    },
    {
     "name": "stdout",
     "output_type": "stream",
     "text": [
      "enter 5 number\n"
     ]
    },
    {
     "name": "stdin",
     "output_type": "stream",
     "text": [
      "enter the number 33\n"
     ]
    },
    {
     "name": "stdout",
     "output_type": "stream",
     "text": [
      "[23, 55, 66, 55, 33]\n",
      "the largest number is 66\n"
     ]
    }
   ],
   "source": [
    "ls=[]\n",
    "for i in range(5):\n",
    "    print(\"enter\", i+1, \"number\")\n",
    "    n=int(input(\"enter the number\"))\n",
    "    ls.append(n)\n",
    "print(ls)\n",
    "print(\"the largest number is\",max(ls))"
   ]
  },
  {
   "cell_type": "code",
   "execution_count": 19,
   "id": "e8a36fcb-0632-4424-a802-8805c916fa52",
   "metadata": {},
   "outputs": [
    {
     "name": "stdin",
     "output_type": "stream",
     "text": [
      "enter the number 33\n",
      "enter the number 45\n",
      "enter the number 77\n",
      "enter the number 88\n",
      "enter the number 99\n"
     ]
    },
    {
     "name": "stdout",
     "output_type": "stream",
     "text": [
      "[33, 45, 77, 88, 99]\n",
      "the largest number is 99\n"
     ]
    }
   ],
   "source": [
    "ls=[]\n",
    "for i in range(5):\n",
    "    n=int(input(\"enter the number\"))\n",
    "    ls.append(n)\n",
    "print(ls)\n",
    "m=ls[0]\n",
    "for i in ls:\n",
    "    if i>m:\n",
    "        m=i\n",
    "print (\"the largest number is\",m)"
   ]
  },
  {
   "cell_type": "code",
   "execution_count": 21,
   "id": "3bd4bfa5-ef39-4497-8495-fa8892004f8d",
   "metadata": {},
   "outputs": [
    {
     "name": "stdin",
     "output_type": "stream",
     "text": [
      "enter the number 44\n",
      "enter the number 55\n",
      "enter the number 66\n",
      "enter the number 77\n",
      "enter the number 88\n"
     ]
    },
    {
     "name": "stdout",
     "output_type": "stream",
     "text": [
      "[44, 55, 66, 77, 88]\n",
      "the minimun number is 44\n"
     ]
    }
   ],
   "source": [
    "#Find Min of of the list\n",
    "ls=[]\n",
    "for i in range(5):\n",
    "    n=int(input(\"enter the number\"))\n",
    "    ls.append(n)\n",
    "print(ls)\n",
    "print(\"the minimun number is\",min(ls))\n"
   ]
  },
  {
   "cell_type": "code",
   "execution_count": 22,
   "id": "7bbbf30d-52bc-49cb-94a3-e67674e2e67b",
   "metadata": {},
   "outputs": [
    {
     "name": "stdin",
     "output_type": "stream",
     "text": [
      "enter the number 22\n",
      "enter the number 66\n",
      "enter the number 55\n",
      "enter the number 44\n",
      "enter the number 33\n"
     ]
    },
    {
     "name": "stdout",
     "output_type": "stream",
     "text": [
      "the minimun number is 22\n"
     ]
    }
   ],
   "source": [
    "#Find Min of of the list\n",
    "ls=[]\n",
    "for i in range(5):\n",
    "    n=int(input(\"enter the number\"))\n",
    "    ls.append(n)\n",
    "m=ls[0]\n",
    "for i in ls:\n",
    "    if i<m:\n",
    "        m=i\n",
    "print(\"the minimun number is\",m)"
   ]
  },
  {
   "cell_type": "code",
   "execution_count": 26,
   "id": "4f001899-6490-4ce4-8858-854367163fc8",
   "metadata": {},
   "outputs": [
    {
     "name": "stdin",
     "output_type": "stream",
     "text": [
      " 55\n",
      " 44\n",
      " 66\n",
      " 77\n",
      " 88\n",
      " 99\n",
      " 66\n",
      " 55\n",
      " 44\n",
      " 44\n"
     ]
    },
    {
     "name": "stdout",
     "output_type": "stream",
     "text": [
      "[55, 44, 66, 77, 88, 99, 66, 55, 44, 44]\n"
     ]
    },
    {
     "name": "stdin",
     "output_type": "stream",
     "text": [
      "enter the comparision number 78\n"
     ]
    },
    {
     "name": "stdout",
     "output_type": "stream",
     "text": [
      "count Greater number 2\n",
      "count Small number 8\n",
      "count Equal number 0\n"
     ]
    }
   ],
   "source": [
    "#Find largest element in the list\n",
    "ls=[]\n",
    "cg=0\n",
    "ce=0\n",
    "cs=0\n",
    "for i in range(10):\n",
    "    n=int(input())\n",
    "    ls.append(n)\n",
    "print (ls)\n",
    "choice=int(input(\"enter the comparision number\"))\n",
    "for i in ls:\n",
    "    if i>choice:\n",
    "        cg=cg+1\n",
    "    elif i<choice:\n",
    "        cs=cs+1\n",
    "    else:\n",
    "        ce=ce+1\n",
    "print(\"count Greater number\",cg)\n",
    "print(\"count Small number\",cs)\n",
    "print(\"count Equal number\",ce)\n",
    "\n",
    "\n"
   ]
  },
  {
   "cell_type": "code",
   "execution_count": 29,
   "id": "e34c051c-7542-4dbe-b460-a7af10d26370",
   "metadata": {},
   "outputs": [
    {
     "name": "stdin",
     "output_type": "stream",
     "text": [
      "enter the number 22\n",
      "enter the number 33\n",
      "enter the number 44\n",
      "enter the number 55\n",
      "enter the number 66\n",
      "enter the number 33\n",
      "enter the number 4\n",
      "enter the number 44\n",
      "enter the number 33\n",
      "enter the number 55\n"
     ]
    },
    {
     "name": "stdout",
     "output_type": "stream",
     "text": [
      "[22, 33, 44, 55, 66, 33, 4, 44, 33, 55]\n"
     ]
    },
    {
     "name": "stdin",
     "output_type": "stream",
     "text": [
      "enter the number to be search 33\n"
     ]
    },
    {
     "name": "stdout",
     "output_type": "stream",
     "text": [
      "33 is found at 2 position\n",
      "33 is found at 6 position\n",
      "33 is found at 9 position\n"
     ]
    }
   ],
   "source": [
    "#Find the occurence of the element in the list with position\n",
    "ls=[]\n",
    "for i in range(10):\n",
    "    n=int(input(\"enter the number\"))\n",
    "    ls.append(n)\n",
    "print(ls)\n",
    "\n",
    "co=0\n",
    "n1=int(input(\"enter the number to be search\"))\n",
    "for i in range (len(ls)):\n",
    "    if n1==ls[i]:\n",
    "        co=co+1\n",
    "        if co>0:\n",
    "            print(n1,\"is found at\",i+1,\"position\")\n"
   ]
  },
  {
   "cell_type": "code",
   "execution_count": 1,
   "id": "cffa4276-2b91-4991-9ab3-677ab5f70a24",
   "metadata": {},
   "outputs": [
    {
     "name": "stdout",
     "output_type": "stream",
     "text": [
      "[12, 23, 44, 55, 67]\n",
      "[12, 23, 44, 55, 67, 98, 87, 76]\n"
     ]
    }
   ],
   "source": [
    "#Extend Method\n",
    "ls=[12,23,44,55,67]\n",
    "print(ls)\n",
    "ls.extend((98,87,76))\n",
    "print(ls)"
   ]
  },
  {
   "cell_type": "code",
   "execution_count": 2,
   "id": "32217dc0-a796-4c18-98ad-08061f591a1b",
   "metadata": {},
   "outputs": [
    {
     "name": "stdout",
     "output_type": "stream",
     "text": [
      "[12, 23, 44, 55, 67]\n",
      "[12, 23, 44, 55, 67, 98, 87, 76]\n"
     ]
    }
   ],
   "source": [
    "ls=[12,23,44,55,67]\n",
    "print(ls)\n",
    "ls.extend([98,87,76])\n",
    "print(ls)"
   ]
  },
  {
   "cell_type": "code",
   "execution_count": 3,
   "id": "10da4551-a6db-4ae6-9a7e-da0addba36f2",
   "metadata": {},
   "outputs": [
    {
     "name": "stdout",
     "output_type": "stream",
     "text": [
      "[12, 23, 44, 55, 67, 'Hello', 'How', 'are', 'you']\n"
     ]
    }
   ],
   "source": [
    "ls=[12,23,44,55,67]\n",
    "ls2=[\"Hello\",\"How\",\"are\",\"you\"]\n",
    "ls.extend(ls2)\n",
    "print(ls)"
   ]
  },
  {
   "cell_type": "code",
   "execution_count": 5,
   "id": "6d2cae65-6282-489a-aca1-794a34f4cab0",
   "metadata": {},
   "outputs": [
    {
     "name": "stdout",
     "output_type": "stream",
     "text": [
      "[12, 23, 44, 55, 67]\n",
      "[12, 23, 44, 'lovely', 55, 67]\n"
     ]
    }
   ],
   "source": [
    "#Index Method\n",
    "ls=[12,23,44,55,67]\n",
    "print(ls)\n",
    "ls.insert(3,\"lovely\")\n",
    "print(ls)"
   ]
  },
  {
   "cell_type": "code",
   "execution_count": 9,
   "id": "dbc1dc3e-8cd4-4cf5-8d2f-c92a8a124dd1",
   "metadata": {},
   "outputs": [
    {
     "name": "stdout",
     "output_type": "stream",
     "text": [
      "[12, 23, 44, 55, 67]\n",
      "[]\n"
     ]
    }
   ],
   "source": [
    "#Clear Method\n",
    "ls=[12,23,44,55,67]\n",
    "print(ls)\n",
    "ls.clear()\n",
    "print(ls)"
   ]
  },
  {
   "cell_type": "code",
   "execution_count": 10,
   "id": "e1bd7b39-f2c1-450b-801c-50c09c0efdd4",
   "metadata": {},
   "outputs": [
    {
     "name": "stdout",
     "output_type": "stream",
     "text": [
      "[12, 23, 44, 55, 67, 23, 34, 23]\n",
      "3\n"
     ]
    }
   ],
   "source": [
    "#Count Method\n",
    "ls=[12,23,44,55,67,23,34,23]\n",
    "print(ls)\n",
    "x=ls.count(23)\n",
    "print(x)"
   ]
  },
  {
   "cell_type": "code",
   "execution_count": 13,
   "id": "4e952dc9-7864-428d-b108-cc0a1a38d3f1",
   "metadata": {},
   "outputs": [
    {
     "name": "stdout",
     "output_type": "stream",
     "text": [
      "[12, 23, 44, 55, 67, 23, 34, 23]\n",
      "1\n"
     ]
    }
   ],
   "source": [
    "#Index Method\n",
    "ls=[12,23,44,55,67,23,34,23]\n",
    "print(ls)\n",
    "x=ls.index(23)\n",
    "print(x)"
   ]
  },
  {
   "cell_type": "code",
   "execution_count": 14,
   "id": "a2fb230c-c503-4d82-8a06-262cd45e423c",
   "metadata": {},
   "outputs": [
    {
     "name": "stdout",
     "output_type": "stream",
     "text": [
      "[12, 23, 44, 55, 67, 23, 34, 23]\n",
      "[23, 34, 23, 67, 55, 44, 23, 12]\n"
     ]
    }
   ],
   "source": [
    "#Reverse Method\n",
    "ls=[12,23,44,55,67,23,34,23]\n",
    "print(ls)\n",
    "ls.reverse()\n",
    "print(ls)\n"
   ]
  },
  {
   "cell_type": "code",
   "execution_count": 17,
   "id": "97e131db-bdfc-4602-a5c5-88821a22ee7a",
   "metadata": {},
   "outputs": [
    {
     "name": "stdout",
     "output_type": "stream",
     "text": [
      "[12, 23, 44, 55, 67, 23, 34, 23]\n",
      "[12, 23, 23, 23, 34, 44, 55, 67]\n"
     ]
    }
   ],
   "source": [
    "#Sort Method\n",
    "#for Ascending Order\n",
    "ls=[12,23,44,55,67,23,34,23]\n",
    "print(ls)\n",
    "ls.sort()\n",
    "print(ls)"
   ]
  },
  {
   "cell_type": "code",
   "execution_count": 19,
   "id": "09c5ad27-8ccf-4b1f-ac92-76d1a25fe0d5",
   "metadata": {},
   "outputs": [
    {
     "name": "stdout",
     "output_type": "stream",
     "text": [
      "[12, 23, 44, 55, 67, 23, 34, 23]\n",
      "[67, 55, 44, 34, 23, 23, 23, 12]\n"
     ]
    }
   ],
   "source": [
    "#Sort Method\n",
    "#for Descending Order\n",
    "ls=[12,23,44,55,67,23,34,23]\n",
    "print(ls)\n",
    "ls.sort(reverse=True)\n",
    "print(ls)"
   ]
  },
  {
   "cell_type": "code",
   "execution_count": 22,
   "id": "e85c1216-2bba-4b23-93bc-81583bdcf92b",
   "metadata": {},
   "outputs": [
    {
     "name": "stdout",
     "output_type": "stream",
     "text": [
      "[12, 23, 44, 55, 67, 23, 34, 23]\n",
      "[12, 23, 44, 55, 67, 23, 34, 23]\n",
      "[12, 23, 'lovely', 55, 67, 23, 34, 23]\n",
      "[12, 23, 'lovely', 55, 67, 23, 34, 23]\n"
     ]
    }
   ],
   "source": [
    "#Copy Method\n",
    "#For \"=\" Operator\n",
    "ls=[12,23,44,55,67,23,34,23]\n",
    "ls1=ls\n",
    "print(ls)\n",
    "print(ls1)\n",
    "ls[2]=\"lovely\"\n",
    "print(ls)\n",
    "print(ls1)\n",
    "\n"
   ]
  },
  {
   "cell_type": "code",
   "execution_count": 23,
   "id": "6028305b-4f6c-4edc-8d8a-f080fbc6918d",
   "metadata": {},
   "outputs": [
    {
     "name": "stdout",
     "output_type": "stream",
     "text": [
      "[12, 23, 44, 55, 67, 23, 34, 23]\n",
      "[12, 23, 44, 55, 67, 23, 34, 23]\n",
      "[12, 23, 'lovely', 55, 67, 23, 34, 23]\n",
      "[12, 23, 44, 55, 67, 23, 34, 23]\n"
     ]
    }
   ],
   "source": [
    "#Copy Method\n",
    "#For \"Copy\" Operator\n",
    "ls=[12,23,44,55,67,23,34,23]\n",
    "ls1=ls.copy()\n",
    "print(ls)\n",
    "print(ls1)\n",
    "ls[2]=\"lovely\"\n",
    "print(ls)\n",
    "print(ls1)\n"
   ]
  },
  {
   "cell_type": "code",
   "execution_count": null,
   "id": "fb4cfc58-928e-40dc-ae45-fee1d759be59",
   "metadata": {},
   "outputs": [],
   "source": []
  }
 ],
 "metadata": {
  "kernelspec": {
   "display_name": "Python 3 (ipykernel)",
   "language": "python",
   "name": "python3"
  },
  "language_info": {
   "codemirror_mode": {
    "name": "ipython",
    "version": 3
   },
   "file_extension": ".py",
   "mimetype": "text/x-python",
   "name": "python",
   "nbconvert_exporter": "python",
   "pygments_lexer": "ipython3",
   "version": "3.11.7"
  }
 },
 "nbformat": 4,
 "nbformat_minor": 5
}
